{
  "nbformat": 4,
  "nbformat_minor": 0,
  "metadata": {
    "colab": {
      "name": "_NumPy 한번에 제대로 배우기.ipynb",
      "provenance": [],
      "collapsed_sections": [],
      "toc_visible": true,
      "include_colab_link": true
    },
    "kernelspec": {
      "name": "python3",
      "display_name": "Python 3"
    }
  },
  "cells": [
    {
      "cell_type": "markdown",
      "metadata": {
        "id": "view-in-github",
        "colab_type": "text"
      },
      "source": [
        "<a href=\"https://colab.research.google.com/github/juhee3199/Data-Analysis/blob/main/Data_Handling/_NumPy_%ED%95%9C%EB%B2%88%EC%97%90_%EC%A0%9C%EB%8C%80%EB%A1%9C_%EB%B0%B0%EC%9A%B0%EA%B8%B0.ipynb\" target=\"_parent\"><img src=\"https://colab.research.google.com/assets/colab-badge.svg\" alt=\"Open In Colab\"/></a>"
      ]
    },
    {
      "cell_type": "markdown",
      "metadata": {
        "id": "J_FfQuu2Tb30"
      },
      "source": [
        "# NumPy 한번에 제대로 배우기"
      ]
    },
    {
      "cell_type": "markdown",
      "metadata": {
        "id": "Zgrrh9T2vs8u"
      },
      "source": [
        "\n",
        "\n",
        "---\n",
        "\n"
      ]
    },
    {
      "cell_type": "markdown",
      "metadata": {
        "id": "oR5hNBH-Retd"
      },
      "source": [
        "## NumPy 특징\n",
        "\n",
        "* Numerical Python의 약자\n",
        "* 고성능 과학 계산용 패키지로 강력한 N차원 배열 객체\n",
        "* 범용적 데이터 처리에 사용 가능한 다차원 컨테이너\n",
        "* 정교한 브로드캐스팅(broadcasting) 기능\n",
        "* 파이썬의 자료형 list와 비슷하지만, 더 빠르고 메모리를 효율적으로 관리\n",
        "* 반복문 없이 데이터 배열에 대한 처리를 지원하여 빠르고 편리\n",
        "* 데이터 과학 도구에 대한 생태계의 핵심을 이루고 있음"
      ]
    },
    {
      "cell_type": "code",
      "metadata": {
        "id": "R9klTdhLQ564",
        "colab": {
          "base_uri": "https://localhost:8080/",
          "height": 36
        },
        "outputId": "082dbd40-8882-48a9-c305-106c623a1401"
      },
      "source": [
        "import numpy as np\n",
        "np.__version__"
      ],
      "execution_count": 3,
      "outputs": [
        {
          "output_type": "execute_result",
          "data": {
            "text/plain": [
              "'1.21.5'"
            ],
            "application/vnd.google.colaboratory.intrinsic+json": {
              "type": "string"
            }
          },
          "metadata": {},
          "execution_count": 3
        }
      ]
    },
    {
      "cell_type": "markdown",
      "metadata": {
        "id": "2hSWC5ptGyWP"
      },
      "source": [
        "\n",
        "\n",
        "---\n",
        "\n"
      ]
    },
    {
      "cell_type": "markdown",
      "metadata": {
        "id": "1kgkJZFlVUqk"
      },
      "source": [
        "## 1. 배열 생성"
      ]
    },
    {
      "cell_type": "markdown",
      "metadata": {
        "id": "5eQ4sAkMbzm0"
      },
      "source": [
        "### 리스트로 배열 만들기\n"
      ]
    },
    {
      "cell_type": "code",
      "metadata": {
        "id": "Mtod2jcPWVvV",
        "colab": {
          "base_uri": "https://localhost:8080/"
        },
        "outputId": "779b8a9e-f618-46c4-b7cb-8348f1da5e10"
      },
      "source": [
        "# 1D array\n",
        "a1 = np.array([1,2,3,4,5])\n",
        "print(a1)\n",
        "print(type(a1))\n",
        "print(a1.shape)   # 5개의 element를 가진 1차원 배열"
      ],
      "execution_count": 9,
      "outputs": [
        {
          "output_type": "stream",
          "name": "stdout",
          "text": [
            "[1 2 3 4 5]\n",
            "<class 'numpy.ndarray'>\n",
            "(5,)\n"
          ]
        }
      ]
    },
    {
      "cell_type": "markdown",
      "source": [
        "리스트처럼 인덱스로 접근, 수정 가능"
      ],
      "metadata": {
        "id": "LHa66LJhHx81"
      }
    },
    {
      "cell_type": "code",
      "source": [
        "print(a1[0])\n",
        "\n",
        "a1[0]=4\n",
        "print(a1)"
      ],
      "metadata": {
        "colab": {
          "base_uri": "https://localhost:8080/"
        },
        "id": "eaXxb2ppHuDj",
        "outputId": "80f7a477-ee80-4b32-fe74-424ccdaea619"
      },
      "execution_count": null,
      "outputs": [
        {
          "output_type": "stream",
          "name": "stdout",
          "text": [
            "4\n",
            "[4 2 3 4 5]\n"
          ]
        }
      ]
    },
    {
      "cell_type": "code",
      "metadata": {
        "id": "vp9tkHH8esXT",
        "colab": {
          "base_uri": "https://localhost:8080/"
        },
        "outputId": "5778e80a-d940-43f6-8864-e0791a91de86"
      },
      "source": [
        "# 2D array\n",
        "\n",
        "a2 = np.array([[1,2,3], [4,5,6], [7,8,9]])\n",
        "print(a2)\n",
        "print(a2.shape)  # 3*3 array 생성"
      ],
      "execution_count": 4,
      "outputs": [
        {
          "output_type": "stream",
          "name": "stdout",
          "text": [
            "[[1 2 3]\n",
            " [4 5 6]\n",
            " [7 8 9]]\n",
            "(3, 3)\n"
          ]
        }
      ]
    },
    {
      "cell_type": "code",
      "source": [
        "a2[0,2]"
      ],
      "metadata": {
        "colab": {
          "base_uri": "https://localhost:8080/"
        },
        "id": "LqeUR-hgID4l",
        "outputId": "605d110c-c434-4aa2-cb20-92518ef18452"
      },
      "execution_count": null,
      "outputs": [
        {
          "output_type": "execute_result",
          "data": {
            "text/plain": [
              "3"
            ]
          },
          "metadata": {},
          "execution_count": 12
        }
      ]
    },
    {
      "cell_type": "code",
      "metadata": {
        "id": "Baj4gZ2meuJu",
        "colab": {
          "base_uri": "https://localhost:8080/"
        },
        "outputId": "b8063f4e-f0bc-4d2b-89ab-57d996d5abf4"
      },
      "source": [
        "# 3Darray\n",
        "\n",
        "a3 = np.array([[[1,2,3], [4,5,6], [7,8,9]],\n",
        "          [[1,2,3], [4,5,6], [7,8,9]],\n",
        "          [[1,2,3], [4,5,6], [7,8,9]]])\n",
        "print(a3)\n",
        "print(a3.shape)"
      ],
      "execution_count": 7,
      "outputs": [
        {
          "output_type": "stream",
          "name": "stdout",
          "text": [
            "[[[1 2 3]\n",
            "  [4 5 6]\n",
            "  [7 8 9]]\n",
            "\n",
            " [[1 2 3]\n",
            "  [4 5 6]\n",
            "  [7 8 9]]\n",
            "\n",
            " [[1 2 3]\n",
            "  [4 5 6]\n",
            "  [7 8 9]]]\n",
            "(3, 3, 3)\n"
          ]
        }
      ]
    },
    {
      "cell_type": "markdown",
      "metadata": {
        "id": "PNkKtw4CoSDB"
      },
      "source": [
        "### 배열 생성 및 초기화"
      ]
    },
    {
      "cell_type": "markdown",
      "metadata": {
        "id": "mJVii5p_VfgM"
      },
      "source": [
        "* `zeros()`: 모든 요소를 0으로 초기화"
      ]
    },
    {
      "cell_type": "code",
      "metadata": {
        "id": "W_SF1tVoVTf1",
        "colab": {
          "base_uri": "https://localhost:8080/"
        },
        "outputId": "ed4b61d6-7be4-4f53-c139-27828bc3218b"
      },
      "source": [
        "np.zeros(10)"
      ],
      "execution_count": null,
      "outputs": [
        {
          "output_type": "execute_result",
          "data": {
            "text/plain": [
              "array([0., 0., 0., 0., 0., 0., 0., 0., 0., 0.])"
            ]
          },
          "metadata": {},
          "execution_count": 16
        }
      ]
    },
    {
      "cell_type": "markdown",
      "metadata": {
        "id": "LjYFQrODVqhX"
      },
      "source": [
        "* `ones()`: 모든 요소를 1로 초기화"
      ]
    },
    {
      "cell_type": "code",
      "metadata": {
        "id": "MURoqsMsVeUw",
        "colab": {
          "base_uri": "https://localhost:8080/"
        },
        "outputId": "2272c3ce-e108-474c-95ae-75892876095b"
      },
      "source": [
        "np.ones(10)"
      ],
      "execution_count": null,
      "outputs": [
        {
          "output_type": "execute_result",
          "data": {
            "text/plain": [
              "array([1., 1., 1., 1., 1., 1., 1., 1., 1., 1.])"
            ]
          },
          "metadata": {},
          "execution_count": 17
        }
      ]
    },
    {
      "cell_type": "code",
      "source": [
        "np.ones((3,3))"
      ],
      "metadata": {
        "colab": {
          "base_uri": "https://localhost:8080/"
        },
        "id": "U_UoJmA6Jybb",
        "outputId": "5294eaf8-21c1-4779-8edd-8100c4f64aca"
      },
      "execution_count": null,
      "outputs": [
        {
          "output_type": "execute_result",
          "data": {
            "text/plain": [
              "array([[1., 1., 1.],\n",
              "       [1., 1., 1.],\n",
              "       [1., 1., 1.]])"
            ]
          },
          "metadata": {},
          "execution_count": 18
        }
      ]
    },
    {
      "cell_type": "markdown",
      "metadata": {
        "id": "jnmm3Cj-cGtx"
      },
      "source": [
        "* `full()`: 모든 요소를 지정한 값으로 초기화\n",
        "    - full(shpae, 초기화할 지정 값)"
      ]
    },
    {
      "cell_type": "code",
      "metadata": {
        "id": "oscabrdcV7Ny",
        "colab": {
          "base_uri": "https://localhost:8080/"
        },
        "outputId": "f3d28a75-12aa-4a3d-df4e-a5d50dfed851"
      },
      "source": [
        "np.full((3,3), 1.25)"
      ],
      "execution_count": null,
      "outputs": [
        {
          "output_type": "execute_result",
          "data": {
            "text/plain": [
              "array([[1.25, 1.25, 1.25],\n",
              "       [1.25, 1.25, 1.25],\n",
              "       [1.25, 1.25, 1.25]])"
            ]
          },
          "metadata": {},
          "execution_count": 19
        }
      ]
    },
    {
      "cell_type": "markdown",
      "metadata": {
        "id": "0SRI4jbmlIKc"
      },
      "source": [
        "* `eye()`: 단위행렬(identity matrix) 생성\n",
        "  + 주대각선의 원소가 모두 1이고 나머지 원소는 모두 0인 정사각 행렬"
      ]
    },
    {
      "cell_type": "code",
      "metadata": {
        "id": "VceBVLLjk9o5",
        "colab": {
          "base_uri": "https://localhost:8080/"
        },
        "outputId": "115caad0-a753-403b-8e15-ea656a058082"
      },
      "source": [
        "np.eye(3)"
      ],
      "execution_count": null,
      "outputs": [
        {
          "output_type": "execute_result",
          "data": {
            "text/plain": [
              "array([[1., 0., 0.],\n",
              "       [0., 1., 0.],\n",
              "       [0., 0., 1.]])"
            ]
          },
          "metadata": {},
          "execution_count": 21
        }
      ]
    },
    {
      "cell_type": "markdown",
      "metadata": {
        "id": "7CCH1ZMT5R02"
      },
      "source": [
        "* `tri()`: 삼각행렬 생성. 삼각 모양으로 1이 생성"
      ]
    },
    {
      "cell_type": "code",
      "metadata": {
        "id": "mLe2Bhj05VYu",
        "colab": {
          "base_uri": "https://localhost:8080/"
        },
        "outputId": "dff23875-a952-47ac-fd15-ec38eb3ea641"
      },
      "source": [
        "np.tri(3)"
      ],
      "execution_count": null,
      "outputs": [
        {
          "output_type": "execute_result",
          "data": {
            "text/plain": [
              "array([[1., 0., 0.],\n",
              "       [1., 1., 0.],\n",
              "       [1., 1., 1.]])"
            ]
          },
          "metadata": {},
          "execution_count": 22
        }
      ]
    },
    {
      "cell_type": "markdown",
      "metadata": {
        "id": "ObZRA4HclZlO"
      },
      "source": [
        "* `empty()`: 초기화되지 않은 배열 생성\n",
        "  + 초기화가 없어서 배열 생성비용 저렴하고 빠름\n",
        "  + 초기화되지 않아서 기존 메모리 위치에 존재하는 값이 있음\n",
        "  + 그래서 어떤 값이 나올지 모름"
      ]
    },
    {
      "cell_type": "code",
      "metadata": {
        "id": "I3SoFgiglAkz",
        "colab": {
          "base_uri": "https://localhost:8080/"
        },
        "outputId": "23a0abcb-d759-40f4-a053-c753986f9057"
      },
      "source": [
        "np.empty(10)"
      ],
      "execution_count": null,
      "outputs": [
        {
          "output_type": "execute_result",
          "data": {
            "text/plain": [
              "array([1., 1., 1., 1., 1., 1., 1., 1., 1., 1.])"
            ]
          },
          "metadata": {},
          "execution_count": 23
        }
      ]
    },
    {
      "cell_type": "markdown",
      "metadata": {
        "id": "p3uSl1Ccmi5_"
      },
      "source": [
        "* `_like()`: 지정된 배열과 shape가 같은 행렬 생성\n",
        "  + `np.zeros_like()`\n",
        "  + `np.ones_like()`\n",
        "  + `np.full_like()`\n",
        "  + `np.empty_like()`"
      ]
    },
    {
      "cell_type": "code",
      "metadata": {
        "id": "Ad5RskRRlZLs",
        "colab": {
          "base_uri": "https://localhost:8080/"
        },
        "outputId": "6ad13daa-a2ff-42af-a16f-d3e31dabd17b"
      },
      "source": [
        "print(a1)\n",
        "np.zeros_like(a1) # a1과 같은 shape의 0으로 채워진 배열"
      ],
      "execution_count": null,
      "outputs": [
        {
          "output_type": "stream",
          "name": "stdout",
          "text": [
            "[4 2 3 4 5]\n"
          ]
        },
        {
          "output_type": "execute_result",
          "data": {
            "text/plain": [
              "array([0, 0, 0, 0, 0])"
            ]
          },
          "metadata": {},
          "execution_count": 24
        }
      ]
    },
    {
      "cell_type": "code",
      "metadata": {
        "id": "KChUHsG003Nf",
        "colab": {
          "base_uri": "https://localhost:8080/"
        },
        "outputId": "aa26bfab-8843-43f3-f0cf-934b0bc7bca6"
      },
      "source": [
        "print(a2)\n",
        "np.ones_like(a2)"
      ],
      "execution_count": null,
      "outputs": [
        {
          "output_type": "stream",
          "name": "stdout",
          "text": [
            "[[1 2 3]\n",
            " [4 5 6]\n",
            " [7 8 9]]\n"
          ]
        },
        {
          "output_type": "execute_result",
          "data": {
            "text/plain": [
              "array([[1, 1, 1],\n",
              "       [1, 1, 1],\n",
              "       [1, 1, 1]])"
            ]
          },
          "metadata": {},
          "execution_count": 25
        }
      ]
    },
    {
      "cell_type": "code",
      "metadata": {
        "id": "PUnDz6b305Gg",
        "colab": {
          "base_uri": "https://localhost:8080/"
        },
        "outputId": "56a96abc-2c36-4d5c-f420-7064585a199d"
      },
      "source": [
        "print(a3)\n",
        "np.full_like(a3, 10)  # a3와 같은 shape의 10으로 채워진 배열"
      ],
      "execution_count": null,
      "outputs": [
        {
          "output_type": "stream",
          "name": "stdout",
          "text": [
            "[[[1 2 3]\n",
            "  [4 5 6]\n",
            "  [7 8 9]]\n",
            "\n",
            " [[1 2 3]\n",
            "  [4 5 6]\n",
            "  [7 8 9]]\n",
            "\n",
            " [[1 2 3]\n",
            "  [4 5 6]\n",
            "  [7 8 9]]]\n"
          ]
        },
        {
          "output_type": "execute_result",
          "data": {
            "text/plain": [
              "array([[[10, 10, 10],\n",
              "        [10, 10, 10],\n",
              "        [10, 10, 10]],\n",
              "\n",
              "       [[10, 10, 10],\n",
              "        [10, 10, 10],\n",
              "        [10, 10, 10]],\n",
              "\n",
              "       [[10, 10, 10],\n",
              "        [10, 10, 10],\n",
              "        [10, 10, 10]]])"
            ]
          },
          "metadata": {},
          "execution_count": 26
        }
      ]
    },
    {
      "cell_type": "markdown",
      "metadata": {
        "id": "apoksGJNrn1z"
      },
      "source": [
        "### 생성한 값으로 배열 생성"
      ]
    },
    {
      "cell_type": "markdown",
      "metadata": {
        "id": "H3nmLct8cnV8"
      },
      "source": [
        "* `arange()`: 정수 범위로 배열 생성"
      ]
    },
    {
      "cell_type": "code",
      "source": [
        "np.arange(0, 30, 2)"
      ],
      "metadata": {
        "colab": {
          "base_uri": "https://localhost:8080/"
        },
        "id": "395LlVxqKtZ2",
        "outputId": "8e56d925-bc51-46eb-94d4-1a1bbec34408"
      },
      "execution_count": null,
      "outputs": [
        {
          "output_type": "execute_result",
          "data": {
            "text/plain": [
              "array([ 0,  2,  4,  6,  8, 10, 12, 14, 16, 18, 20, 22, 24, 26, 28])"
            ]
          },
          "metadata": {},
          "execution_count": 27
        }
      ]
    },
    {
      "cell_type": "code",
      "metadata": {
        "id": "mANy4WY4cDKa",
        "colab": {
          "base_uri": "https://localhost:8080/"
        },
        "outputId": "9c11806e-530d-4f9f-92f1-896a88c9fb67"
      },
      "source": [
        "np.arange(0, 30, 3)"
      ],
      "execution_count": null,
      "outputs": [
        {
          "output_type": "execute_result",
          "data": {
            "text/plain": [
              "array([ 0,  3,  6,  9, 12, 15, 18, 21, 24, 27])"
            ]
          },
          "metadata": {},
          "execution_count": 28
        }
      ]
    },
    {
      "cell_type": "markdown",
      "metadata": {
        "id": "s5kET1e6itlo"
      },
      "source": [
        "* `linspace()`: 범위 내에서 균등 간격의 배열 생성"
      ]
    },
    {
      "cell_type": "code",
      "metadata": {
        "id": "u4q9gI7Zcltz",
        "colab": {
          "base_uri": "https://localhost:8080/"
        },
        "outputId": "f7b31a25-cc49-456e-fbae-948a8d4c4e63"
      },
      "source": [
        "np.linspace(0, 1, 5)  # 0~1 사이를 균등하게 5개로 나누기"
      ],
      "execution_count": null,
      "outputs": [
        {
          "output_type": "execute_result",
          "data": {
            "text/plain": [
              "array([0.  , 0.25, 0.5 , 0.75, 1.  ])"
            ]
          },
          "metadata": {},
          "execution_count": 29
        }
      ]
    },
    {
      "cell_type": "markdown",
      "metadata": {
        "id": "Eq26d7T3nnAH"
      },
      "source": [
        "* `logspace()`: 범위 내에서 균등간격으로 로그 스케일로 배열 생성"
      ]
    },
    {
      "cell_type": "code",
      "metadata": {
        "id": "-O29WBVEnyXX",
        "colab": {
          "base_uri": "https://localhost:8080/"
        },
        "outputId": "8cb4b169-0abf-440c-f21f-dfaa03ab08f1"
      },
      "source": [
        "np.logspace(0.1, 1, 20)  # 0.1~1 사이를 균등하게 20개의 로그 스케일로 나누기"
      ],
      "execution_count": null,
      "outputs": [
        {
          "output_type": "execute_result",
          "data": {
            "text/plain": [
              "array([ 1.25892541,  1.40400425,  1.565802  ,  1.74624535,  1.94748304,\n",
              "        2.1719114 ,  2.42220294,  2.70133812,  3.0126409 ,  3.35981829,\n",
              "        3.74700446,  4.17881006,  4.66037703,  5.19743987,  5.79639395,\n",
              "        6.46437163,  7.2093272 ,  8.04013161,  8.9666781 , 10.        ])"
            ]
          },
          "metadata": {},
          "execution_count": 30
        }
      ]
    },
    {
      "cell_type": "markdown",
      "metadata": {
        "id": "6_88s4_Jr7fO"
      },
      "source": [
        "### 랜덤값으로 배열 생성\n"
      ]
    },
    {
      "cell_type": "markdown",
      "metadata": {
        "id": "CoK1cVUkjNMg"
      },
      "source": [
        "* `random.random()`: 랜덤한 수의 배열 생성"
      ]
    },
    {
      "cell_type": "code",
      "metadata": {
        "id": "qJwccKEnjMze",
        "colab": {
          "base_uri": "https://localhost:8080/"
        },
        "outputId": "9ecb46af-7ddf-4b87-c95c-77ef89ace7c6"
      },
      "source": [
        "np.random.random((3,3))  # 3*3 shape의 실수 값으로 채워진 배열"
      ],
      "execution_count": null,
      "outputs": [
        {
          "output_type": "execute_result",
          "data": {
            "text/plain": [
              "array([[0.12905439, 0.94119788, 0.78045009],\n",
              "       [0.28525939, 0.53084837, 0.49496821],\n",
              "       [0.87894093, 0.8642912 , 0.46046367]])"
            ]
          },
          "metadata": {},
          "execution_count": 31
        }
      ]
    },
    {
      "cell_type": "markdown",
      "metadata": {
        "id": "BYsAVwA1kvDI"
      },
      "source": [
        "* `random.randint()`: 일정 구간의 랜덤 정수의 배열 생성"
      ]
    },
    {
      "cell_type": "code",
      "metadata": {
        "id": "oR-UszZ_jqfQ",
        "colab": {
          "base_uri": "https://localhost:8080/"
        },
        "outputId": "71d35e01-0c03-439b-a2b3-51a0232f034f"
      },
      "source": [
        "np.random.randint(0, 10, (3,3))  # 정수 랜덤"
      ],
      "execution_count": null,
      "outputs": [
        {
          "output_type": "execute_result",
          "data": {
            "text/plain": [
              "array([[8, 3, 4],\n",
              "       [3, 9, 9],\n",
              "       [6, 4, 0]])"
            ]
          },
          "metadata": {},
          "execution_count": 34
        }
      ]
    },
    {
      "cell_type": "markdown",
      "metadata": {
        "id": "2r557WHsjrL3"
      },
      "source": [
        "* `random.normal()`: 정규분포(normal distribution)를 고려한 랜덤한 수의 배열 생성\n",
        "* 평균=0, 표준편차=1, 3 x 3 배열"
      ]
    },
    {
      "cell_type": "code",
      "metadata": {
        "id": "Oan3bSpHi2Wq",
        "colab": {
          "base_uri": "https://localhost:8080/"
        },
        "outputId": "3747526b-7e5e-47b4-f881-fc76d3e6c6dd"
      },
      "source": [
        "np.random.normal(0, 1, (3,3))"
      ],
      "execution_count": null,
      "outputs": [
        {
          "output_type": "execute_result",
          "data": {
            "text/plain": [
              "array([[ 0.66482325, -0.16226699, -0.69875393],\n",
              "       [-0.40298559,  0.51471147, -0.76737843],\n",
              "       [ 0.99397916, -0.60403124, -0.19612661]])"
            ]
          },
          "metadata": {},
          "execution_count": 35
        }
      ]
    },
    {
      "cell_type": "markdown",
      "metadata": {
        "id": "fPO-D1rHsrFw"
      },
      "source": [
        "* `random.rand()`: 균등분포(uniform distribution)를 고려한 랜덤한 수의 배열 생성"
      ]
    },
    {
      "cell_type": "code",
      "metadata": {
        "id": "DxiyEjnXnDUT",
        "colab": {
          "base_uri": "https://localhost:8080/"
        },
        "outputId": "cc16f8c1-03d3-429e-f1e6-08b756a4a4e0"
      },
      "source": [
        "np.random.rand(3,3)"
      ],
      "execution_count": null,
      "outputs": [
        {
          "output_type": "execute_result",
          "data": {
            "text/plain": [
              "array([[0.45386426, 0.28500709, 0.74442084],\n",
              "       [0.68218959, 0.67106396, 0.99245481],\n",
              "       [0.65760158, 0.21201783, 0.11192793]])"
            ]
          },
          "metadata": {},
          "execution_count": 36
        }
      ]
    },
    {
      "cell_type": "markdown",
      "metadata": {
        "id": "IegH2dsPLQgd"
      },
      "source": [
        "* `random.randn()`: 표준 정규 분포(standard normal distribution)를 고려한 랜덤한 수의 배열 생성"
      ]
    },
    {
      "cell_type": "code",
      "metadata": {
        "id": "V61VHa-JLIma",
        "colab": {
          "base_uri": "https://localhost:8080/"
        },
        "outputId": "2fcc6546-b39a-4f9a-bc59-3b8a8a95d10a"
      },
      "source": [
        "np.random.randn(3,3)"
      ],
      "execution_count": null,
      "outputs": [
        {
          "output_type": "execute_result",
          "data": {
            "text/plain": [
              "array([[ 0.30162145,  0.22965299,  0.2457151 ],\n",
              "       [-0.71752739,  0.40312985, -1.06699227],\n",
              "       [ 0.59085702,  0.33616027,  0.97218205]])"
            ]
          },
          "metadata": {},
          "execution_count": 37
        }
      ]
    },
    {
      "cell_type": "markdown",
      "metadata": {
        "id": "5ts0cYLQL_pT"
      },
      "source": [
        "### 표준 데이터 타입"
      ]
    },
    {
      "cell_type": "code",
      "metadata": {
        "id": "rxqTqAFKL73y",
        "colab": {
          "base_uri": "https://localhost:8080/"
        },
        "outputId": "3769aba5-e79c-4966-9b84-6a8efb907817"
      },
      "source": [
        "np.zeros(20, dtype=int)  # dtype이 int인 0으로 채워진 배열"
      ],
      "execution_count": null,
      "outputs": [
        {
          "output_type": "execute_result",
          "data": {
            "text/plain": [
              "array([0, 0, 0, 0, 0, 0, 0, 0, 0, 0, 0, 0, 0, 0, 0, 0, 0, 0, 0, 0])"
            ]
          },
          "metadata": {},
          "execution_count": 38
        }
      ]
    },
    {
      "cell_type": "code",
      "source": [
        "np.zeros((3,3), dtype=bool)  # 0 = False 이므로"
      ],
      "metadata": {
        "colab": {
          "base_uri": "https://localhost:8080/"
        },
        "id": "uTC1To-NMTCQ",
        "outputId": "4016ec9e-6519-48d0-b9b9-5f5264ee6d75"
      },
      "execution_count": null,
      "outputs": [
        {
          "output_type": "execute_result",
          "data": {
            "text/plain": [
              "array([[False, False, False],\n",
              "       [False, False, False],\n",
              "       [False, False, False]])"
            ]
          },
          "metadata": {},
          "execution_count": 40
        }
      ]
    },
    {
      "cell_type": "code",
      "metadata": {
        "id": "o9TuSl6HIsXr",
        "colab": {
          "base_uri": "https://localhost:8080/"
        },
        "outputId": "72f38547-d91b-4c6d-aa61-f360d6992f76"
      },
      "source": [
        "np.ones((3,3), dtype=bool)  # 1 = True"
      ],
      "execution_count": null,
      "outputs": [
        {
          "output_type": "execute_result",
          "data": {
            "text/plain": [
              "array([[ True,  True,  True],\n",
              "       [ True,  True,  True],\n",
              "       [ True,  True,  True]])"
            ]
          },
          "metadata": {},
          "execution_count": 39
        }
      ]
    },
    {
      "cell_type": "code",
      "metadata": {
        "id": "w-TciNfzEhY0",
        "colab": {
          "base_uri": "https://localhost:8080/"
        },
        "outputId": "db74a245-6609-4395-a550-252bd4e7a66d"
      },
      "source": [
        "np.full((3,3), 1.0, dtype=float)"
      ],
      "execution_count": null,
      "outputs": [
        {
          "output_type": "execute_result",
          "data": {
            "text/plain": [
              "array([[1., 1., 1.],\n",
              "       [1., 1., 1.],\n",
              "       [1., 1., 1.]])"
            ]
          },
          "metadata": {},
          "execution_count": 41
        }
      ]
    },
    {
      "cell_type": "markdown",
      "metadata": {
        "id": "1qFumu-p-0mQ"
      },
      "source": [
        "### 날짜/시간 배열 생성\n"
      ]
    },
    {
      "cell_type": "markdown",
      "source": [
        "문자열로 배열을 만들었지만, dtype을 datetime으로 줌으로써 날짜 표현 가능"
      ],
      "metadata": {
        "id": "Rjj4cavvMtkd"
      }
    },
    {
      "cell_type": "code",
      "metadata": {
        "id": "D8ozvTUf-6Rr",
        "colab": {
          "base_uri": "https://localhost:8080/"
        },
        "outputId": "c75636ee-0ed9-4fa5-dfb3-cecbee1d2183"
      },
      "source": [
        "date = np.array('2020-01-01', dtype = np.datetime64)\n",
        "date"
      ],
      "execution_count": null,
      "outputs": [
        {
          "output_type": "execute_result",
          "data": {
            "text/plain": [
              "array('2020-01-01', dtype='datetime64[D]')"
            ]
          },
          "metadata": {},
          "execution_count": 42
        }
      ]
    },
    {
      "cell_type": "code",
      "metadata": {
        "id": "XIjLUkn6_K3J",
        "colab": {
          "base_uri": "https://localhost:8080/"
        },
        "outputId": "281bcab2-10ac-4e9e-f7cc-de7993ddc65f"
      },
      "source": [
        "date + np.arange(12)  # date인 기존 날짜에 arange 각각을 더해줌"
      ],
      "execution_count": null,
      "outputs": [
        {
          "output_type": "execute_result",
          "data": {
            "text/plain": [
              "array(['2020-01-01', '2020-01-02', '2020-01-03', '2020-01-04',\n",
              "       '2020-01-05', '2020-01-06', '2020-01-07', '2020-01-08',\n",
              "       '2020-01-09', '2020-01-10', '2020-01-11', '2020-01-12'],\n",
              "      dtype='datetime64[D]')"
            ]
          },
          "metadata": {},
          "execution_count": 44
        }
      ]
    },
    {
      "cell_type": "code",
      "metadata": {
        "id": "EO7yE5VR_Wlh",
        "colab": {
          "base_uri": "https://localhost:8080/"
        },
        "outputId": "8bada762-ca2c-42cf-f16d-d51a81c011b6"
      },
      "source": [
        "# 시간 표현\n",
        "\n",
        "datetime = np.datetime64('2020-06-01 12:00')\n",
        "datetime"
      ],
      "execution_count": null,
      "outputs": [
        {
          "output_type": "execute_result",
          "data": {
            "text/plain": [
              "numpy.datetime64('2020-06-01T12:00')"
            ]
          },
          "metadata": {},
          "execution_count": 46
        }
      ]
    },
    {
      "cell_type": "code",
      "metadata": {
        "id": "3dnOlf9i_kzX",
        "colab": {
          "base_uri": "https://localhost:8080/"
        },
        "outputId": "0a36eb83-c587-4c43-943d-3cbd7dd5d855"
      },
      "source": [
        "# 나노 초 표현\n",
        "datetime = np.datetime64('2020-06-01 12:00:12.34', 'ns')\n",
        "datetime"
      ],
      "execution_count": null,
      "outputs": [
        {
          "output_type": "execute_result",
          "data": {
            "text/plain": [
              "numpy.datetime64('2020-06-01T12:00:12.340000000')"
            ]
          },
          "metadata": {},
          "execution_count": 47
        }
      ]
    },
    {
      "cell_type": "markdown",
      "metadata": {
        "id": "5AREIamhGxAr"
      },
      "source": [
        "\n",
        "\n",
        "---\n",
        "\n"
      ]
    },
    {
      "cell_type": "markdown",
      "metadata": {
        "id": "d88tkTqbBE5V"
      },
      "source": [
        "## 2. 배열 조회"
      ]
    },
    {
      "cell_type": "markdown",
      "metadata": {
        "id": "vRqwfbjtFnPn"
      },
      "source": [
        "### 배열 속성 정보"
      ]
    },
    {
      "cell_type": "code",
      "metadata": {
        "id": "R5Rlcll7GXrM"
      },
      "source": [
        "# 배열 속성 정보를 출력하는 함수\n",
        "def array_info(array):\n",
        "  print(array)\n",
        "  print(\"ndim: \", array.ndim)\n",
        "  print(\"shape: \", array.shape)\n",
        "  print(\"dtype: \", array.dtype)\n",
        "  print(\"size: \", array.size)  # element 개수\n",
        "  print(\"itemsize: \", array.itemsize) # 하나의 아이템이 가지는 사이즈 8byte=int 64bit\n",
        "  print(\"nbytes: \", array.nbytes)     # 전체 배열의 바이트 크기.  8*5=40   size * itemsize  \n",
        "  print(\"strides: \", array.strides)   # 다음 차원으로 넘어가기 위해서 필요한 바이트"
      ],
      "execution_count": null,
      "outputs": []
    },
    {
      "cell_type": "code",
      "metadata": {
        "id": "Na59LwA7KXZV",
        "colab": {
          "base_uri": "https://localhost:8080/"
        },
        "outputId": "e786f632-f284-4f9a-a872-dbeaf492600f"
      },
      "source": [
        "array_info(a1)"
      ],
      "execution_count": null,
      "outputs": [
        {
          "output_type": "stream",
          "name": "stdout",
          "text": [
            "[4 2 3 4 5]\n",
            "ndim:  1\n",
            "shape:  (5,)\n",
            "dtype:  int64\n",
            "size:  5\n",
            "itemsize:  8\n",
            "nbytes:  40\n",
            "strides:  (8,)\n"
          ]
        }
      ]
    },
    {
      "cell_type": "code",
      "metadata": {
        "id": "Urzr_LsdLah0",
        "colab": {
          "base_uri": "https://localhost:8080/"
        },
        "outputId": "42d6e77c-437b-434c-a6ad-49776e027547"
      },
      "source": [
        "array_info(a2)    # 다음 차원으로 넘어갈 때 24byte가 필요  3*8=24byte"
      ],
      "execution_count": null,
      "outputs": [
        {
          "output_type": "stream",
          "name": "stdout",
          "text": [
            "[[1 2 3]\n",
            " [4 5 6]\n",
            " [7 8 9]]\n",
            "ndim:  2\n",
            "shape:  (3, 3)\n",
            "dtype:  int64\n",
            "size:  9\n",
            "itemsize:  8\n",
            "nbytes:  72\n",
            "strides:  (24, 8)\n"
          ]
        }
      ]
    },
    {
      "cell_type": "code",
      "metadata": {
        "id": "jktqh1lsLf4V",
        "colab": {
          "base_uri": "https://localhost:8080/"
        },
        "outputId": "650d61d4-45c4-4ccb-9b39-6a1e9ba82ec2"
      },
      "source": [
        "array_info(a3)"
      ],
      "execution_count": null,
      "outputs": [
        {
          "output_type": "stream",
          "name": "stdout",
          "text": [
            "[[[1 2 3]\n",
            "  [4 5 6]\n",
            "  [7 8 9]]\n",
            "\n",
            " [[1 2 3]\n",
            "  [4 5 6]\n",
            "  [7 8 9]]\n",
            "\n",
            " [[1 2 3]\n",
            "  [4 5 6]\n",
            "  [7 8 9]]]\n",
            "ndim:  3\n",
            "shape:  (3, 3, 3)\n",
            "dtype:  int64\n",
            "size:  27\n",
            "itemsize:  8\n",
            "nbytes:  216\n",
            "strides:  (72, 24, 8)\n"
          ]
        }
      ]
    },
    {
      "cell_type": "markdown",
      "metadata": {
        "id": "LV1WfdBWFqDu"
      },
      "source": [
        "### 인덱싱(Indexing)"
      ]
    },
    {
      "cell_type": "code",
      "metadata": {
        "id": "Nyb7eDmGFr5m",
        "colab": {
          "base_uri": "https://localhost:8080/"
        },
        "outputId": "cb57500c-d034-4027-ed10-b13a876637d3"
      },
      "source": [
        "print(a1)\n",
        "print(a1[0])\n",
        "print(a1[-1])"
      ],
      "execution_count": null,
      "outputs": [
        {
          "output_type": "stream",
          "name": "stdout",
          "text": [
            "[4 2 3 4 5]\n",
            "4\n",
            "5\n"
          ]
        }
      ]
    },
    {
      "cell_type": "code",
      "metadata": {
        "id": "uHMNcQW3Kn-h",
        "colab": {
          "base_uri": "https://localhost:8080/"
        },
        "outputId": "eefe90c3-6787-447f-ce12-ffacb702d29e"
      },
      "source": [
        "print(a2)\n",
        "print(a2[0, 0])\n",
        "print(a2[2, -1])"
      ],
      "execution_count": null,
      "outputs": [
        {
          "output_type": "stream",
          "name": "stdout",
          "text": [
            "[[1 2 3]\n",
            " [4 5 6]\n",
            " [7 8 9]]\n",
            "1\n",
            "9\n"
          ]
        }
      ]
    },
    {
      "cell_type": "code",
      "metadata": {
        "id": "IX5yDMGiMxYZ",
        "colab": {
          "base_uri": "https://localhost:8080/"
        },
        "outputId": "d969ece2-224c-4bd6-81cc-464bbdd5d496"
      },
      "source": [
        "print(a3)\n",
        "print(a3[0, 0, 0])\n",
        "print(a3[2, -1, -1])"
      ],
      "execution_count": null,
      "outputs": [
        {
          "output_type": "stream",
          "name": "stdout",
          "text": [
            "[[[1 2 3]\n",
            "  [4 5 6]\n",
            "  [7 8 9]]\n",
            "\n",
            " [[1 2 3]\n",
            "  [4 5 6]\n",
            "  [7 8 9]]\n",
            "\n",
            " [[1 2 3]\n",
            "  [4 5 6]\n",
            "  [7 8 9]]]\n",
            "1\n",
            "9\n"
          ]
        }
      ]
    },
    {
      "cell_type": "markdown",
      "metadata": {
        "id": "uSeXu2y_O4cu"
      },
      "source": [
        "### 슬라이싱(Slicing)"
      ]
    },
    {
      "cell_type": "markdown",
      "metadata": {
        "id": "1hikO_6ZPp5m"
      },
      "source": [
        "* 슬라이싱 구문: `a[start:stop:step]`\n",
        "* 기본값: start=0, stop=ndim, step=1"
      ]
    },
    {
      "cell_type": "code",
      "metadata": {
        "id": "PYZOOCoVO7BF",
        "colab": {
          "base_uri": "https://localhost:8080/"
        },
        "outputId": "5213b689-a032-434c-c472-f78e2f86a3a9"
      },
      "source": [
        "print(a1)\n",
        "print(a1[0:2])\n",
        "print(a1[0:])\n",
        "print(a1[:1])\n",
        "print(a1[::2])  # step=1\n",
        "print(a1[::-1]) # 역으로 접근."
      ],
      "execution_count": null,
      "outputs": [
        {
          "output_type": "stream",
          "name": "stdout",
          "text": [
            "[4 2 3 4 5]\n",
            "[4 2]\n",
            "[4 2 3 4 5]\n",
            "[4]\n",
            "[4 3 5]\n",
            "[5 4 3 2 4]\n"
          ]
        }
      ]
    },
    {
      "cell_type": "code",
      "metadata": {
        "id": "oULOFrBQWs1G",
        "colab": {
          "base_uri": "https://localhost:8080/"
        },
        "outputId": "bf773a08-ad8f-45b2-9d84-9b65fa683e78"
      },
      "source": [
        "print(a2)\n",
        "print(a2[1], '\\n')\n",
        "print(a2[1, :], '\\n')\n",
        "print(a2[:2, :2], '\\n')\n",
        "print(a2[:2, ::2], '\\n')\n",
        "print(a2[1:, ::2], '\\n')  # step=1\n",
        "print(a2[1:, ::-1], '\\n')  # 역으로 접근.\n",
        "print(a2[::-1, ::-1], '\\n') "
      ],
      "execution_count": null,
      "outputs": [
        {
          "output_type": "stream",
          "name": "stdout",
          "text": [
            "[[1 2 3]\n",
            " [4 5 6]\n",
            " [7 8 9]]\n",
            "[4 5 6] \n",
            "\n",
            "[4 5 6] \n",
            "\n",
            "[[1 2]\n",
            " [4 5]] \n",
            "\n",
            "[[1 3]\n",
            " [4 6]] \n",
            "\n",
            "[[4 6]\n",
            " [7 9]] \n",
            "\n",
            "[[6 5 4]\n",
            " [9 8 7]] \n",
            "\n",
            "[[9 8 7]\n",
            " [6 5 4]\n",
            " [3 2 1]] \n",
            "\n"
          ]
        }
      ]
    },
    {
      "cell_type": "markdown",
      "metadata": {
        "id": "LD52bXAsBgbH"
      },
      "source": [
        "### 불리언 인덱싱(Boolean Indexing)\n",
        "\n",
        "* 배열 각 요소의 선택 여부를 불리언(True or False)로 지정\n",
        "* True 값인 인덱스의 값만 조회"
      ]
    },
    {
      "cell_type": "code",
      "metadata": {
        "id": "pOvNsH2oBgz-",
        "colab": {
          "base_uri": "https://localhost:8080/"
        },
        "outputId": "6327320e-c080-4970-faba-e8b876a119d5"
      },
      "source": [
        "print(a1)\n",
        "bi = [False, True, True, False, True]\n",
        "print(a1[bi])\n",
        "\n",
        "bi = [True, False, True, True, False]\n",
        "print(a1[bi])"
      ],
      "execution_count": null,
      "outputs": [
        {
          "output_type": "stream",
          "name": "stdout",
          "text": [
            "[4 2 3 4 5]\n",
            "[2 3 5]\n",
            "[4 3 4]\n"
          ]
        }
      ]
    },
    {
      "cell_type": "code",
      "metadata": {
        "id": "EFfquM2kWHAU",
        "colab": {
          "base_uri": "https://localhost:8080/"
        },
        "outputId": "829a81b9-1498-42b3-e5da-45e277b94213"
      },
      "source": [
        "print(a2)\n",
        "bi = np.random.randint(0, 2, (3,3), dtype=bool) # 랜덤으로 True, False가 생성되도록 \n",
        "print(bi)\n",
        "print(a2[bi])"
      ],
      "execution_count": null,
      "outputs": [
        {
          "output_type": "stream",
          "name": "stdout",
          "text": [
            "[[1 2 3]\n",
            " [4 5 6]\n",
            " [7 8 9]]\n",
            "[[False  True False]\n",
            " [False False  True]\n",
            " [False False False]]\n",
            "[2 6]\n"
          ]
        }
      ]
    },
    {
      "cell_type": "markdown",
      "metadata": {
        "id": "R5hes-hdBujH"
      },
      "source": [
        "### 팬시 인덱싱(Fancy Indedxing)\n",
        "- 인덱스를 묶어서 전달해주면 해당 인덱스의 값만 출력\n",
        "- 인덱스에 따라 결과의 shape이 결정됌"
      ]
    },
    {
      "cell_type": "code",
      "metadata": {
        "id": "z-Luw5fzBx30",
        "colab": {
          "base_uri": "https://localhost:8080/"
        },
        "outputId": "386f5827-f1ac-4c1d-c423-2b87b1a83964"
      },
      "source": [
        "print(a1)\n",
        "print([a1[0], a1[2]])\n",
        "\n",
        "ind = [0, 2]\n",
        "print(a1[ind])"
      ],
      "execution_count": null,
      "outputs": [
        {
          "output_type": "stream",
          "name": "stdout",
          "text": [
            "[4 2 3 4 5]\n",
            "[4, 3]\n",
            "[4 3]\n"
          ]
        }
      ]
    },
    {
      "cell_type": "code",
      "metadata": {
        "id": "p_Dd0oiJahgj",
        "colab": {
          "base_uri": "https://localhost:8080/"
        },
        "outputId": "bf589a47-d6fc-4aa9-a3e3-347ac323d955"
      },
      "source": [
        "# 1차원 배열이지만 2차원 인덱스를 주었기 때문에 2차원 배열 형태로 출력됌\n",
        "\n",
        "ind = np.array([[0,1],\n",
        "                [2,0]])\n",
        "\n",
        "print(a1[ind])"
      ],
      "execution_count": null,
      "outputs": [
        {
          "output_type": "stream",
          "name": "stdout",
          "text": [
            "[[4 2]\n",
            " [3 4]]\n"
          ]
        }
      ]
    },
    {
      "cell_type": "code",
      "source": [
        "print(a2, '\\n')\n",
        "row = np.array([0, 2])\n",
        "col = np.array([1, 2])\n",
        "print(a2[row, col], '\\n')\n",
        "\n",
        "print(a2[row, :], '\\n')\n",
        "print(a2[:, col], '\\n')\n",
        "print(a2[row, 1], '\\n')\n",
        "print(a2[2, col], '\\n')\n",
        "print(a2[row, 1:], '\\n')\n",
        "print(a2[1:, col], '\\n')"
      ],
      "metadata": {
        "colab": {
          "base_uri": "https://localhost:8080/"
        },
        "id": "HRku6sN8R3n3",
        "outputId": "2898b82e-3fc9-49b7-e538-6b1f4be0c664"
      },
      "execution_count": null,
      "outputs": [
        {
          "output_type": "stream",
          "name": "stdout",
          "text": [
            "[[1 2 3]\n",
            " [4 5 6]\n",
            " [7 8 9]] \n",
            "\n",
            "[2 9] \n",
            "\n",
            "[[1 2 3]\n",
            " [7 8 9]] \n",
            "\n",
            "[[2 3]\n",
            " [5 6]\n",
            " [8 9]] \n",
            "\n",
            "[2 8] \n",
            "\n",
            "[8 9] \n",
            "\n",
            "[[2 3]\n",
            " [8 9]] \n",
            "\n",
            "[[5 6]\n",
            " [8 9]] \n",
            "\n"
          ]
        }
      ]
    },
    {
      "cell_type": "markdown",
      "metadata": {
        "id": "F71_PQF1GvTs"
      },
      "source": [
        "\n",
        "\n",
        "---\n",
        "\n"
      ]
    },
    {
      "cell_type": "markdown",
      "metadata": {
        "id": "zDI5yQ58O-IX"
      },
      "source": [
        "## 3. 배열 값 삽입/수정/삭제/복사"
      ]
    },
    {
      "cell_type": "markdown",
      "metadata": {
        "id": "zajd1qpVOQYy"
      },
      "source": [
        "### 배열 값 삽입\n",
        "\n",
        "* `insert()`: 배열의 특정 위치에 값 삽입\n",
        "* axis를 지정하지 않으면 1차원 배열로 변환\n",
        "* 추가할 방향을 axis로 지정\n",
        "* 원본 배열 변경없이 새로운 배열 반환"
      ]
    },
    {
      "cell_type": "code",
      "metadata": {
        "id": "sedRT54rP395",
        "colab": {
          "base_uri": "https://localhost:8080/"
        },
        "outputId": "b2e6bb7c-ad32-4d55-e521-8f95084cf3c1"
      },
      "source": [
        "print(a1)\n",
        "b1 = np.insert(a1, 0, 10)  # a1의 0번째에 10을 넣기\n",
        "print(b1)  \n",
        "print(a1)\n",
        "\n",
        "# 원본 배열은 그대로. 새로운 배열을 반환함"
      ],
      "execution_count": null,
      "outputs": [
        {
          "output_type": "stream",
          "name": "stdout",
          "text": [
            "[4 2 3 4 5]\n",
            "[10  4  2  3  4  5]\n",
            "[4 2 3 4 5]\n"
          ]
        }
      ]
    },
    {
      "cell_type": "code",
      "metadata": {
        "id": "zNmu1E4iQ6h-",
        "colab": {
          "base_uri": "https://localhost:8080/"
        },
        "outputId": "2b7978d1-9cf2-47ad-ba55-c301eaec8d95"
      },
      "source": [
        "print(a2, '\\n')\n",
        "b2 = np.insert(a2, 1, 10, axis=0)  # 2차원 배열이므로 축 지정.  axis 0 은 row\n",
        "print(b2, '\\n')\n",
        "\n",
        "c2 = np.insert(a2, 1, 10, axis=1) # axis=1 = col\n",
        "print(c2)"
      ],
      "execution_count": null,
      "outputs": [
        {
          "output_type": "stream",
          "name": "stdout",
          "text": [
            "[[1 2 3]\n",
            " [4 5 6]\n",
            " [7 8 9]] \n",
            "\n",
            "[[ 1  2  3]\n",
            " [10 10 10]\n",
            " [ 4  5  6]\n",
            " [ 7  8  9]] \n",
            "\n",
            "[[ 1 10  2  3]\n",
            " [ 4 10  5  6]\n",
            " [ 7 10  8  9]]\n"
          ]
        }
      ]
    },
    {
      "cell_type": "markdown",
      "metadata": {
        "id": "OlEzG4ffNjyL"
      },
      "source": [
        "### 배열 값 수정\n",
        "\n",
        "* 배열의 인덱싱으로 접근하여 값 수정"
      ]
    },
    {
      "cell_type": "code",
      "metadata": {
        "id": "ec43i1KWNjeN",
        "colab": {
          "base_uri": "https://localhost:8080/"
        },
        "outputId": "a2ce28d4-b244-4083-8d97-2b1ca9a46c3f"
      },
      "source": [
        "print(a1)\n",
        "a1[0] = 1\n",
        "a1[1] = 2\n",
        "print(a1)"
      ],
      "execution_count": null,
      "outputs": [
        {
          "output_type": "stream",
          "name": "stdout",
          "text": [
            "[4 2 3 4 5]\n",
            "[1 2 3 4 5]\n"
          ]
        }
      ]
    },
    {
      "cell_type": "code",
      "source": [
        "# 슬라이싱\n",
        "print(a1)\n",
        "a1[:2] = 9\n",
        "print(a1)"
      ],
      "metadata": {
        "colab": {
          "base_uri": "https://localhost:8080/"
        },
        "id": "0CLZ3jbHTwwn",
        "outputId": "9afd34aa-69c2-4bbd-f81c-16aace6d4f19"
      },
      "execution_count": null,
      "outputs": [
        {
          "output_type": "stream",
          "name": "stdout",
          "text": [
            "[1 2 3 4 5]\n",
            "[9 9 3 4 5]\n"
          ]
        }
      ]
    },
    {
      "cell_type": "code",
      "metadata": {
        "id": "IApNNx3NOMQh",
        "colab": {
          "base_uri": "https://localhost:8080/"
        },
        "outputId": "cf65f5ae-3c4e-4554-99b6-67783f9b101b"
      },
      "source": [
        "i = np.array([1,3,4])  # 지정된 index의 값을 0으로\n",
        "a1[i] = 0\n",
        "print(a1)"
      ],
      "execution_count": null,
      "outputs": [
        {
          "output_type": "stream",
          "name": "stdout",
          "text": [
            "[9 0 3 0 0]\n"
          ]
        }
      ]
    },
    {
      "cell_type": "code",
      "source": [
        "a1[i]+=4\n",
        "print(a1)"
      ],
      "metadata": {
        "colab": {
          "base_uri": "https://localhost:8080/"
        },
        "id": "f7dVS_cnUbYy",
        "outputId": "af0702b8-6ceb-4baf-f632-c3979a20a02e"
      },
      "execution_count": null,
      "outputs": [
        {
          "output_type": "stream",
          "name": "stdout",
          "text": [
            "[9 4 3 4 4]\n"
          ]
        }
      ]
    },
    {
      "cell_type": "code",
      "source": [
        "print(a2, '\\n')\n",
        "a2[0, 0] = 1\n",
        "a2[1, 1] = 2\n",
        "a2[2, 2] = 3\n",
        "print(a2, '\\n')  \n",
        "\n",
        "a2[0] = 1      # 0번째 row를 모두 1로\n",
        "print(a2, '\\n')\n",
        "\n",
        "a2[1:, 2] = 9\n",
        "print(a2, '\\n')\n",
        "\n",
        "row = np.array([0,1])\n",
        "col = np.array([1,2])\n",
        "a2[row, col] = 0\n",
        "print(a2, '\\n')"
      ],
      "metadata": {
        "colab": {
          "base_uri": "https://localhost:8080/"
        },
        "id": "F4WAmAfOUg4M",
        "outputId": "f5a8a6fe-fa1c-4d54-b1ee-0e22648264f0"
      },
      "execution_count": null,
      "outputs": [
        {
          "output_type": "stream",
          "name": "stdout",
          "text": [
            "[[1 2 3]\n",
            " [4 5 6]\n",
            " [7 8 9]] \n",
            "\n",
            "[[1 2 3]\n",
            " [4 2 6]\n",
            " [7 8 3]] \n",
            "\n",
            "[[1 1 1]\n",
            " [4 2 6]\n",
            " [7 8 3]] \n",
            "\n",
            "[[1 1 1]\n",
            " [4 2 9]\n",
            " [7 8 9]] \n",
            "\n",
            "[[1 0 1]\n",
            " [4 2 0]\n",
            " [7 8 9]] \n",
            "\n"
          ]
        }
      ]
    },
    {
      "cell_type": "markdown",
      "metadata": {
        "id": "emV7DgrITPcn"
      },
      "source": [
        "### 배열 값 삭제\n",
        "\n",
        "* `delete()`: 배열의 특정 위치에 값 삭제\n",
        "* axis를 지정하지 않으면 1차원 배열로 변환\n",
        "* 삭제할 방향을 axis로 지정\n",
        "* 원본 배열 변경없이 새로운 배열 반환"
      ]
    },
    {
      "cell_type": "code",
      "metadata": {
        "id": "I3k_Yx8lTRJ2",
        "colab": {
          "base_uri": "https://localhost:8080/"
        },
        "outputId": "5bc810df-bcf9-47ea-ec14-eac476bc5128"
      },
      "source": [
        "print(a1)\n",
        "b1 = np.delete(a1, 1)\n",
        "print(b1)\n",
        "print(a1)"
      ],
      "execution_count": null,
      "outputs": [
        {
          "output_type": "stream",
          "name": "stdout",
          "text": [
            "[9 4 3 4 4]\n",
            "[9 3 4 4]\n",
            "[9 4 3 4 4]\n"
          ]
        }
      ]
    },
    {
      "cell_type": "code",
      "metadata": {
        "id": "tRTwMIfJTq_y",
        "colab": {
          "base_uri": "https://localhost:8080/"
        },
        "outputId": "994e34d5-0385-4a12-eab8-0f2911444f13"
      },
      "source": [
        "print(a2, '\\n')\n",
        "b2 = np.delete(a2, 1, axis=0)\n",
        "print(b2, '\\n')\n",
        "print(a2, '\\n')"
      ],
      "execution_count": null,
      "outputs": [
        {
          "output_type": "stream",
          "name": "stdout",
          "text": [
            "[[1 0 1]\n",
            " [4 2 0]\n",
            " [7 8 9]] \n",
            "\n",
            "[[1 0 1]\n",
            " [7 8 9]] \n",
            "\n",
            "[[1 0 1]\n",
            " [4 2 0]\n",
            " [7 8 9]] \n",
            "\n"
          ]
        }
      ]
    },
    {
      "cell_type": "markdown",
      "metadata": {
        "id": "UydkYxV8Z6Fx"
      },
      "source": [
        "### 배열 복사\n",
        "\n",
        "* 리스트에서 슬라이스를 통한 복사는 원본과 다른 복사본.\n",
        "* 반면 numpy 배열의 슬라이스는 원본 배열과 같음. (복사본의 값 수정 시, 원본도 수정됌)"
      ]
    },
    {
      "cell_type": "code",
      "metadata": {
        "id": "n2_0L8KWZ7wH",
        "colab": {
          "base_uri": "https://localhost:8080/"
        },
        "outputId": "305a52d6-8d2d-4888-dfd9-46643c4b3e56"
      },
      "source": [
        "print(a2)\n",
        "print(a2[:2, :2], '\\n')\n",
        "\n",
        "# 복사\n",
        "a2_sub = a2[:2, :2] \n",
        "print(a2_sub, '\\n')\n",
        "a2_sub[:, 1] = 0    # 1열을 전부 0으로 변경\n",
        "print(a2_sub, '\\n')\n",
        "print(a2)          # 원본 배열도 변경됌"
      ],
      "execution_count": null,
      "outputs": [
        {
          "output_type": "stream",
          "name": "stdout",
          "text": [
            "[[1 0 1]\n",
            " [4 0 0]\n",
            " [7 8 9]]\n",
            "[[1 0]\n",
            " [4 0]] \n",
            "\n",
            "[[1 0]\n",
            " [4 0]] \n",
            "\n",
            "[[1 0]\n",
            " [4 0]] \n",
            "\n",
            "[[1 0 1]\n",
            " [4 0 0]\n",
            " [7 8 9]]\n"
          ]
        }
      ]
    },
    {
      "cell_type": "markdown",
      "metadata": {
        "id": "UrQqOC1Eat5l"
      },
      "source": [
        "\n",
        "* `copy()`: 배열이나 하위 배열 내의 값을 명시적으로 복사"
      ]
    },
    {
      "cell_type": "code",
      "metadata": {
        "id": "hLBZ7Qn6bAKO",
        "colab": {
          "base_uri": "https://localhost:8080/"
        },
        "outputId": "3fef24ab-026f-4611-9da4-09403af053da"
      },
      "source": [
        "print(a2, '\\n')\n",
        "a2_sub_copy = a2[:2, :2].copy()\n",
        "print(a2_sub_copy, '\\n')  # 원본 카피\n",
        "\n",
        "a2_sub_copy[:, 1] = 1\n",
        "print(a2_sub_copy, '\\n')  # 수정\n",
        "print(a2, '\\n')  # 원본은 수정되지 않음"
      ],
      "execution_count": null,
      "outputs": [
        {
          "output_type": "stream",
          "name": "stdout",
          "text": [
            "[[1 0 1]\n",
            " [4 0 0]\n",
            " [7 8 9]] \n",
            "\n",
            "[[1 0]\n",
            " [4 0]] \n",
            "\n",
            "[[1 1]\n",
            " [4 1]] \n",
            "\n",
            "[[1 0 1]\n",
            " [4 0 0]\n",
            " [7 8 9]] \n",
            "\n"
          ]
        }
      ]
    },
    {
      "cell_type": "markdown",
      "metadata": {
        "id": "4HTc9FXOGtA7"
      },
      "source": [
        "\n",
        "\n",
        "---\n",
        "\n"
      ]
    },
    {
      "cell_type": "markdown",
      "metadata": {
        "id": "XVZY082__yV6"
      },
      "source": [
        "##4. 배열 변환"
      ]
    },
    {
      "cell_type": "markdown",
      "metadata": {
        "id": "Ec09aPeBO58M"
      },
      "source": [
        "### 배열 전치 및 축 변경"
      ]
    },
    {
      "cell_type": "code",
      "metadata": {
        "id": "anYByBpoWZmj",
        "colab": {
          "base_uri": "https://localhost:8080/"
        },
        "outputId": "62c17f43-4991-44c9-d4a2-34bce643bdc6"
      },
      "source": [
        "print(a2)\n",
        "print(a2.T)"
      ],
      "execution_count": 5,
      "outputs": [
        {
          "output_type": "stream",
          "name": "stdout",
          "text": [
            "[[1 2 3]\n",
            " [4 5 6]\n",
            " [7 8 9]]\n",
            "[[1 4 7]\n",
            " [2 5 8]\n",
            " [3 6 9]]\n"
          ]
        }
      ]
    },
    {
      "cell_type": "code",
      "metadata": {
        "id": "wg4XC6kiRnZo",
        "colab": {
          "base_uri": "https://localhost:8080/"
        },
        "outputId": "79819297-4925-41d1-deea-210e74412eb1"
      },
      "source": [
        "print(a3)\n",
        "print('-----------------------')\n",
        "print(a3.T)"
      ],
      "execution_count": 10,
      "outputs": [
        {
          "output_type": "stream",
          "name": "stdout",
          "text": [
            "[[[1 2 3]\n",
            "  [4 5 6]\n",
            "  [7 8 9]]\n",
            "\n",
            " [[1 2 3]\n",
            "  [4 5 6]\n",
            "  [7 8 9]]\n",
            "\n",
            " [[1 2 3]\n",
            "  [4 5 6]\n",
            "  [7 8 9]]]\n",
            "-----------------------\n",
            "[[[1 1 1]\n",
            "  [4 4 4]\n",
            "  [7 7 7]]\n",
            "\n",
            " [[2 2 2]\n",
            "  [5 5 5]\n",
            "  [8 8 8]]\n",
            "\n",
            " [[3 3 3]\n",
            "  [6 6 6]\n",
            "  [9 9 9]]]\n"
          ]
        }
      ]
    },
    {
      "cell_type": "code",
      "metadata": {
        "id": "6lPwXL8rRTfI",
        "colab": {
          "base_uri": "https://localhost:8080/"
        },
        "outputId": "b45be228-6a99-42b2-d4a9-cc834739f094"
      },
      "source": [
        "# 축 변경을 통해 어떤 방법으로 전치를 할지 결정\n",
        "\n",
        "print(a2)\n",
        "print(a2.swapaxes(1,0))"
      ],
      "execution_count": 11,
      "outputs": [
        {
          "output_type": "stream",
          "name": "stdout",
          "text": [
            "[[1 2 3]\n",
            " [4 5 6]\n",
            " [7 8 9]]\n",
            "[[1 4 7]\n",
            " [2 5 8]\n",
            " [3 6 9]]\n"
          ]
        }
      ]
    },
    {
      "cell_type": "code",
      "metadata": {
        "id": "oLbEHtijRewH",
        "colab": {
          "base_uri": "https://localhost:8080/"
        },
        "outputId": "3050bd87-647b-42d4-e8f9-e015242bb617"
      },
      "source": [
        "print(a3)\n",
        "print('----------------------------')\n",
        "print(a3.T)\n",
        "print('----------------------------')\n",
        "print(a3.swapaxes(0,1))\n",
        "print('----------------------------')\n",
        "print(a3.swapaxes(1,2))"
      ],
      "execution_count": 16,
      "outputs": [
        {
          "output_type": "stream",
          "name": "stdout",
          "text": [
            "[[[1 2 3]\n",
            "  [4 5 6]\n",
            "  [7 8 9]]\n",
            "\n",
            " [[1 2 3]\n",
            "  [4 5 6]\n",
            "  [7 8 9]]\n",
            "\n",
            " [[1 2 3]\n",
            "  [4 5 6]\n",
            "  [7 8 9]]]\n",
            "----------------------------\n",
            "[[[1 1 1]\n",
            "  [4 4 4]\n",
            "  [7 7 7]]\n",
            "\n",
            " [[2 2 2]\n",
            "  [5 5 5]\n",
            "  [8 8 8]]\n",
            "\n",
            " [[3 3 3]\n",
            "  [6 6 6]\n",
            "  [9 9 9]]]\n",
            "----------------------------\n",
            "[[[1 2 3]\n",
            "  [1 2 3]\n",
            "  [1 2 3]]\n",
            "\n",
            " [[4 5 6]\n",
            "  [4 5 6]\n",
            "  [4 5 6]]\n",
            "\n",
            " [[7 8 9]\n",
            "  [7 8 9]\n",
            "  [7 8 9]]]\n",
            "----------------------------\n",
            "[[[1 4 7]\n",
            "  [2 5 8]\n",
            "  [3 6 9]]\n",
            "\n",
            " [[1 4 7]\n",
            "  [2 5 8]\n",
            "  [3 6 9]]\n",
            "\n",
            " [[1 4 7]\n",
            "  [2 5 8]\n",
            "  [3 6 9]]]\n"
          ]
        }
      ]
    },
    {
      "cell_type": "markdown",
      "metadata": {
        "id": "M7xN8WdOdb_S"
      },
      "source": [
        "### 배열 재구조화\n"
      ]
    },
    {
      "cell_type": "markdown",
      "metadata": {
        "id": "JwZJMpXGfY0V"
      },
      "source": [
        "* `reshape()`: 배열의 형상을 변경"
      ]
    },
    {
      "cell_type": "code",
      "metadata": {
        "id": "SlGQ17VQdd8i",
        "colab": {
          "base_uri": "https://localhost:8080/"
        },
        "outputId": "79e7d213-c303-409b-e73d-e7c69859524e"
      },
      "source": [
        "n1 = np.arange(1,10)\n",
        "print(n1)\n",
        "print(n1.reshape(3,3))  # 해당 shape으로 바꿈"
      ],
      "execution_count": 18,
      "outputs": [
        {
          "output_type": "stream",
          "name": "stdout",
          "text": [
            "[1 2 3 4 5 6 7 8 9]\n",
            "[[1 2 3]\n",
            " [4 5 6]\n",
            " [7 8 9]]\n"
          ]
        }
      ]
    },
    {
      "cell_type": "markdown",
      "metadata": {
        "id": "y_U1W-fQfuQY"
      },
      "source": [
        "* `newaxis()`: 새로운 축 추가"
      ]
    },
    {
      "cell_type": "code",
      "metadata": {
        "id": "COif_weCfkGo",
        "colab": {
          "base_uri": "https://localhost:8080/"
        },
        "outputId": "5f05371b-2048-4dfa-d12b-51be2484da33"
      },
      "source": [
        "print(n1)\n",
        "print(n1[np.newaxis, :5])  \n",
        "print(n1[:5, np.newaxis])  # 컬럼에 새로운 축 추가"
      ],
      "execution_count": 19,
      "outputs": [
        {
          "output_type": "stream",
          "name": "stdout",
          "text": [
            "[1 2 3 4 5 6 7 8 9]\n",
            "[[1 2 3 4 5]]\n",
            "[[1]\n",
            " [2]\n",
            " [3]\n",
            " [4]\n",
            " [5]]\n"
          ]
        }
      ]
    },
    {
      "cell_type": "markdown",
      "metadata": {
        "id": "FR82RSDggbcJ"
      },
      "source": [
        "### 배열 크기 변경"
      ]
    },
    {
      "cell_type": "markdown",
      "metadata": {
        "id": "D1LuDMVFl4tc"
      },
      "source": [
        "* 배열 모양만 변경"
      ]
    },
    {
      "cell_type": "code",
      "metadata": {
        "id": "7B6pHlfxgdSJ",
        "colab": {
          "base_uri": "https://localhost:8080/"
        },
        "outputId": "a873eeca-f3c4-47ee-a819-5b5db44eb397"
      },
      "source": [
        "n2 = np.random.randint(0, 10, (2,5))\n",
        "print(n2)\n",
        "n2.resize((5,2))\n",
        "print(n2)"
      ],
      "execution_count": 26,
      "outputs": [
        {
          "output_type": "stream",
          "name": "stdout",
          "text": [
            "[[7 5 3 2 0]\n",
            " [9 9 0 1 4]]\n",
            "[[7 5]\n",
            " [3 2]\n",
            " [0 9]\n",
            " [9 0]\n",
            " [1 4]]\n"
          ]
        }
      ]
    },
    {
      "cell_type": "markdown",
      "metadata": {
        "id": "s0adm-h9l6sv"
      },
      "source": [
        "* 배열 크기 증가\n",
        "* 남은 공간은 0으로 채워짐"
      ]
    },
    {
      "cell_type": "code",
      "metadata": {
        "id": "IrX0UcjrlWRV",
        "colab": {
          "base_uri": "https://localhost:8080/"
        },
        "outputId": "07bed3ad-a662-49bb-d629-22bc9e2709f4"
      },
      "source": [
        "n2.resize((5,5), refcheck=False)\n",
        "print(n2)"
      ],
      "execution_count": 30,
      "outputs": [
        {
          "output_type": "stream",
          "name": "stdout",
          "text": [
            "[[7 5 3 2 0]\n",
            " [9 9 0 1 4]\n",
            " [0 0 0 0 0]\n",
            " [0 0 0 0 0]\n",
            " [0 0 0 0 0]]\n"
          ]
        }
      ]
    },
    {
      "cell_type": "markdown",
      "metadata": {
        "id": "78hPDEzfl9JB"
      },
      "source": [
        "* 배열 크기 감소\n",
        "* 포함되지 않은 값은 삭제됨"
      ]
    },
    {
      "cell_type": "code",
      "metadata": {
        "id": "fJWrwhc6lmjW",
        "colab": {
          "base_uri": "https://localhost:8080/"
        },
        "outputId": "33ca95d8-cce5-4d69-965e-81b57c74963c"
      },
      "source": [
        "n2.resize((3,3), refcheck=False)\n",
        "print(n2)"
      ],
      "execution_count": 31,
      "outputs": [
        {
          "output_type": "stream",
          "name": "stdout",
          "text": [
            "[[7 5 3]\n",
            " [2 0 9]\n",
            " [9 0 1]]\n"
          ]
        }
      ]
    },
    {
      "cell_type": "markdown",
      "metadata": {
        "id": "r9z2gD_pHyx9"
      },
      "source": [
        "### 배열 추가\n",
        "\n",
        "* `append()`: 배열의 끝에 값 추가"
      ]
    },
    {
      "cell_type": "code",
      "metadata": {
        "id": "fH4lpQKNH5s1",
        "colab": {
          "base_uri": "https://localhost:8080/"
        },
        "outputId": "2df115d9-ea0a-492c-dd50-9612b9a883b3"
      },
      "source": [
        "a2 = np.arange(1,10).reshape(3,3)\n",
        "print(a2)\n",
        "b2 = np.arange(10,19).reshape(3,3)\n",
        "print(b2)"
      ],
      "execution_count": 33,
      "outputs": [
        {
          "output_type": "stream",
          "name": "stdout",
          "text": [
            "[[1 2 3]\n",
            " [4 5 6]\n",
            " [7 8 9]]\n",
            "[[10 11 12]\n",
            " [13 14 15]\n",
            " [16 17 18]]\n"
          ]
        }
      ]
    },
    {
      "cell_type": "markdown",
      "metadata": {
        "id": "n8SMl5VVIquk"
      },
      "source": [
        "* axis 지정이 없으면 1차원 배열 형태로 변형되어 결합"
      ]
    },
    {
      "cell_type": "code",
      "metadata": {
        "id": "LRltk3yFIVsV",
        "colab": {
          "base_uri": "https://localhost:8080/"
        },
        "outputId": "fa4beb35-19ea-4400-eb8f-56a00aa1d229"
      },
      "source": [
        "c2 = np.append(a2, b2)\n",
        "print(c2)"
      ],
      "execution_count": 34,
      "outputs": [
        {
          "output_type": "stream",
          "name": "stdout",
          "text": [
            "[ 1  2  3  4  5  6  7  8  9 10 11 12 13 14 15 16 17 18]\n"
          ]
        }
      ]
    },
    {
      "cell_type": "markdown",
      "metadata": {
        "id": "sVW2UFVZJfpR"
      },
      "source": [
        "* axis를 0으로 지정\n",
        "* shape[0]을 제외한 나머지 shape은 같아야 함"
      ]
    },
    {
      "cell_type": "code",
      "metadata": {
        "id": "nwJ4xLOeIbMg",
        "colab": {
          "base_uri": "https://localhost:8080/"
        },
        "outputId": "a600f473-21e9-4044-f709-6665f35c6f03"
      },
      "source": [
        "c2 = np.append(a2, b2, axis=0) # 행 방향으로 append\n",
        "print(c2)"
      ],
      "execution_count": 35,
      "outputs": [
        {
          "output_type": "stream",
          "name": "stdout",
          "text": [
            "[[ 1  2  3]\n",
            " [ 4  5  6]\n",
            " [ 7  8  9]\n",
            " [10 11 12]\n",
            " [13 14 15]\n",
            " [16 17 18]]\n"
          ]
        }
      ]
    },
    {
      "cell_type": "markdown",
      "metadata": {
        "id": "4YXxzygaJmj-"
      },
      "source": [
        "* axis를 1로 지정\n",
        "* shape[1]을 제외한 나머지 shape은 같아야 함"
      ]
    },
    {
      "cell_type": "code",
      "metadata": {
        "id": "JYE4_5gAJmYe",
        "colab": {
          "base_uri": "https://localhost:8080/"
        },
        "outputId": "d08bed2c-1af9-476a-d2ab-e95d986bde2a"
      },
      "source": [
        "c2 = np.append(a2, b2, axis=1) # 열방향으로 append\n",
        "print(c2)"
      ],
      "execution_count": 36,
      "outputs": [
        {
          "output_type": "stream",
          "name": "stdout",
          "text": [
            "[[ 1  2  3 10 11 12]\n",
            " [ 4  5  6 13 14 15]\n",
            " [ 7  8  9 16 17 18]]\n"
          ]
        }
      ]
    },
    {
      "cell_type": "markdown",
      "metadata": {
        "id": "9sTza3b2hoe4"
      },
      "source": [
        "### 배열 연결"
      ]
    },
    {
      "cell_type": "markdown",
      "metadata": {
        "id": "TRun2NPYj8Ct"
      },
      "source": [
        "* `concatenate()`: 튜플이나 배열의 리스트를 인수로 사용해 배열 연결"
      ]
    },
    {
      "cell_type": "code",
      "metadata": {
        "id": "lmEqdPifhrB_",
        "colab": {
          "base_uri": "https://localhost:8080/"
        },
        "outputId": "9199c8b6-b2a5-4e21-ef78-adddc218cc6f"
      },
      "source": [
        "a1 = np.array([1,3,5])\n",
        "b1 = np.array([2,4,6])\n",
        "np.concatenate([a1, b1])"
      ],
      "execution_count": 37,
      "outputs": [
        {
          "output_type": "execute_result",
          "data": {
            "text/plain": [
              "array([1, 3, 5, 2, 4, 6])"
            ]
          },
          "metadata": {},
          "execution_count": 37
        }
      ]
    },
    {
      "cell_type": "code",
      "metadata": {
        "id": "IkoTNIt2k0tp",
        "colab": {
          "base_uri": "https://localhost:8080/"
        },
        "outputId": "5180e44b-752c-43b1-c309-facac8f2b56d"
      },
      "source": [
        "c1 = np.array([7,8, 9])\n",
        "np.concatenate([a1, b1, c1])"
      ],
      "execution_count": 38,
      "outputs": [
        {
          "output_type": "execute_result",
          "data": {
            "text/plain": [
              "array([1, 3, 5, 2, 4, 6, 7, 8, 9])"
            ]
          },
          "metadata": {},
          "execution_count": 38
        }
      ]
    },
    {
      "cell_type": "code",
      "metadata": {
        "id": "vX0SCYX3lEs2",
        "colab": {
          "base_uri": "https://localhost:8080/"
        },
        "outputId": "cd646bfc-fb00-448c-9bfb-d3e5b09a7877"
      },
      "source": [
        "# 2차원으로 concatenate -> axis=0이므로 아래로 붙음\n",
        "a2 = np.array([[1,2,3],\n",
        "              [4,5,6]])\n",
        "np.concatenate([a2, a2])"
      ],
      "execution_count": 40,
      "outputs": [
        {
          "output_type": "execute_result",
          "data": {
            "text/plain": [
              "array([[1, 2, 3],\n",
              "       [4, 5, 6],\n",
              "       [1, 2, 3],\n",
              "       [4, 5, 6]])"
            ]
          },
          "metadata": {},
          "execution_count": 40
        }
      ]
    },
    {
      "cell_type": "code",
      "metadata": {
        "id": "Rv6xGva7lxHP",
        "colab": {
          "base_uri": "https://localhost:8080/"
        },
        "outputId": "e7ecd9e9-b556-4e01-8c51-4a37007f85c2"
      },
      "source": [
        "# axis=1\n",
        "a2 = np.array([[1,2,3],\n",
        "              [4,5,6]])\n",
        "np.concatenate([a2, a2], axis=1)"
      ],
      "execution_count": 41,
      "outputs": [
        {
          "output_type": "execute_result",
          "data": {
            "text/plain": [
              "array([[1, 2, 3, 1, 2, 3],\n",
              "       [4, 5, 6, 4, 5, 6]])"
            ]
          },
          "metadata": {},
          "execution_count": 41
        }
      ]
    },
    {
      "cell_type": "markdown",
      "metadata": {
        "id": "MbiBbx4nl2KD"
      },
      "source": [
        "* `vstack()`: 수직 스택(vertical stack), 1차원으로 연결"
      ]
    },
    {
      "cell_type": "code",
      "metadata": {
        "id": "HkHJwdBMl_qi",
        "colab": {
          "base_uri": "https://localhost:8080/"
        },
        "outputId": "8ebb8c74-28f4-4e7f-f75c-3109321b7a24"
      },
      "source": [
        "np.vstack([a2, a2])"
      ],
      "execution_count": 42,
      "outputs": [
        {
          "output_type": "execute_result",
          "data": {
            "text/plain": [
              "array([[1, 2, 3],\n",
              "       [4, 5, 6],\n",
              "       [1, 2, 3],\n",
              "       [4, 5, 6]])"
            ]
          },
          "metadata": {},
          "execution_count": 42
        }
      ]
    },
    {
      "cell_type": "markdown",
      "metadata": {
        "id": "-hTlAnWxmHA_"
      },
      "source": [
        "* `hstack()`: 수평 스택(horizontal stack), 2차원으로 연결"
      ]
    },
    {
      "cell_type": "code",
      "metadata": {
        "id": "-HsGlAytmNEz",
        "colab": {
          "base_uri": "https://localhost:8080/"
        },
        "outputId": "e7d2b923-08f1-48b6-d9c7-ade5fd80c50c"
      },
      "source": [
        "np.hstack([a2, a2])"
      ],
      "execution_count": 44,
      "outputs": [
        {
          "output_type": "execute_result",
          "data": {
            "text/plain": [
              "array([[1, 2, 3, 1, 2, 3],\n",
              "       [4, 5, 6, 4, 5, 6]])"
            ]
          },
          "metadata": {},
          "execution_count": 44
        }
      ]
    },
    {
      "cell_type": "markdown",
      "metadata": {
        "id": "CshM6LURmUhV"
      },
      "source": [
        "* `dstack()`: 깊이 스택(depth stack), 3차원으로 연결"
      ]
    },
    {
      "cell_type": "code",
      "metadata": {
        "id": "TFBdRddpmU4m",
        "colab": {
          "base_uri": "https://localhost:8080/"
        },
        "outputId": "bc43235b-be1b-4bfd-d769-89eb1c09f1f3"
      },
      "source": [
        "np.dstack([a2, a2])"
      ],
      "execution_count": 45,
      "outputs": [
        {
          "output_type": "execute_result",
          "data": {
            "text/plain": [
              "array([[[1, 1],\n",
              "        [2, 2],\n",
              "        [3, 3]],\n",
              "\n",
              "       [[4, 4],\n",
              "        [5, 5],\n",
              "        [6, 6]]])"
            ]
          },
          "metadata": {},
          "execution_count": 45
        }
      ]
    },
    {
      "cell_type": "markdown",
      "metadata": {
        "id": "JUBtc4UnpaSz"
      },
      "source": [
        "* `stack()`: 새로운 차원으로 연결"
      ]
    },
    {
      "cell_type": "code",
      "metadata": {
        "id": "JzoujQ9_pHS5",
        "colab": {
          "base_uri": "https://localhost:8080/"
        },
        "outputId": "55d76cf5-76b7-4260-f58a-de27b8491d44"
      },
      "source": [
        "# 2차원이 3차원으로 변경되어 연결됌\n",
        "np.stack([a2, a2])"
      ],
      "execution_count": 46,
      "outputs": [
        {
          "output_type": "execute_result",
          "data": {
            "text/plain": [
              "array([[[1, 2, 3],\n",
              "        [4, 5, 6]],\n",
              "\n",
              "       [[1, 2, 3],\n",
              "        [4, 5, 6]]])"
            ]
          },
          "metadata": {},
          "execution_count": 46
        }
      ]
    },
    {
      "cell_type": "markdown",
      "metadata": {
        "id": "eYz74NYKo8iH"
      },
      "source": [
        "### 배열 분할"
      ]
    },
    {
      "cell_type": "markdown",
      "metadata": {
        "id": "wjt2zku5pBmF"
      },
      "source": [
        "* `split()`: 배열 분할"
      ]
    },
    {
      "cell_type": "code",
      "metadata": {
        "id": "H_2e71heo-Eq",
        "colab": {
          "base_uri": "https://localhost:8080/"
        },
        "outputId": "e62a1ca3-6ccc-4683-e40c-ace0c0737359"
      },
      "source": [
        "a1 = np.arange(0, 10)\n",
        "print(a1)\n",
        "b1, c1 = np.split(a1, [5]) # 기준이 되는 index 위치\n",
        "print(b1, c1)\n",
        "\n",
        "\n",
        "b1, c1, d1, e1, f1 = np.split(a1, [2,4,6,8])  \n",
        "print(b1, c1, d1, e1, f1)"
      ],
      "execution_count": 49,
      "outputs": [
        {
          "output_type": "stream",
          "name": "stdout",
          "text": [
            "[0 1 2 3 4 5 6 7 8 9]\n",
            "[0 1 2 3 4] [5 6 7 8 9]\n",
            "[0 1] [2 3] [4 5] [6 7] [8 9]\n"
          ]
        }
      ]
    },
    {
      "cell_type": "markdown",
      "metadata": {
        "id": "IvvdCQcKsCLn"
      },
      "source": [
        "* `vsplit()`: 수직 분할, 1차원으로 분할"
      ]
    },
    {
      "cell_type": "code",
      "metadata": {
        "id": "GdMYlsiLsCoe",
        "colab": {
          "base_uri": "https://localhost:8080/"
        },
        "outputId": "349e0d4e-c216-4752-b3e6-77b016ca2b67"
      },
      "source": [
        "a2 = np.arange(1, 10).reshape(3,3)\n",
        "print(a2)\n",
        "\n",
        "b2, c2 = np.vsplit(a2, [2])\n",
        "print(b2)\n",
        "print(c2)"
      ],
      "execution_count": 50,
      "outputs": [
        {
          "output_type": "stream",
          "name": "stdout",
          "text": [
            "[[1 2 3]\n",
            " [4 5 6]\n",
            " [7 8 9]]\n",
            "[[1 2 3]\n",
            " [4 5 6]]\n",
            "[[7 8 9]]\n"
          ]
        }
      ]
    },
    {
      "cell_type": "markdown",
      "metadata": {
        "id": "1aC0a034rSXi"
      },
      "source": [
        "* `hsplit()`: 수평 분할, 2차원으로 분할"
      ]
    },
    {
      "cell_type": "code",
      "metadata": {
        "id": "ShMnE_bnrSBJ",
        "colab": {
          "base_uri": "https://localhost:8080/"
        },
        "outputId": "ce33b09c-141d-41f1-9e60-c8a0d63c7906"
      },
      "source": [
        "a2 = np.arange(1, 10).reshape(3,3)\n",
        "print(a2)\n",
        "\n",
        "b2, c2 = np.hsplit(a2, [2])\n",
        "print(b2)\n",
        "print(c2)"
      ],
      "execution_count": 51,
      "outputs": [
        {
          "output_type": "stream",
          "name": "stdout",
          "text": [
            "[[1 2 3]\n",
            " [4 5 6]\n",
            " [7 8 9]]\n",
            "[[1 2]\n",
            " [4 5]\n",
            " [7 8]]\n",
            "[[3]\n",
            " [6]\n",
            " [9]]\n"
          ]
        }
      ]
    },
    {
      "cell_type": "markdown",
      "metadata": {
        "id": "Pz3BDD8qsQER"
      },
      "source": [
        "* `dsplit()`: 깊이 분할, 3차원으로 분할"
      ]
    },
    {
      "cell_type": "code",
      "metadata": {
        "id": "DqHFGd43sQYj",
        "colab": {
          "base_uri": "https://localhost:8080/"
        },
        "outputId": "f130ec30-d8f9-4b6b-b63e-fc03c4a7f8f5"
      },
      "source": [
        "a3 = np.arange(1, 28).reshape(3,3,3)\n",
        "print(a3)\n",
        "\n",
        "b3, c3 = np.dsplit(a3, [2])\n",
        "print(b3)\n",
        "print(c3)"
      ],
      "execution_count": 55,
      "outputs": [
        {
          "output_type": "stream",
          "name": "stdout",
          "text": [
            "[[[ 1  2  3]\n",
            "  [ 4  5  6]\n",
            "  [ 7  8  9]]\n",
            "\n",
            " [[10 11 12]\n",
            "  [13 14 15]\n",
            "  [16 17 18]]\n",
            "\n",
            " [[19 20 21]\n",
            "  [22 23 24]\n",
            "  [25 26 27]]]\n",
            "[[[ 1  2]\n",
            "  [ 4  5]\n",
            "  [ 7  8]]\n",
            "\n",
            " [[10 11]\n",
            "  [13 14]\n",
            "  [16 17]]\n",
            "\n",
            " [[19 20]\n",
            "  [22 23]\n",
            "  [25 26]]]\n",
            "[[[ 3]\n",
            "  [ 6]\n",
            "  [ 9]]\n",
            "\n",
            " [[12]\n",
            "  [15]\n",
            "  [18]]\n",
            "\n",
            " [[21]\n",
            "  [24]\n",
            "  [27]]]\n"
          ]
        }
      ]
    },
    {
      "cell_type": "markdown",
      "metadata": {
        "id": "rK-zrDZuGoVd"
      },
      "source": [
        "\n",
        "\n",
        "---\n",
        "\n"
      ]
    },
    {
      "cell_type": "markdown",
      "metadata": {
        "id": "Vc-iSWewJ3C1"
      },
      "source": [
        "## 배열 연산\n",
        "\n",
        "* NumPy의 배열 연산은 벡터화(vectorized) 연산을 사용\n",
        "* 일반적으로 NumPy의 범용 함수(universal functions)를 통해 구현\n",
        "* 배열 요소에 대한 반복적인 계산을 효율적으로 수행\n"
      ]
    },
    {
      "cell_type": "markdown",
      "metadata": {
        "id": "Pg2er1A2w3cz"
      },
      "source": [
        "### 브로드캐스팅(Broadcasting)\n",
        "\n",
        "세번째 예시. shape이 달라도 브로드캐스팅되어 연산결과가 나옴"
      ]
    },
    {
      "cell_type": "markdown",
      "source": [
        "![image.png](data:image/png;base64,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)"
      ],
      "metadata": {
        "id": "rcGSflRecP2z"
      }
    },
    {
      "cell_type": "code",
      "metadata": {
        "id": "IGU-HRgr20nj",
        "colab": {
          "base_uri": "https://localhost:8080/"
        },
        "outputId": "d470d02a-f56e-4b18-b8e6-6cb314d5f8f4"
      },
      "source": [
        "a1 = np.array([1,2,3])\n",
        "print(a1)\n",
        "print(a1+5)"
      ],
      "execution_count": 59,
      "outputs": [
        {
          "output_type": "stream",
          "name": "stdout",
          "text": [
            "[1 2 3]\n",
            "[6 7 8]\n"
          ]
        }
      ]
    },
    {
      "cell_type": "code",
      "metadata": {
        "id": "IAzsmIAn1HNt",
        "colab": {
          "base_uri": "https://localhost:8080/"
        },
        "outputId": "12b6e999-f273-4fea-9f59-c0855fd099d8"
      },
      "source": [
        "a2=np.arange(1,10).reshape(3,3)  \n",
        "print(a2)\n",
        "print(a1+a2)   # 서로 shpae이 다르지만 브로드캐스팅이 됌"
      ],
      "execution_count": 60,
      "outputs": [
        {
          "output_type": "stream",
          "name": "stdout",
          "text": [
            "[[1 2 3]\n",
            " [4 5 6]\n",
            " [7 8 9]]\n",
            "[[ 2  4  6]\n",
            " [ 5  7  9]\n",
            " [ 8 10 12]]\n"
          ]
        }
      ]
    },
    {
      "cell_type": "code",
      "source": [
        "b2=np.array([1,2,3]).reshape(3,1)  \n",
        "print(a1)\n",
        "print(b2)\n",
        "print(a1+b2)   # 서로 shpae이 다르지만 브로드캐스팅이 됌"
      ],
      "metadata": {
        "colab": {
          "base_uri": "https://localhost:8080/"
        },
        "id": "6FOTXqSAc58f",
        "outputId": "a42a937d-bca4-4160-c0e1-fa26736b4e38"
      },
      "execution_count": 62,
      "outputs": [
        {
          "output_type": "stream",
          "name": "stdout",
          "text": [
            "[1 2 3]\n",
            "[[1]\n",
            " [2]\n",
            " [3]]\n",
            "[[2 3 4]\n",
            " [3 4 5]\n",
            " [4 5 6]]\n"
          ]
        }
      ]
    },
    {
      "cell_type": "markdown",
      "metadata": {
        "id": "NZzLHHLmwl_b"
      },
      "source": [
        "### 산술 연산(Arithmetic Operators)"
      ]
    },
    {
      "cell_type": "markdown",
      "source": [
        "![image.png](data:image/png;base64,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)"
      ],
      "metadata": {
        "id": "J0FfZ05Cdagn"
      }
    },
    {
      "cell_type": "code",
      "metadata": {
        "id": "jHrIjHGEi05k",
        "colab": {
          "base_uri": "https://localhost:8080/"
        },
        "outputId": "eb608fd0-fa0a-4ca3-ef31-66f68651abec"
      },
      "source": [
        "a1 = np.arange(1,10)\n",
        "print(a1)\n",
        "print(a1+1)\n",
        "print(np.add(a1,10))\n"
      ],
      "execution_count": 65,
      "outputs": [
        {
          "output_type": "stream",
          "name": "stdout",
          "text": [
            "[1 2 3 4 5 6 7 8 9]\n",
            "[ 2  3  4  5  6  7  8  9 10]\n",
            "[11 12 13 14 15 16 17 18 19]\n"
          ]
        }
      ]
    },
    {
      "cell_type": "code",
      "metadata": {
        "id": "sMUYzXk3psgC",
        "colab": {
          "base_uri": "https://localhost:8080/"
        },
        "outputId": "9d06d4eb-8cfb-4f43-8b6c-1e9f935e2bc7"
      },
      "source": [
        "print(a1-2)\n",
        "print(np.subtract(a1,2))\n",
        "print(-a1)\n",
        "print(np.negative(a1))\n",
        "print(a1*2)\n",
        "print(np.multiply(a1,2))"
      ],
      "execution_count": 71,
      "outputs": [
        {
          "output_type": "stream",
          "name": "stdout",
          "text": [
            "[-1  0  1  2  3  4  5  6  7]\n",
            "[-1  0  1  2  3  4  5  6  7]\n",
            "[-1 -2 -3 -4 -5 -6 -7 -8 -9]\n",
            "[-1 -2 -3 -4 -5 -6 -7 -8 -9]\n",
            "[ 2  4  6  8 10 12 14 16 18]\n",
            "[ 2  4  6  8 10 12 14 16 18]\n"
          ]
        }
      ]
    },
    {
      "cell_type": "code",
      "source": [
        "print(a1/2)\n",
        "print(np.divide(a1, 2))\n",
        "\n",
        "print(a1//2)\n",
        "print(np.floor_divide(a1,2)) # 내림\n",
        "\n",
        "print(a1**2)\n",
        "print(np.power(a1,2))\n",
        "\n",
        "print(a1%2)\n",
        "print(np.mod(a1,2))"
      ],
      "metadata": {
        "colab": {
          "base_uri": "https://localhost:8080/"
        },
        "id": "fZB0eI8-d1DD",
        "outputId": "dee920f7-7e50-402d-c7ef-4cd27e2be1d4"
      },
      "execution_count": 73,
      "outputs": [
        {
          "output_type": "stream",
          "name": "stdout",
          "text": [
            "[0.5 1.  1.5 2.  2.5 3.  3.5 4.  4.5]\n",
            "[0.5 1.  1.5 2.  2.5 3.  3.5 4.  4.5]\n",
            "[0 1 1 2 2 3 3 4 4]\n",
            "[0 1 1 2 2 3 3 4 4]\n",
            "[ 1  4  9 16 25 36 49 64 81]\n",
            "[ 1  4  9 16 25 36 49 64 81]\n",
            "[1 0 1 0 1 0 1 0 1]\n",
            "[1 0 1 0 1 0 1 0 1]\n"
          ]
        }
      ]
    },
    {
      "cell_type": "code",
      "source": [
        "# 배열과 배열간의 계산도 모두 가능\n",
        "\n",
        "a1 = np.arange(1, 10)\n",
        "print(a1)\n",
        "b1 = np.random.randint(1, 10, size=9)\n",
        "print(b1)\n",
        "\n",
        "print(a1*b1)"
      ],
      "metadata": {
        "colab": {
          "base_uri": "https://localhost:8080/"
        },
        "id": "FoAlGg9sd1Fs",
        "outputId": "5fc20dae-664d-44eb-aebf-b207a485756b"
      },
      "execution_count": 74,
      "outputs": [
        {
          "output_type": "stream",
          "name": "stdout",
          "text": [
            "[1 2 3 4 5 6 7 8 9]\n",
            "[5 1 1 7 9 6 5 9 3]\n",
            "[ 5  2  3 28 45 36 35 72 27]\n"
          ]
        }
      ]
    },
    {
      "cell_type": "code",
      "source": [
        "# 2차원도 모두 가능\n",
        "a2 = np.arange(1,10).reshape(3,3)\n",
        "print(a2)\n",
        "b2 = np.random.randint(1,10,size=(3,3))\n",
        "print(b2)\n",
        "\n",
        "print(a2*b2)\n"
      ],
      "metadata": {
        "colab": {
          "base_uri": "https://localhost:8080/"
        },
        "id": "yxa66_UkenXo",
        "outputId": "2c94bb3a-b960-4c76-cb25-e875b3868433"
      },
      "execution_count": 76,
      "outputs": [
        {
          "output_type": "stream",
          "name": "stdout",
          "text": [
            "[[1 2 3]\n",
            " [4 5 6]\n",
            " [7 8 9]]\n",
            "[[3 6 8]\n",
            " [8 8 2]\n",
            " [4 1 5]]\n",
            "[[ 3 12 24]\n",
            " [32 40 12]\n",
            " [28  8 45]]\n"
          ]
        }
      ]
    },
    {
      "cell_type": "markdown",
      "metadata": {
        "id": "hxG_aECas3a9"
      },
      "source": [
        "#### 절대값 함수(Absolute Function)\n",
        "\n",
        "* `absolute()`, `abs()`: 내장된 절대값 함수"
      ]
    },
    {
      "cell_type": "code",
      "metadata": {
        "id": "YmX-0LvWs7qM",
        "colab": {
          "base_uri": "https://localhost:8080/"
        },
        "outputId": "7c8c8062-240e-4ab2-9f1a-343df5216e08"
      },
      "source": [
        "a1 = np.random.randint(-10, 20, size=5)\n",
        "print(a1)\n",
        "print(np.absolute(a1))\n",
        "print(np.abs(a1))"
      ],
      "execution_count": 77,
      "outputs": [
        {
          "output_type": "stream",
          "name": "stdout",
          "text": [
            "[-8 -3  0 -6 -1]\n",
            "[8 3 0 6 1]\n",
            "[8 3 0 6 1]\n"
          ]
        }
      ]
    },
    {
      "cell_type": "markdown",
      "metadata": {
        "id": "U5uE3sVtzRvA"
      },
      "source": [
        "#### 제곱/제곱근 함수\n",
        "\n",
        "* `square`, `sqrt`: 제곱, 제곱근 함수"
      ]
    },
    {
      "cell_type": "code",
      "metadata": {
        "id": "ggnIxDGzzTfX",
        "colab": {
          "base_uri": "https://localhost:8080/"
        },
        "outputId": "971a19a5-4a8a-4df5-b53b-5cc865075e25"
      },
      "source": [
        "print(a1)\n",
        "print(np.square(a1))\n",
        "print(np.sqrt(a1))"
      ],
      "execution_count": 78,
      "outputs": [
        {
          "output_type": "stream",
          "name": "stdout",
          "text": [
            "[-8 -3  0 -6 -1]\n",
            "[64  9  0 36  1]\n",
            "[nan nan  0. nan nan]\n"
          ]
        },
        {
          "output_type": "stream",
          "name": "stderr",
          "text": [
            "/usr/local/lib/python3.7/dist-packages/ipykernel_launcher.py:3: RuntimeWarning: invalid value encountered in sqrt\n",
            "  This is separate from the ipykernel package so we can avoid doing imports until\n"
          ]
        }
      ]
    },
    {
      "cell_type": "markdown",
      "metadata": {
        "id": "tWh1aQ50vRhB"
      },
      "source": [
        "#### 지수와 로그 함수 (Exponential and Log Function)"
      ]
    },
    {
      "cell_type": "code",
      "metadata": {
        "id": "Dygt3AyHvTZz",
        "colab": {
          "base_uri": "https://localhost:8080/"
        },
        "outputId": "3891d08f-4f37-4a4d-e883-6c53f138f297"
      },
      "source": [
        "a1 = np.random.randint(1,10,size=5)\n",
        "print(a1)\n",
        "print(np.exp(a1))\n",
        "print(np.exp2(a1))\n",
        "print(np.power(a1, 2)) # 지수 함수"
      ],
      "execution_count": 79,
      "outputs": [
        {
          "output_type": "stream",
          "name": "stdout",
          "text": [
            "[8 7 5 1 2]\n",
            "[2.98095799e+03 1.09663316e+03 1.48413159e+02 2.71828183e+00\n",
            " 7.38905610e+00]\n",
            "[256. 128.  32.   2.   4.]\n",
            "[64 49 25  1  4]\n"
          ]
        }
      ]
    },
    {
      "cell_type": "code",
      "metadata": {
        "id": "YB0BzwxDvnkT",
        "colab": {
          "base_uri": "https://localhost:8080/"
        },
        "outputId": "d8ad5ec5-22b8-42bc-a1b8-7ec959aa19db"
      },
      "source": [
        "# 로그 함수\n",
        "\n",
        "print(a1)\n",
        "print(np.log(a1))\n",
        "print(np.log2(a1))\n",
        "print(np.log10(a1))"
      ],
      "execution_count": 80,
      "outputs": [
        {
          "output_type": "stream",
          "name": "stdout",
          "text": [
            "[8 7 5 1 2]\n",
            "[2.07944154 1.94591015 1.60943791 0.         0.69314718]\n",
            "[3.         2.80735492 2.32192809 0.         1.        ]\n",
            "[0.90308999 0.84509804 0.69897    0.         0.30103   ]\n"
          ]
        }
      ]
    },
    {
      "cell_type": "markdown",
      "metadata": {
        "id": "wE_p9AxjtdJ9"
      },
      "source": [
        "#### 삼각 함수(Trigonometrical Function)\n"
      ]
    },
    {
      "cell_type": "code",
      "metadata": {
        "id": "6bOSPS81tuo5",
        "colab": {
          "base_uri": "https://localhost:8080/"
        },
        "outputId": "9b083669-797c-4f22-e891-f87a104b1878"
      },
      "source": [
        "t = np.linspace(0, np.pi, 5)\n",
        "print(t)\n",
        "\n",
        "print(np.sin(t))\n",
        "print(np.cos(t))\n",
        "print(np.tan(t))"
      ],
      "execution_count": 81,
      "outputs": [
        {
          "output_type": "stream",
          "name": "stdout",
          "text": [
            "[0.         0.78539816 1.57079633 2.35619449 3.14159265]\n",
            "[0.00000000e+00 7.07106781e-01 1.00000000e+00 7.07106781e-01\n",
            " 1.22464680e-16]\n",
            "[ 1.00000000e+00  7.07106781e-01  6.12323400e-17 -7.07106781e-01\n",
            " -1.00000000e+00]\n",
            "[ 0.00000000e+00  1.00000000e+00  1.63312394e+16 -1.00000000e+00\n",
            " -1.22464680e-16]\n"
          ]
        }
      ]
    },
    {
      "cell_type": "code",
      "metadata": {
        "id": "v7m-AQW9uJ9u",
        "colab": {
          "base_uri": "https://localhost:8080/"
        },
        "outputId": "05ea392e-b9e9-417d-afc5-299673269760"
      },
      "source": [
        "x = [-1,0,1]\n",
        "print(x)\n",
        "print(np.arcsin(x))\n",
        "print(np.arccos(x))\n",
        "print(np.arctan(x))"
      ],
      "execution_count": 82,
      "outputs": [
        {
          "output_type": "stream",
          "name": "stdout",
          "text": [
            "[-1, 0, 1]\n",
            "[-1.57079633  0.          1.57079633]\n",
            "[3.14159265 1.57079633 0.        ]\n",
            "[-0.78539816  0.          0.78539816]\n"
          ]
        }
      ]
    },
    {
      "cell_type": "markdown",
      "metadata": {
        "id": "hKJtYUVWwxQy"
      },
      "source": [
        "### 집계 함수(Aggregate Functions)"
      ]
    },
    {
      "cell_type": "markdown",
      "source": [
        "- 집계함수는 숫자에 대해서만 할 수 있기 때문에 nan값이 있을 경우 에러를 return함\n",
        "- 집계함수 중 NaN안전모드를 사용하면 nan값이 있더라도 안전하게 수행됌"
      ],
      "metadata": {
        "id": "DQrzTs2SgB_C"
      }
    },
    {
      "cell_type": "markdown",
      "metadata": {
        "id": "GdxMrX5l9m6W"
      },
      "source": [
        "#### sum(): 합 계산"
      ]
    },
    {
      "cell_type": "code",
      "metadata": {
        "id": "AJQ3GjLI0cZU",
        "colab": {
          "base_uri": "https://localhost:8080/"
        },
        "outputId": "8909796d-12bd-4289-ef00-7ad370ec5e67"
      },
      "source": [
        "a2 = np.random.randint(1, 10, size=(3,3))\n",
        "print(a2)\n",
        "print(a2.sum(), np.sum(a2))\n",
        "\n",
        "# 축 지정 가능\n",
        "print(a2.sum(axis=0), np.sum(a2, axis=0)) # 행 방향으로 sum\n",
        "print(a2.sum(axis=1), np.sum(a2, axis=1)) # 열 방향"
      ],
      "execution_count": 83,
      "outputs": [
        {
          "output_type": "stream",
          "name": "stdout",
          "text": [
            "[[2 4 5]\n",
            " [3 7 6]\n",
            " [5 1 1]]\n",
            "34 34\n",
            "[10 12 12] [10 12 12]\n",
            "[11 16  7] [11 16  7]\n"
          ]
        }
      ]
    },
    {
      "cell_type": "markdown",
      "metadata": {
        "id": "U4W4iIb9J4Zd"
      },
      "source": [
        "#### cumsum(): 누적합 계산"
      ]
    },
    {
      "cell_type": "code",
      "metadata": {
        "id": "SRZWZD3UJ4wo",
        "colab": {
          "base_uri": "https://localhost:8080/"
        },
        "outputId": "33f4c381-0a68-48d2-8b41-b33cf4d7ab92"
      },
      "source": [
        "print(a2)\n",
        "print(np.cumsum(a2))\n",
        "\n",
        "# 축 지정 가능\n",
        "print(np.cumsum(a2, axis=0)) # 행 방향으로 sum\n",
        "print(np.cumsum(a2, axis=1)) # 열 방향"
      ],
      "execution_count": 84,
      "outputs": [
        {
          "output_type": "stream",
          "name": "stdout",
          "text": [
            "[[2 4 5]\n",
            " [3 7 6]\n",
            " [5 1 1]]\n",
            "[ 2  6 11 14 21 27 32 33 34]\n",
            "[[ 2  4  5]\n",
            " [ 5 11 11]\n",
            " [10 12 12]]\n",
            "[[ 2  6 11]\n",
            " [ 3 10 16]\n",
            " [ 5  6  7]]\n"
          ]
        }
      ]
    },
    {
      "cell_type": "markdown",
      "metadata": {
        "id": "pVaJRWQ-LV0f"
      },
      "source": [
        "#### diff(): 차분 계산"
      ]
    },
    {
      "cell_type": "code",
      "metadata": {
        "id": "yKjnWtGVLWJj",
        "colab": {
          "base_uri": "https://localhost:8080/"
        },
        "outputId": "dc3e4233-7bfd-4776-9a47-3ab3c6725936"
      },
      "source": [
        "print(a2)\n",
        "print(np.diff(a2)) # 2에서 4가 되려면 2, 4에서 5가되려면 1... \n",
        "\n",
        "print(np.diff(a2, axis=0)) \n",
        "print(np.diff(a2, axis=1)) "
      ],
      "execution_count": 85,
      "outputs": [
        {
          "output_type": "stream",
          "name": "stdout",
          "text": [
            "[[2 4 5]\n",
            " [3 7 6]\n",
            " [5 1 1]]\n",
            "[[ 2  1]\n",
            " [ 4 -1]\n",
            " [-4  0]]\n",
            "[[ 1  3  1]\n",
            " [ 2 -6 -5]]\n",
            "[[ 2  1]\n",
            " [ 4 -1]\n",
            " [-4  0]]\n"
          ]
        }
      ]
    },
    {
      "cell_type": "markdown",
      "metadata": {
        "id": "b6I38HfA9vGL"
      },
      "source": [
        "#### prod(): 곱 계산"
      ]
    },
    {
      "cell_type": "code",
      "metadata": {
        "id": "rGPMXGe89y0O",
        "colab": {
          "base_uri": "https://localhost:8080/"
        },
        "outputId": "bbb98c5b-894f-4802-fa3d-af683ed72a45"
      },
      "source": [
        "print(a2)\n",
        "print(np.prod(a2)) \n",
        "\n",
        "print(np.prod(a2, axis=0))  # 행 방향 2*3*5  4*7*1 .. \n",
        "print(np.prod(a2, axis=1))  # 열 방향 2*4*5  3*7*6"
      ],
      "execution_count": 87,
      "outputs": [
        {
          "output_type": "stream",
          "name": "stdout",
          "text": [
            "[[2 4 5]\n",
            " [3 7 6]\n",
            " [5 1 1]]\n",
            "25200\n",
            "[30 28 30]\n",
            "[ 40 126   5]\n"
          ]
        }
      ]
    },
    {
      "cell_type": "markdown",
      "metadata": {
        "id": "RwaoVUGcKkkE"
      },
      "source": [
        "#### cumprod(): 누적곱 계산"
      ]
    },
    {
      "cell_type": "code",
      "metadata": {
        "id": "jwYoX9inKk4D",
        "colab": {
          "base_uri": "https://localhost:8080/"
        },
        "outputId": "3ca99c10-c7dc-40e4-f1a6-c6e13383c0cc"
      },
      "source": [
        "print(a2)\n",
        "print(np.cumprod(a2)) \n",
        "\n",
        "print(np.cumprod(a2, axis=0))  # 행 방향 2*3*5  4*7*1 .. \n",
        "print(np.cumprod(a2, axis=1))  # 열 방향 2*4*5  3*7*6"
      ],
      "execution_count": 88,
      "outputs": [
        {
          "output_type": "stream",
          "name": "stdout",
          "text": [
            "[[2 4 5]\n",
            " [3 7 6]\n",
            " [5 1 1]]\n",
            "[    2     8    40   120   840  5040 25200 25200 25200]\n",
            "[[ 2  4  5]\n",
            " [ 6 28 30]\n",
            " [30 28 30]]\n",
            "[[  2   8  40]\n",
            " [  3  21 126]\n",
            " [  5   5   5]]\n"
          ]
        }
      ]
    },
    {
      "cell_type": "markdown",
      "metadata": {
        "id": "_LMAbL9hMV7T"
      },
      "source": [
        "#### dot()/matmul(): 점곱/행렬곱 계산"
      ]
    },
    {
      "cell_type": "code",
      "metadata": {
        "id": "xC6FBzF0MWW1",
        "colab": {
          "base_uri": "https://localhost:8080/"
        },
        "outputId": "67e1ad46-64e9-46b8-b1a3-18fa27acb622"
      },
      "source": [
        "print(a2)\n",
        "b2 = np.ones_like(a2)\n",
        "print(b2)\n",
        "\n",
        "print(np.dot(a2, b2))   # 점곱 : 2*1+4*1+5*1 = 11 \n",
        "print(np.matmul(a2, b2)) "
      ],
      "execution_count": 89,
      "outputs": [
        {
          "output_type": "stream",
          "name": "stdout",
          "text": [
            "[[2 4 5]\n",
            " [3 7 6]\n",
            " [5 1 1]]\n",
            "[[1 1 1]\n",
            " [1 1 1]\n",
            " [1 1 1]]\n",
            "[[11 11 11]\n",
            " [16 16 16]\n",
            " [ 7  7  7]]\n",
            "[[11 11 11]\n",
            " [16 16 16]\n",
            " [ 7  7  7]]\n"
          ]
        }
      ]
    },
    {
      "cell_type": "markdown",
      "metadata": {
        "id": "juVk3vnjPu31"
      },
      "source": [
        "#### tensordot(): 텐서곱 계산"
      ]
    },
    {
      "cell_type": "code",
      "metadata": {
        "id": "3LrcLOcjPvNI",
        "colab": {
          "base_uri": "https://localhost:8080/"
        },
        "outputId": "6d08ffda-73fa-42d4-82c8-a4ef6a165409"
      },
      "source": [
        "print(a2)\n",
        "print(b2)\n",
        "\n",
        "print(np.tensordot(a2,b2)) # 그냥 곱에 대한 결과와 같음\n",
        "print(np.tensordot(a2,b2, axes=0))  # 축에 따라서 다 곱한 결과\n",
        "print(np.tensordot(a2,b2, axes=1))  # dot product 결과와 같음"
      ],
      "execution_count": 91,
      "outputs": [
        {
          "output_type": "stream",
          "name": "stdout",
          "text": [
            "[[2 4 5]\n",
            " [3 7 6]\n",
            " [5 1 1]]\n",
            "[[1 1 1]\n",
            " [1 1 1]\n",
            " [1 1 1]]\n",
            "34\n",
            "[[[[2 2 2]\n",
            "   [2 2 2]\n",
            "   [2 2 2]]\n",
            "\n",
            "  [[4 4 4]\n",
            "   [4 4 4]\n",
            "   [4 4 4]]\n",
            "\n",
            "  [[5 5 5]\n",
            "   [5 5 5]\n",
            "   [5 5 5]]]\n",
            "\n",
            "\n",
            " [[[3 3 3]\n",
            "   [3 3 3]\n",
            "   [3 3 3]]\n",
            "\n",
            "  [[7 7 7]\n",
            "   [7 7 7]\n",
            "   [7 7 7]]\n",
            "\n",
            "  [[6 6 6]\n",
            "   [6 6 6]\n",
            "   [6 6 6]]]\n",
            "\n",
            "\n",
            " [[[5 5 5]\n",
            "   [5 5 5]\n",
            "   [5 5 5]]\n",
            "\n",
            "  [[1 1 1]\n",
            "   [1 1 1]\n",
            "   [1 1 1]]\n",
            "\n",
            "  [[1 1 1]\n",
            "   [1 1 1]\n",
            "   [1 1 1]]]]\n",
            "[[11 11 11]\n",
            " [16 16 16]\n",
            " [ 7  7  7]]\n"
          ]
        }
      ]
    },
    {
      "cell_type": "markdown",
      "metadata": {
        "id": "UzmZhB5TNRMX"
      },
      "source": [
        "#### cross(): 벡터곱"
      ]
    },
    {
      "cell_type": "code",
      "metadata": {
        "id": "xvT2hy1FNRkU",
        "colab": {
          "base_uri": "https://localhost:8080/"
        },
        "outputId": "d4f0b518-e3b1-4697-9276-f84d99263eb2"
      },
      "source": [
        "x = [1,2,3]\n",
        "y = [4,5,6]\n",
        "\n",
        "print(np.cross(x,y)) # 6*2-5*3  , 3*4-6*1   , 5*1-4*2"
      ],
      "execution_count": 92,
      "outputs": [
        {
          "output_type": "stream",
          "name": "stdout",
          "text": [
            "[-3  6 -3]\n"
          ]
        }
      ]
    },
    {
      "cell_type": "markdown",
      "metadata": {
        "id": "SJVYmtrSO5YL"
      },
      "source": [
        "#### inner()/outer(): 내적/외적"
      ]
    },
    {
      "cell_type": "code",
      "metadata": {
        "id": "HJpomax7O5s6",
        "colab": {
          "base_uri": "https://localhost:8080/"
        },
        "outputId": "571462e9-0d9c-4077-b884-ad5b55811a77"
      },
      "source": [
        "print(a2)\n",
        "print(b2)\n",
        "\n",
        "print(np.inner(a2,b2)) # dot product 결과와 같음\n",
        "print(np.outer(a2,b2)) # outer product 결과"
      ],
      "execution_count": 93,
      "outputs": [
        {
          "output_type": "stream",
          "name": "stdout",
          "text": [
            "[[2 4 5]\n",
            " [3 7 6]\n",
            " [5 1 1]]\n",
            "[[1 1 1]\n",
            " [1 1 1]\n",
            " [1 1 1]]\n",
            "[[11 11 11]\n",
            " [16 16 16]\n",
            " [ 7  7  7]]\n",
            "[[2 2 2 2 2 2 2 2 2]\n",
            " [4 4 4 4 4 4 4 4 4]\n",
            " [5 5 5 5 5 5 5 5 5]\n",
            " [3 3 3 3 3 3 3 3 3]\n",
            " [7 7 7 7 7 7 7 7 7]\n",
            " [6 6 6 6 6 6 6 6 6]\n",
            " [5 5 5 5 5 5 5 5 5]\n",
            " [1 1 1 1 1 1 1 1 1]\n",
            " [1 1 1 1 1 1 1 1 1]]\n"
          ]
        }
      ]
    },
    {
      "cell_type": "markdown",
      "metadata": {
        "id": "9CIotQgI_RQ-"
      },
      "source": [
        "#### mean(): 평균 계산"
      ]
    },
    {
      "cell_type": "code",
      "metadata": {
        "id": "g96wAEOT_bUk",
        "colab": {
          "base_uri": "https://localhost:8080/"
        },
        "outputId": "10a77f34-91e1-46a4-c608-ab662321bd85"
      },
      "source": [
        "print(a2)\n",
        "print(np.mean(a2))\n",
        "print(np.mean(a2, axis=0))\n",
        "print(np.mean(a2, axis=1))"
      ],
      "execution_count": 95,
      "outputs": [
        {
          "output_type": "stream",
          "name": "stdout",
          "text": [
            "[[2 4 5]\n",
            " [3 7 6]\n",
            " [5 1 1]]\n",
            "3.7777777777777777\n",
            "[3.33333333 4.         4.        ]\n",
            "[3.66666667 5.33333333 2.33333333]\n"
          ]
        }
      ]
    },
    {
      "cell_type": "markdown",
      "metadata": {
        "id": "wAG_zijP_Z5o"
      },
      "source": [
        "#### std(): 표준 편차 계산"
      ]
    },
    {
      "cell_type": "code",
      "metadata": {
        "id": "hlpnuyug_TXA"
      },
      "source": [
        "print(a2)\n",
        "print(np.mean(a2))\n",
        "print(np.mean(a2, axis=0))\n",
        "print(np.mean(a2, axis=1))"
      ],
      "execution_count": null,
      "outputs": []
    },
    {
      "cell_type": "markdown",
      "metadata": {
        "id": "5FFTCCDaAEhx"
      },
      "source": [
        "#### var(): 분산 계산"
      ]
    },
    {
      "cell_type": "code",
      "metadata": {
        "id": "CRMNkSdzAGZG",
        "colab": {
          "base_uri": "https://localhost:8080/"
        },
        "outputId": "9af87606-ac13-4d92-9809-2a0c8f0a4c24"
      },
      "source": [
        "print(a2)\n",
        "print(np.var(a2))\n",
        "print(np.var(a2, axis=0))\n",
        "print(np.var(a2, axis=1))"
      ],
      "execution_count": 96,
      "outputs": [
        {
          "output_type": "stream",
          "name": "stdout",
          "text": [
            "[[2 4 5]\n",
            " [3 7 6]\n",
            " [5 1 1]]\n",
            "4.172839506172839\n",
            "[1.55555556 6.         4.66666667]\n",
            "[1.55555556 2.88888889 3.55555556]\n"
          ]
        }
      ]
    },
    {
      "cell_type": "markdown",
      "metadata": {
        "id": "QFeh-4tmCCrU"
      },
      "source": [
        "#### min(): 최소값"
      ]
    },
    {
      "cell_type": "code",
      "metadata": {
        "id": "SMNCfYBQCEtf",
        "colab": {
          "base_uri": "https://localhost:8080/"
        },
        "outputId": "3917d109-a584-4141-968b-863639cb1bd0"
      },
      "source": [
        "print(a2)\n",
        "print(np.min(a2))\n",
        "print(np.min(a2, axis=0))\n",
        "print(np.min(a2, axis=1))"
      ],
      "execution_count": 97,
      "outputs": [
        {
          "output_type": "stream",
          "name": "stdout",
          "text": [
            "[[2 4 5]\n",
            " [3 7 6]\n",
            " [5 1 1]]\n",
            "1\n",
            "[2 1 1]\n",
            "[2 3 1]\n"
          ]
        }
      ]
    },
    {
      "cell_type": "markdown",
      "metadata": {
        "id": "A3n_JBnBJ2bo"
      },
      "source": [
        "#### max(): 최대값"
      ]
    },
    {
      "cell_type": "code",
      "metadata": {
        "id": "FmuOFKGAJ6Pf",
        "colab": {
          "base_uri": "https://localhost:8080/"
        },
        "outputId": "c3eec55a-a0c8-4adb-e237-3812972c1843"
      },
      "source": [
        "print(a2)\n",
        "print(np.max(a2))\n",
        "print(np.max(a2, axis=0))\n",
        "print(np.max(a2, axis=1))"
      ],
      "execution_count": 98,
      "outputs": [
        {
          "output_type": "stream",
          "name": "stdout",
          "text": [
            "[[2 4 5]\n",
            " [3 7 6]\n",
            " [5 1 1]]\n",
            "7\n",
            "[5 7 6]\n",
            "[5 7 5]\n"
          ]
        }
      ]
    },
    {
      "cell_type": "markdown",
      "metadata": {
        "id": "PvGOKDP0J_5b"
      },
      "source": [
        "#### argmin(): 최소값 인덱스"
      ]
    },
    {
      "cell_type": "code",
      "metadata": {
        "id": "1ILP7L3yKCqA",
        "colab": {
          "base_uri": "https://localhost:8080/"
        },
        "outputId": "5c1c28e3-d325-40a5-ad16-a4d8e1232ea8"
      },
      "source": [
        "print(a2)\n",
        "print(np.argmin(a2))\n",
        "print(np.argmin(a2, axis=0))\n",
        "print(np.argmin(a2, axis=1))"
      ],
      "execution_count": 99,
      "outputs": [
        {
          "output_type": "stream",
          "name": "stdout",
          "text": [
            "[[2 4 5]\n",
            " [3 7 6]\n",
            " [5 1 1]]\n",
            "7\n",
            "[0 2 2]\n",
            "[0 0 1]\n"
          ]
        }
      ]
    },
    {
      "cell_type": "markdown",
      "metadata": {
        "id": "23IcSctIKbUa"
      },
      "source": [
        "#### argmax(): 최대값 인덱스"
      ]
    },
    {
      "cell_type": "code",
      "metadata": {
        "id": "2m21cfCFKd-Q",
        "colab": {
          "base_uri": "https://localhost:8080/"
        },
        "outputId": "b693c88c-c6dc-4bbd-9751-f867c1809392"
      },
      "source": [
        "print(a2)\n",
        "print(np.argmax(a2))\n",
        "print(np.argmax(a2, axis=0))\n",
        "print(np.argmax(a2, axis=1))"
      ],
      "execution_count": 100,
      "outputs": [
        {
          "output_type": "stream",
          "name": "stdout",
          "text": [
            "[[2 4 5]\n",
            " [3 7 6]\n",
            " [5 1 1]]\n",
            "4\n",
            "[2 1 1]\n",
            "[2 1 0]\n"
          ]
        }
      ]
    },
    {
      "cell_type": "markdown",
      "metadata": {
        "id": "3TjeNFQLKuZb"
      },
      "source": [
        "#### median(): 중앙값"
      ]
    },
    {
      "cell_type": "code",
      "metadata": {
        "id": "kSLN17bpKwv6",
        "colab": {
          "base_uri": "https://localhost:8080/"
        },
        "outputId": "e6a747d8-c12c-4b8e-cc19-66635e65c35e"
      },
      "source": [
        "print(a2)\n",
        "print(np.median(a2))\n",
        "print(np.median(a2, axis=0))\n",
        "print(np.median(a2, axis=1))"
      ],
      "execution_count": 101,
      "outputs": [
        {
          "output_type": "stream",
          "name": "stdout",
          "text": [
            "[[2 4 5]\n",
            " [3 7 6]\n",
            " [5 1 1]]\n",
            "4.0\n",
            "[3. 4. 5.]\n",
            "[4. 6. 1.]\n"
          ]
        }
      ]
    },
    {
      "cell_type": "markdown",
      "metadata": {
        "id": "df-Id-nhLs3L"
      },
      "source": [
        "#### percentile(): 백분위 수\n",
        "\n",
        "- 아래 그림은 20으로 나눠서 100까지로 표현했음. 리스트는 0,1,2,3\n",
        "\n"
      ]
    },
    {
      "cell_type": "markdown",
      "source": [
        "![image.png](data:image/png;base64,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)"
      ],
      "metadata": {
        "id": "M3M5zKdwkNTF"
      }
    },
    {
      "cell_type": "code",
      "metadata": {
        "id": "N-TCx9hnLvhK",
        "colab": {
          "base_uri": "https://localhost:8080/"
        },
        "outputId": "0d1f7488-ee7f-4253-ba53-193eab77c40b"
      },
      "source": [
        "a1 = np.array([0,1,2,3])\n",
        "print(a1)\n",
        "print(np.percentile(a1, [0, 20, 40, 60, 80, 100],interpolation = 'linear')) # \n",
        "print(np.percentile(a1, [0, 20, 40, 60, 80, 100],interpolation = 'higher'))\n",
        "print(np.percentile(a1, [0, 20, 40, 60, 80, 100],interpolation = 'lower'))\n",
        "print(np.percentile(a1, [0, 20, 40, 60, 80, 100],interpolation = 'nearest'))\n",
        "print(np.percentile(a1, [0, 20, 40, 60, 80, 100],interpolation = 'midpoint'))"
      ],
      "execution_count": 103,
      "outputs": [
        {
          "output_type": "stream",
          "name": "stdout",
          "text": [
            "[0 1 2 3]\n",
            "[0.  0.6 1.2 1.8 2.4 3. ]\n",
            "[0 1 2 2 3 3]\n",
            "[0 0 1 1 2 3]\n",
            "[0 1 1 2 2 3]\n",
            "[0.  0.5 1.5 1.5 2.5 3. ]\n"
          ]
        }
      ]
    },
    {
      "cell_type": "markdown",
      "metadata": {
        "id": "x0NnNsvvNDIs"
      },
      "source": [
        "#### any()\n",
        ": 하나라도 ture이면 true"
      ]
    },
    {
      "cell_type": "code",
      "metadata": {
        "id": "I1XDqsFxOMvA",
        "colab": {
          "base_uri": "https://localhost:8080/"
        },
        "outputId": "b99ea26f-36f4-46a7-8b2d-68b426627837"
      },
      "source": [
        "a2 = np.array([[False, False, False],\n",
        "              [False, True, True],\n",
        "              [False, True, True]])\n",
        "\n",
        "print(a2)\n",
        "print(np.any(a2))\n",
        "print(np.any(a2, axis=0))\n",
        "print(np.any(a2, axis=1))"
      ],
      "execution_count": 104,
      "outputs": [
        {
          "output_type": "stream",
          "name": "stdout",
          "text": [
            "[[False False False]\n",
            " [False  True  True]\n",
            " [False  True  True]]\n",
            "True\n",
            "[False  True  True]\n",
            "[False  True  True]\n"
          ]
        }
      ]
    },
    {
      "cell_type": "markdown",
      "metadata": {
        "id": "Uw-wjYgyONBZ"
      },
      "source": [
        "\n",
        "#### all()"
      ]
    },
    {
      "cell_type": "code",
      "metadata": {
        "id": "sXi2AHOHONYq",
        "colab": {
          "base_uri": "https://localhost:8080/"
        },
        "outputId": "aeedf86a-e133-4cda-ec96-fb285dc014d0"
      },
      "source": [
        "a2 = np.array([[False, False, True],\n",
        "              [True, True, True],\n",
        "              [False, True, True]])\n",
        "\n",
        "print(a2)\n",
        "print(np.all(a2))\n",
        "print(np.all(a2, axis=0))\n",
        "print(np.all(a2, axis=1))"
      ],
      "execution_count": 107,
      "outputs": [
        {
          "output_type": "stream",
          "name": "stdout",
          "text": [
            "[[False False  True]\n",
            " [ True  True  True]\n",
            " [False  True  True]]\n",
            "False\n",
            "[False False  True]\n",
            "[False  True False]\n"
          ]
        }
      ]
    },
    {
      "cell_type": "markdown",
      "metadata": {
        "id": "0n7lgzmUwqr1"
      },
      "source": [
        "### 비교 연산(Comparison Operators)\n"
      ]
    },
    {
      "cell_type": "code",
      "metadata": {
        "id": "E00V-nBTVnCu",
        "colab": {
          "base_uri": "https://localhost:8080/"
        },
        "outputId": "4981135e-224c-4dd9-e481-df5e78d8e2ff"
      },
      "source": [
        "a1 = np.arange(1,10)\n",
        "print(a1)\n",
        "\n",
        "print(a1 == 5)\n",
        "print(a1 < 5)"
      ],
      "execution_count": 108,
      "outputs": [
        {
          "output_type": "stream",
          "name": "stdout",
          "text": [
            "[1 2 3 4 5 6 7 8 9]\n",
            "[False False False False  True False False False False]\n",
            "[ True  True  True  True False False False False False]\n"
          ]
        }
      ]
    },
    {
      "cell_type": "code",
      "metadata": {
        "id": "3MwV1CU1WsWS",
        "colab": {
          "base_uri": "https://localhost:8080/"
        },
        "outputId": "e551ae06-31f5-403d-e947-f8c2da82c391"
      },
      "source": [
        "a2 = np.arange(1,10).reshape(3,3)\n",
        "print(a2)\n",
        "\n",
        "print(np.sum(a2))\n",
        "print(np.count_nonzero(a2>5))  # a2가 5이상인 것만 개수를 세기  \n",
        "print(np.sum(a2>5)) # 조건을 부여 a2가 5이상인 것만 개수를 세기\n",
        "print(np.sum(a2>5, axis=0))\n",
        "print(np.sum(a2>5, axis=1))"
      ],
      "execution_count": 112,
      "outputs": [
        {
          "output_type": "stream",
          "name": "stdout",
          "text": [
            "[[1 2 3]\n",
            " [4 5 6]\n",
            " [7 8 9]]\n",
            "45\n",
            "4\n",
            "4\n",
            "[1 1 2]\n",
            "[0 1 3]\n"
          ]
        }
      ]
    },
    {
      "cell_type": "code",
      "metadata": {
        "id": "D4cuMoyEPn8R",
        "colab": {
          "base_uri": "https://localhost:8080/"
        },
        "outputId": "799f57b1-1102-4a0b-b65b-e60e3c106dbc"
      },
      "source": [
        "print(np.any(a2))\n",
        "print(np.any(a2>5, axis=0))\n",
        "print(np.any(a2>5, axis=1))"
      ],
      "execution_count": 113,
      "outputs": [
        {
          "output_type": "stream",
          "name": "stdout",
          "text": [
            "True\n",
            "[ True  True  True]\n",
            "[False  True  True]\n"
          ]
        }
      ]
    },
    {
      "cell_type": "markdown",
      "source": [
        "- 비교 범용 함수"
      ],
      "metadata": {
        "id": "BahwsjgKneoo"
      }
    },
    {
      "cell_type": "code",
      "metadata": {
        "id": "af9VSc6FyMBh",
        "colab": {
          "base_uri": "https://localhost:8080/"
        },
        "outputId": "31afe6de-58dc-4b79-8c9d-e141c1b790de"
      },
      "source": [
        "a1 = np.array([1,2,3,4,5])\n",
        "print(a1)\n",
        "b1 = np.array([1,2,3,3,4])\n",
        "print(b1)\n",
        "print(np.isclose(a1, b1))  # 값이 얼마나 가깝냐. 가까우면 true   # 범위 지정 가능"
      ],
      "execution_count": 114,
      "outputs": [
        {
          "output_type": "stream",
          "name": "stdout",
          "text": [
            "[1 2 3 4 5]\n",
            "[1 2 3 3 4]\n",
            "[ True  True  True False False]\n"
          ]
        }
      ]
    },
    {
      "cell_type": "code",
      "metadata": {
        "id": "ZV1-8DkUHOZq",
        "colab": {
          "base_uri": "https://localhost:8080/"
        },
        "outputId": "ce4325ba-6d60-4da1-c552-e1929a2eb7a6"
      },
      "source": [
        "a1 = np.array([np.nan, 2, np.inf, 4, np.NINF])\n",
        "print(a1)\n",
        "print(np.isnan(a1))\n",
        "print(np.isinf(a1))\n",
        "print(np.isfinite(a1))  # 나노 넘버가 아닌 것"
      ],
      "execution_count": 116,
      "outputs": [
        {
          "output_type": "stream",
          "name": "stdout",
          "text": [
            "[ nan   2.  inf   4. -inf]\n",
            "[ True False False False False]\n",
            "[False False  True False  True]\n",
            "[False  True False  True False]\n"
          ]
        }
      ]
    },
    {
      "cell_type": "markdown",
      "metadata": {
        "id": "4BHMetMlYmt-"
      },
      "source": [
        "#### 불리언 연산자(Boolean Operators)\n"
      ]
    },
    {
      "cell_type": "code",
      "source": [
        "a2 = np.arange(1,10).reshape(3,3)\n",
        "print(a2)\n",
        "\n",
        "print((a2>5) & (a2<8))\n",
        "\n",
        "print(a2[(a2>5) & (a2<8)])  # a2 인덱싱 값에 대한 불리언 조건으로도 사용 가능"
      ],
      "metadata": {
        "colab": {
          "base_uri": "https://localhost:8080/"
        },
        "id": "oF1RbCbBoFVA",
        "outputId": "20269ad1-47b3-42e2-fb03-4b14df96bbd2"
      },
      "execution_count": 118,
      "outputs": [
        {
          "output_type": "stream",
          "name": "stdout",
          "text": [
            "[[1 2 3]\n",
            " [4 5 6]\n",
            " [7 8 9]]\n",
            "[[False False False]\n",
            " [False False  True]\n",
            " [ True False False]]\n",
            "[6 7]\n"
          ]
        }
      ]
    },
    {
      "cell_type": "code",
      "source": [
        "print((a2>5) | (a2<8))\n",
        "print(a2[(a2>5) | (a2<8)]) \n",
        "\n",
        "print((a2>5) ^ (a2<8))     # XOR\n",
        "print(a2[(a2>5) ^ (a2<8)]) \n",
        "\n",
        "print(~(a2>5))     # NOT\n",
        "print(a2[~(a2>5)]) "
      ],
      "metadata": {
        "colab": {
          "base_uri": "https://localhost:8080/"
        },
        "id": "rzoCupAioih6",
        "outputId": "9f16b8b5-1540-443d-ece1-b02f6cfe9454"
      },
      "execution_count": 119,
      "outputs": [
        {
          "output_type": "stream",
          "name": "stdout",
          "text": [
            "[[ True  True  True]\n",
            " [ True  True  True]\n",
            " [ True  True  True]]\n",
            "[1 2 3 4 5 6 7 8 9]\n",
            "[[ True  True  True]\n",
            " [ True  True False]\n",
            " [False  True  True]]\n",
            "[1 2 3 4 5 8 9]\n",
            "[[ True  True  True]\n",
            " [ True  True False]\n",
            " [False False False]]\n",
            "[1 2 3 4 5]\n"
          ]
        }
      ]
    },
    {
      "cell_type": "markdown",
      "metadata": {
        "id": "FlQJVeGBxIFw"
      },
      "source": [
        "### 배열 정렬"
      ]
    },
    {
      "cell_type": "markdown",
      "source": [
        "np.sort(a1) 을 사용할 경우 원본 데이터가 바뀌지 않음"
      ],
      "metadata": {
        "id": "XGBgsaPkpRXv"
      }
    },
    {
      "cell_type": "code",
      "metadata": {
        "id": "x0sodUMqLU37",
        "colab": {
          "base_uri": "https://localhost:8080/"
        },
        "outputId": "73e7abfa-d7be-49f0-ed9c-193e32f3472a"
      },
      "source": [
        "a1 = np.random.randint(1,10,size=10)\n",
        "print(a1)\n",
        "print(np.sort(a1))\n",
        "print(np.argsort(a1))  # 정렬 인덱스 위치값 출력"
      ],
      "execution_count": 123,
      "outputs": [
        {
          "output_type": "stream",
          "name": "stdout",
          "text": [
            "[9 4 8 2 4 2 2 7 1 9]\n",
            "[1 2 2 2 4 4 7 8 9 9]\n",
            "[8 3 5 6 1 4 7 2 0 9]\n"
          ]
        }
      ]
    },
    {
      "cell_type": "markdown",
      "source": [
        "a1.sort() 를 해야 원본 데이터가 변경됌"
      ],
      "metadata": {
        "id": "ViDVrrOrpaHX"
      }
    },
    {
      "cell_type": "code",
      "metadata": {
        "id": "FO_sO5POzeMp",
        "colab": {
          "base_uri": "https://localhost:8080/"
        },
        "outputId": "c8029c73-aad8-4d85-baee-03d55d7342cb"
      },
      "source": [
        "print(a1)\n",
        "print(a1.sort())\n",
        "print(a1)"
      ],
      "execution_count": 124,
      "outputs": [
        {
          "output_type": "stream",
          "name": "stdout",
          "text": [
            "[9 4 8 2 4 2 2 7 1 9]\n",
            "None\n",
            "[1 2 2 2 4 4 7 8 9 9]\n"
          ]
        }
      ]
    },
    {
      "cell_type": "code",
      "source": [
        "# 2차원에 대해서도 가능\n",
        "a2 = np.random.randint(1,10, size = (3,3))\n",
        "print(a2)\n",
        "print(np.sort(a2))\n",
        "\n",
        "# 축을 기준으로 정렬 가능\n",
        "print(np.sort(a2, axis=0))\n",
        "print(np.sort(a2, axis=1))"
      ],
      "metadata": {
        "colab": {
          "base_uri": "https://localhost:8080/"
        },
        "id": "6PyHp6miprUw",
        "outputId": "58a511a5-d97d-4fe1-d56f-f0c95e41d9f1"
      },
      "execution_count": 126,
      "outputs": [
        {
          "output_type": "stream",
          "name": "stdout",
          "text": [
            "[[7 9 1]\n",
            " [5 4 3]\n",
            " [3 7 6]]\n",
            "[[1 7 9]\n",
            " [3 4 5]\n",
            " [3 6 7]]\n",
            "[[3 4 1]\n",
            " [5 7 3]\n",
            " [7 9 6]]\n",
            "[[1 7 9]\n",
            " [3 4 5]\n",
            " [3 6 7]]\n"
          ]
        }
      ]
    },
    {
      "cell_type": "markdown",
      "metadata": {
        "id": "yYSItPz_00sZ"
      },
      "source": [
        "#### 부분 정렬\n",
        "\n",
        "* `partition()`: 배열에서 k개의 작은 값을 반환"
      ]
    },
    {
      "cell_type": "code",
      "metadata": {
        "id": "QQwov4N00YFP",
        "colab": {
          "base_uri": "https://localhost:8080/"
        },
        "outputId": "0aa33453-40b5-43af-8717-64531bb9662b"
      },
      "source": [
        "a1 = np.random.randint(1, 10, size=10)\n",
        "print(a1)\n",
        "print(np.partition(a1, 3))"
      ],
      "execution_count": 127,
      "outputs": [
        {
          "output_type": "stream",
          "name": "stdout",
          "text": [
            "[1 9 3 1 4 6 2 8 5 6]\n",
            "[1 1 2 3 4 6 9 8 5 6]\n"
          ]
        }
      ]
    },
    {
      "cell_type": "code",
      "source": [
        "a2 = np.random.randint(1, 10, size=(5,5))\n",
        "print(a2)\n",
        "print(np.partition(a2, 3))\n",
        "print(np.partition(a2, 3, axis=0))\n",
        "print(np.partition(a2, 3, axis=1))"
      ],
      "metadata": {
        "colab": {
          "base_uri": "https://localhost:8080/"
        },
        "id": "FQ3-jJrQqVEZ",
        "outputId": "d3fe2a2f-3932-4f19-8a3c-267369660020"
      },
      "execution_count": 135,
      "outputs": [
        {
          "output_type": "stream",
          "name": "stdout",
          "text": [
            "[[9 4 7 3 8]\n",
            " [1 9 3 4 1]\n",
            " [7 5 4 1 3]\n",
            " [4 1 3 4 4]\n",
            " [6 1 6 3 8]]\n",
            "[[3 7 4 8 9]\n",
            " [1 1 3 4 9]\n",
            " [1 3 4 5 7]\n",
            " [1 3 4 4 4]\n",
            " [3 6 1 6 8]]\n",
            "[[4 1 3 1 4]\n",
            " [6 1 4 3 3]\n",
            " [1 4 3 3 1]\n",
            " [7 5 6 4 8]\n",
            " [9 9 7 4 8]]\n",
            "[[3 7 4 8 9]\n",
            " [1 1 3 4 9]\n",
            " [1 3 4 5 7]\n",
            " [1 3 4 4 4]\n",
            " [3 6 1 6 8]]\n"
          ]
        }
      ]
    },
    {
      "cell_type": "markdown",
      "metadata": {
        "id": "77DSA72ML5cI"
      },
      "source": [
        "## 배열 입출력\n",
        "\n",
        "파일에 저장, 로드 등..\n"
      ]
    },
    {
      "cell_type": "markdown",
      "source": [
        ""
      ],
      "metadata": {
        "id": "AGbq5AZmrOhP"
      }
    },
    {
      "cell_type": "code",
      "metadata": {
        "id": "da-Mm_gzIs7U",
        "colab": {
          "base_uri": "https://localhost:8080/"
        },
        "outputId": "4e190f25-b6cd-4aec-bb88-57c3bbc49a5b"
      },
      "source": [
        "a2 = np.random.randint(1,10,size=(5,5))\n",
        "print(a2)\n",
        "np.save(\"a\", a2)  # 파일명과 저장할 값"
      ],
      "execution_count": 137,
      "outputs": [
        {
          "output_type": "stream",
          "name": "stdout",
          "text": [
            "[[5 8 7 3 5]\n",
            " [9 6 3 9 9]\n",
            " [6 4 3 5 9]\n",
            " [2 3 1 4 7]\n",
            " [5 3 2 5 2]]\n"
          ]
        }
      ]
    },
    {
      "cell_type": "code",
      "metadata": {
        "id": "pFOWyDvAsf11",
        "colab": {
          "base_uri": "https://localhost:8080/"
        },
        "outputId": "ddd0c4ef-1f17-4254-f15f-a0b79a4149a9"
      },
      "source": [
        "!ls  # 파일 확인"
      ],
      "execution_count": 138,
      "outputs": [
        {
          "output_type": "stream",
          "name": "stdout",
          "text": [
            "a.npy  sample_data\n"
          ]
        }
      ]
    },
    {
      "cell_type": "code",
      "metadata": {
        "id": "Hvb_ilyisoIV",
        "colab": {
          "base_uri": "https://localhost:8080/"
        },
        "outputId": "d6d6e7fc-c340-43b4-a08b-6ca744a3af74"
      },
      "source": [
        "# savez : 여러개의 파일을 저장\n",
        "\n",
        "b2 = np.random.randint(1,10, size=(5,5))\n",
        "print(b2)\n",
        "np.savez(\"ab\", a2, b2)"
      ],
      "execution_count": 139,
      "outputs": [
        {
          "output_type": "stream",
          "name": "stdout",
          "text": [
            "[[6 1 8 9 9]\n",
            " [8 2 9 9 2]\n",
            " [5 6 6 8 6]\n",
            " [2 6 4 2 8]\n",
            " [4 2 9 8 3]]\n"
          ]
        }
      ]
    },
    {
      "cell_type": "code",
      "metadata": {
        "id": "ArWZfL31s1wU",
        "colab": {
          "base_uri": "https://localhost:8080/"
        },
        "outputId": "a3c57696-68e6-4eaf-c9d0-f6760a506243"
      },
      "source": [
        "!ls  # 확장자 npz"
      ],
      "execution_count": 140,
      "outputs": [
        {
          "output_type": "stream",
          "name": "stdout",
          "text": [
            "ab.npz\ta.npy  sample_data\n"
          ]
        }
      ]
    },
    {
      "cell_type": "code",
      "metadata": {
        "id": "che4cEJEs2Tr",
        "colab": {
          "base_uri": "https://localhost:8080/"
        },
        "outputId": "2fd0eb91-ca77-41a8-8c7a-dcb3ea18aeda"
      },
      "source": [
        "# 파일을 불러오기\n",
        "\n",
        "npy = np.load(\"a.npy\")\n",
        "print(npy)"
      ],
      "execution_count": 142,
      "outputs": [
        {
          "output_type": "stream",
          "name": "stdout",
          "text": [
            "[[5 8 7 3 5]\n",
            " [9 6 3 9 9]\n",
            " [6 4 3 5 9]\n",
            " [2 3 1 4 7]\n",
            " [5 3 2 5 2]]\n"
          ]
        }
      ]
    },
    {
      "cell_type": "code",
      "metadata": {
        "id": "X2yIUsYvtMj6",
        "colab": {
          "base_uri": "https://localhost:8080/"
        },
        "outputId": "472d6420-bd4b-4c5f-979e-a0ca75b10aa9"
      },
      "source": [
        "# 여러개의 파일을 불러오기\n",
        "npz = np.load(\"ab.npz\")\n",
        "print(npz.files)\n",
        "print(npz['arr_0'])  # 따로 접근 가능\n",
        "print(npz['arr_1'])"
      ],
      "execution_count": 143,
      "outputs": [
        {
          "output_type": "stream",
          "name": "stdout",
          "text": [
            "['arr_0', 'arr_1']\n",
            "[[5 8 7 3 5]\n",
            " [9 6 3 9 9]\n",
            " [6 4 3 5 9]\n",
            " [2 3 1 4 7]\n",
            " [5 3 2 5 2]]\n",
            "[[6 1 8 9 9]\n",
            " [8 2 9 9 2]\n",
            " [5 6 6 8 6]\n",
            " [2 6 4 2 8]\n",
            " [4 2 9 8 3]]\n"
          ]
        }
      ]
    },
    {
      "cell_type": "code",
      "metadata": {
        "id": "Yj5ec-CYtaH1",
        "colab": {
          "base_uri": "https://localhost:8080/"
        },
        "outputId": "27f96a2d-480e-4410-9a29-c1149fbd5f22"
      },
      "source": [
        "# list가 아니라 텍스트로 저장\n",
        "print(a2)  \n",
        "np.savetxt(\"a.csv\", a2, delimiter=\",\")  # ,를 구분자자로 사용"
      ],
      "execution_count": 144,
      "outputs": [
        {
          "output_type": "stream",
          "name": "stdout",
          "text": [
            "[[5 8 7 3 5]\n",
            " [9 6 3 9 9]\n",
            " [6 4 3 5 9]\n",
            " [2 3 1 4 7]\n",
            " [5 3 2 5 2]]\n"
          ]
        }
      ]
    },
    {
      "cell_type": "code",
      "metadata": {
        "id": "_NIDrc-VuPmv",
        "colab": {
          "base_uri": "https://localhost:8080/"
        },
        "outputId": "bd1fcb90-ce53-4ce9-8921-e3f021287c64"
      },
      "source": [
        "!ls"
      ],
      "execution_count": 145,
      "outputs": [
        {
          "output_type": "stream",
          "name": "stdout",
          "text": [
            "ab.npz\ta.csv  a.npy  sample_data\n"
          ]
        }
      ]
    },
    {
      "cell_type": "code",
      "metadata": {
        "id": "bPhmIoVBuQMf",
        "colab": {
          "base_uri": "https://localhost:8080/"
        },
        "outputId": "e0e09ab6-a807-483e-9798-d064f35231f2"
      },
      "source": [
        "# 터미널 명령어\n",
        "!cat a.csv"
      ],
      "execution_count": 146,
      "outputs": [
        {
          "output_type": "stream",
          "name": "stdout",
          "text": [
            "5.000000000000000000e+00,8.000000000000000000e+00,7.000000000000000000e+00,3.000000000000000000e+00,5.000000000000000000e+00\n",
            "9.000000000000000000e+00,6.000000000000000000e+00,3.000000000000000000e+00,9.000000000000000000e+00,9.000000000000000000e+00\n",
            "6.000000000000000000e+00,4.000000000000000000e+00,3.000000000000000000e+00,5.000000000000000000e+00,9.000000000000000000e+00\n",
            "2.000000000000000000e+00,3.000000000000000000e+00,1.000000000000000000e+00,4.000000000000000000e+00,7.000000000000000000e+00\n",
            "5.000000000000000000e+00,3.000000000000000000e+00,2.000000000000000000e+00,5.000000000000000000e+00,2.000000000000000000e+00\n"
          ]
        }
      ]
    },
    {
      "cell_type": "code",
      "metadata": {
        "id": "FeB2p4azuTDv",
        "colab": {
          "base_uri": "https://localhost:8080/"
        },
        "outputId": "286db3ed-b0f3-4a92-f9fa-f7abc87e4c67"
      },
      "source": [
        "# 불러오기\n",
        "csv = np.loadtxt(\"a.csv\", delimiter=\",\")\n",
        "csv"
      ],
      "execution_count": 148,
      "outputs": [
        {
          "output_type": "execute_result",
          "data": {
            "text/plain": [
              "array([[5., 8., 7., 3., 5.],\n",
              "       [9., 6., 3., 9., 9.],\n",
              "       [6., 4., 3., 5., 9.],\n",
              "       [2., 3., 1., 4., 7.],\n",
              "       [5., 3., 2., 5., 2.]])"
            ]
          },
          "metadata": {},
          "execution_count": 148
        }
      ]
    },
    {
      "cell_type": "code",
      "metadata": {
        "id": "IUg8Vg4fuxR5",
        "colab": {
          "base_uri": "https://localhost:8080/"
        },
        "outputId": "cc37d63c-70e6-4a66-8a42-7a6fa292a56e"
      },
      "source": [
        "# 포맷 지정\n",
        "\n",
        "print(b2)\n",
        "np.savetxt(\"b.csv\", b2, delimiter=\",\", fmt = '%.2e', header = 'c1,c2,c3,c4,c5')  \n",
        "# format을 소수점 2번째까지. header: 컬럼명"
      ],
      "execution_count": 149,
      "outputs": [
        {
          "output_type": "stream",
          "name": "stdout",
          "text": [
            "[[6 1 8 9 9]\n",
            " [8 2 9 9 2]\n",
            " [5 6 6 8 6]\n",
            " [2 6 4 2 8]\n",
            " [4 2 9 8 3]]\n"
          ]
        }
      ]
    },
    {
      "cell_type": "code",
      "metadata": {
        "id": "lIK5dSv6vtm2",
        "colab": {
          "base_uri": "https://localhost:8080/"
        },
        "outputId": "defa8dcb-0431-49cf-fc1f-c041f8683c02"
      },
      "source": [
        "!cat b.csv"
      ],
      "execution_count": 150,
      "outputs": [
        {
          "output_type": "stream",
          "name": "stdout",
          "text": [
            "# c1,c2,c3,c4,c5\n",
            "6.00e+00,1.00e+00,8.00e+00,9.00e+00,9.00e+00\n",
            "8.00e+00,2.00e+00,9.00e+00,9.00e+00,2.00e+00\n",
            "5.00e+00,6.00e+00,6.00e+00,8.00e+00,6.00e+00\n",
            "2.00e+00,6.00e+00,4.00e+00,2.00e+00,8.00e+00\n",
            "4.00e+00,2.00e+00,9.00e+00,8.00e+00,3.00e+00\n"
          ]
        }
      ]
    },
    {
      "cell_type": "code",
      "metadata": {
        "id": "l4O-gVxdv8-d",
        "colab": {
          "base_uri": "https://localhost:8080/"
        },
        "outputId": "ab7e2a92-c4cd-443e-be50-80182c45b5a2"
      },
      "source": [
        "csv = np.loadtxt('b.csv', delimiter=\",\")\n",
        "csv"
      ],
      "execution_count": 152,
      "outputs": [
        {
          "output_type": "execute_result",
          "data": {
            "text/plain": [
              "array([[6., 1., 8., 9., 9.],\n",
              "       [8., 2., 9., 9., 2.],\n",
              "       [5., 6., 6., 8., 6.],\n",
              "       [2., 6., 4., 2., 8.],\n",
              "       [4., 2., 9., 8., 3.]])"
            ]
          },
          "metadata": {},
          "execution_count": 152
        }
      ]
    },
    {
      "cell_type": "markdown",
      "metadata": {
        "id": "JM2Ghx2NGloN"
      },
      "source": [
        "\n",
        "\n",
        "---\n",
        "\n"
      ]
    }
  ]
}