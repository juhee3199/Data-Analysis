{
  "nbformat": 4,
  "nbformat_minor": 0,
  "metadata": {
    "colab": {
      "name": "_NumPy 한번에 제대로 배우기.ipynb",
      "provenance": [],
      "collapsed_sections": [],
      "toc_visible": true,
      "include_colab_link": true
    },
    "kernelspec": {
      "name": "python3",
      "display_name": "Python 3"
    }
  },
  "cells": [
    {
      "cell_type": "markdown",
      "metadata": {
        "id": "view-in-github",
        "colab_type": "text"
      },
      "source": [
        "<a href=\"https://colab.research.google.com/github/juhee3199/Data-Analysis/blob/main/Data_Handling/_NumPy_%ED%95%9C%EB%B2%88%EC%97%90_%EC%A0%9C%EB%8C%80%EB%A1%9C_%EB%B0%B0%EC%9A%B0%EA%B8%B0.ipynb\" target=\"_parent\"><img src=\"https://colab.research.google.com/assets/colab-badge.svg\" alt=\"Open In Colab\"/></a>"
      ]
    },
    {
      "cell_type": "markdown",
      "metadata": {
        "id": "J_FfQuu2Tb30"
      },
      "source": [
        "# NumPy 한번에 제대로 배우기"
      ]
    },
    {
      "cell_type": "markdown",
      "metadata": {
        "id": "Zgrrh9T2vs8u"
      },
      "source": [
        "\n",
        "\n",
        "---\n",
        "\n"
      ]
    },
    {
      "cell_type": "markdown",
      "metadata": {
        "id": "oR5hNBH-Retd"
      },
      "source": [
        "## NumPy 특징\n",
        "\n",
        "* Numerical Python의 약자\n",
        "* 고성능 과학 계산용 패키지로 강력한 N차원 배열 객체\n",
        "* 범용적 데이터 처리에 사용 가능한 다차원 컨테이너\n",
        "* 정교한 브로드캐스팅(broadcasting) 기능\n",
        "* 파이썬의 자료형 list와 비슷하지만, 더 빠르고 메모리를 효율적으로 관리\n",
        "* 반복문 없이 데이터 배열에 대한 처리를 지원하여 빠르고 편리\n",
        "* 데이터 과학 도구에 대한 생태계의 핵심을 이루고 있음"
      ]
    },
    {
      "cell_type": "code",
      "metadata": {
        "id": "R9klTdhLQ564",
        "colab": {
          "base_uri": "https://localhost:8080/",
          "height": 36
        },
        "outputId": "082dbd40-8882-48a9-c305-106c623a1401"
      },
      "source": [
        "import numpy as np\n",
        "np.__version__"
      ],
      "execution_count": 3,
      "outputs": [
        {
          "output_type": "execute_result",
          "data": {
            "text/plain": [
              "'1.21.5'"
            ],
            "application/vnd.google.colaboratory.intrinsic+json": {
              "type": "string"
            }
          },
          "metadata": {},
          "execution_count": 3
        }
      ]
    },
    {
      "cell_type": "markdown",
      "metadata": {
        "id": "2hSWC5ptGyWP"
      },
      "source": [
        "\n",
        "\n",
        "---\n",
        "\n"
      ]
    },
    {
      "cell_type": "markdown",
      "metadata": {
        "id": "1kgkJZFlVUqk"
      },
      "source": [
        "## 1. 배열 생성"
      ]
    },
    {
      "cell_type": "markdown",
      "metadata": {
        "id": "5eQ4sAkMbzm0"
      },
      "source": [
        "### 리스트로 배열 만들기\n"
      ]
    },
    {
      "cell_type": "code",
      "metadata": {
        "id": "Mtod2jcPWVvV",
        "colab": {
          "base_uri": "https://localhost:8080/"
        },
        "outputId": "779b8a9e-f618-46c4-b7cb-8348f1da5e10"
      },
      "source": [
        "# 1D array\n",
        "a1 = np.array([1,2,3,4,5])\n",
        "print(a1)\n",
        "print(type(a1))\n",
        "print(a1.shape)   # 5개의 element를 가진 1차원 배열"
      ],
      "execution_count": 9,
      "outputs": [
        {
          "output_type": "stream",
          "name": "stdout",
          "text": [
            "[1 2 3 4 5]\n",
            "<class 'numpy.ndarray'>\n",
            "(5,)\n"
          ]
        }
      ]
    },
    {
      "cell_type": "markdown",
      "source": [
        "리스트처럼 인덱스로 접근, 수정 가능"
      ],
      "metadata": {
        "id": "LHa66LJhHx81"
      }
    },
    {
      "cell_type": "code",
      "source": [
        "print(a1[0])\n",
        "\n",
        "a1[0]=4\n",
        "print(a1)"
      ],
      "metadata": {
        "colab": {
          "base_uri": "https://localhost:8080/"
        },
        "id": "eaXxb2ppHuDj",
        "outputId": "80f7a477-ee80-4b32-fe74-424ccdaea619"
      },
      "execution_count": null,
      "outputs": [
        {
          "output_type": "stream",
          "name": "stdout",
          "text": [
            "4\n",
            "[4 2 3 4 5]\n"
          ]
        }
      ]
    },
    {
      "cell_type": "code",
      "metadata": {
        "id": "vp9tkHH8esXT",
        "colab": {
          "base_uri": "https://localhost:8080/"
        },
        "outputId": "5778e80a-d940-43f6-8864-e0791a91de86"
      },
      "source": [
        "# 2D array\n",
        "\n",
        "a2 = np.array([[1,2,3], [4,5,6], [7,8,9]])\n",
        "print(a2)\n",
        "print(a2.shape)  # 3*3 array 생성"
      ],
      "execution_count": 4,
      "outputs": [
        {
          "output_type": "stream",
          "name": "stdout",
          "text": [
            "[[1 2 3]\n",
            " [4 5 6]\n",
            " [7 8 9]]\n",
            "(3, 3)\n"
          ]
        }
      ]
    },
    {
      "cell_type": "code",
      "source": [
        "a2[0,2]"
      ],
      "metadata": {
        "colab": {
          "base_uri": "https://localhost:8080/"
        },
        "id": "LqeUR-hgID4l",
        "outputId": "605d110c-c434-4aa2-cb20-92518ef18452"
      },
      "execution_count": null,
      "outputs": [
        {
          "output_type": "execute_result",
          "data": {
            "text/plain": [
              "3"
            ]
          },
          "metadata": {},
          "execution_count": 12
        }
      ]
    },
    {
      "cell_type": "code",
      "metadata": {
        "id": "Baj4gZ2meuJu",
        "colab": {
          "base_uri": "https://localhost:8080/"
        },
        "outputId": "b8063f4e-f0bc-4d2b-89ab-57d996d5abf4"
      },
      "source": [
        "# 3Darray\n",
        "\n",
        "a3 = np.array([[[1,2,3], [4,5,6], [7,8,9]],\n",
        "          [[1,2,3], [4,5,6], [7,8,9]],\n",
        "          [[1,2,3], [4,5,6], [7,8,9]]])\n",
        "print(a3)\n",
        "print(a3.shape)"
      ],
      "execution_count": 7,
      "outputs": [
        {
          "output_type": "stream",
          "name": "stdout",
          "text": [
            "[[[1 2 3]\n",
            "  [4 5 6]\n",
            "  [7 8 9]]\n",
            "\n",
            " [[1 2 3]\n",
            "  [4 5 6]\n",
            "  [7 8 9]]\n",
            "\n",
            " [[1 2 3]\n",
            "  [4 5 6]\n",
            "  [7 8 9]]]\n",
            "(3, 3, 3)\n"
          ]
        }
      ]
    },
    {
      "cell_type": "markdown",
      "metadata": {
        "id": "PNkKtw4CoSDB"
      },
      "source": [
        "### 배열 생성 및 초기화"
      ]
    },
    {
      "cell_type": "markdown",
      "metadata": {
        "id": "mJVii5p_VfgM"
      },
      "source": [
        "* `zeros()`: 모든 요소를 0으로 초기화"
      ]
    },
    {
      "cell_type": "code",
      "metadata": {
        "id": "W_SF1tVoVTf1",
        "colab": {
          "base_uri": "https://localhost:8080/"
        },
        "outputId": "ed4b61d6-7be4-4f53-c139-27828bc3218b"
      },
      "source": [
        "np.zeros(10)"
      ],
      "execution_count": null,
      "outputs": [
        {
          "output_type": "execute_result",
          "data": {
            "text/plain": [
              "array([0., 0., 0., 0., 0., 0., 0., 0., 0., 0.])"
            ]
          },
          "metadata": {},
          "execution_count": 16
        }
      ]
    },
    {
      "cell_type": "markdown",
      "metadata": {
        "id": "LjYFQrODVqhX"
      },
      "source": [
        "* `ones()`: 모든 요소를 1로 초기화"
      ]
    },
    {
      "cell_type": "code",
      "metadata": {
        "id": "MURoqsMsVeUw",
        "colab": {
          "base_uri": "https://localhost:8080/"
        },
        "outputId": "2272c3ce-e108-474c-95ae-75892876095b"
      },
      "source": [
        "np.ones(10)"
      ],
      "execution_count": null,
      "outputs": [
        {
          "output_type": "execute_result",
          "data": {
            "text/plain": [
              "array([1., 1., 1., 1., 1., 1., 1., 1., 1., 1.])"
            ]
          },
          "metadata": {},
          "execution_count": 17
        }
      ]
    },
    {
      "cell_type": "code",
      "source": [
        "np.ones((3,3))"
      ],
      "metadata": {
        "colab": {
          "base_uri": "https://localhost:8080/"
        },
        "id": "U_UoJmA6Jybb",
        "outputId": "5294eaf8-21c1-4779-8edd-8100c4f64aca"
      },
      "execution_count": null,
      "outputs": [
        {
          "output_type": "execute_result",
          "data": {
            "text/plain": [
              "array([[1., 1., 1.],\n",
              "       [1., 1., 1.],\n",
              "       [1., 1., 1.]])"
            ]
          },
          "metadata": {},
          "execution_count": 18
        }
      ]
    },
    {
      "cell_type": "markdown",
      "metadata": {
        "id": "jnmm3Cj-cGtx"
      },
      "source": [
        "* `full()`: 모든 요소를 지정한 값으로 초기화\n",
        "    - full(shpae, 초기화할 지정 값)"
      ]
    },
    {
      "cell_type": "code",
      "metadata": {
        "id": "oscabrdcV7Ny",
        "colab": {
          "base_uri": "https://localhost:8080/"
        },
        "outputId": "f3d28a75-12aa-4a3d-df4e-a5d50dfed851"
      },
      "source": [
        "np.full((3,3), 1.25)"
      ],
      "execution_count": null,
      "outputs": [
        {
          "output_type": "execute_result",
          "data": {
            "text/plain": [
              "array([[1.25, 1.25, 1.25],\n",
              "       [1.25, 1.25, 1.25],\n",
              "       [1.25, 1.25, 1.25]])"
            ]
          },
          "metadata": {},
          "execution_count": 19
        }
      ]
    },
    {
      "cell_type": "markdown",
      "metadata": {
        "id": "0SRI4jbmlIKc"
      },
      "source": [
        "* `eye()`: 단위행렬(identity matrix) 생성\n",
        "  + 주대각선의 원소가 모두 1이고 나머지 원소는 모두 0인 정사각 행렬"
      ]
    },
    {
      "cell_type": "code",
      "metadata": {
        "id": "VceBVLLjk9o5",
        "colab": {
          "base_uri": "https://localhost:8080/"
        },
        "outputId": "115caad0-a753-403b-8e15-ea656a058082"
      },
      "source": [
        "np.eye(3)"
      ],
      "execution_count": null,
      "outputs": [
        {
          "output_type": "execute_result",
          "data": {
            "text/plain": [
              "array([[1., 0., 0.],\n",
              "       [0., 1., 0.],\n",
              "       [0., 0., 1.]])"
            ]
          },
          "metadata": {},
          "execution_count": 21
        }
      ]
    },
    {
      "cell_type": "markdown",
      "metadata": {
        "id": "7CCH1ZMT5R02"
      },
      "source": [
        "* `tri()`: 삼각행렬 생성. 삼각 모양으로 1이 생성"
      ]
    },
    {
      "cell_type": "code",
      "metadata": {
        "id": "mLe2Bhj05VYu",
        "colab": {
          "base_uri": "https://localhost:8080/"
        },
        "outputId": "dff23875-a952-47ac-fd15-ec38eb3ea641"
      },
      "source": [
        "np.tri(3)"
      ],
      "execution_count": null,
      "outputs": [
        {
          "output_type": "execute_result",
          "data": {
            "text/plain": [
              "array([[1., 0., 0.],\n",
              "       [1., 1., 0.],\n",
              "       [1., 1., 1.]])"
            ]
          },
          "metadata": {},
          "execution_count": 22
        }
      ]
    },
    {
      "cell_type": "markdown",
      "metadata": {
        "id": "ObZRA4HclZlO"
      },
      "source": [
        "* `empty()`: 초기화되지 않은 배열 생성\n",
        "  + 초기화가 없어서 배열 생성비용 저렴하고 빠름\n",
        "  + 초기화되지 않아서 기존 메모리 위치에 존재하는 값이 있음\n",
        "  + 그래서 어떤 값이 나올지 모름"
      ]
    },
    {
      "cell_type": "code",
      "metadata": {
        "id": "I3SoFgiglAkz",
        "colab": {
          "base_uri": "https://localhost:8080/"
        },
        "outputId": "23a0abcb-d759-40f4-a053-c753986f9057"
      },
      "source": [
        "np.empty(10)"
      ],
      "execution_count": null,
      "outputs": [
        {
          "output_type": "execute_result",
          "data": {
            "text/plain": [
              "array([1., 1., 1., 1., 1., 1., 1., 1., 1., 1.])"
            ]
          },
          "metadata": {},
          "execution_count": 23
        }
      ]
    },
    {
      "cell_type": "markdown",
      "metadata": {
        "id": "p3uSl1Ccmi5_"
      },
      "source": [
        "* `_like()`: 지정된 배열과 shape가 같은 행렬 생성\n",
        "  + `np.zeros_like()`\n",
        "  + `np.ones_like()`\n",
        "  + `np.full_like()`\n",
        "  + `np.empty_like()`"
      ]
    },
    {
      "cell_type": "code",
      "metadata": {
        "id": "Ad5RskRRlZLs",
        "colab": {
          "base_uri": "https://localhost:8080/"
        },
        "outputId": "6ad13daa-a2ff-42af-a16f-d3e31dabd17b"
      },
      "source": [
        "print(a1)\n",
        "np.zeros_like(a1) # a1과 같은 shape의 0으로 채워진 배열"
      ],
      "execution_count": null,
      "outputs": [
        {
          "output_type": "stream",
          "name": "stdout",
          "text": [
            "[4 2 3 4 5]\n"
          ]
        },
        {
          "output_type": "execute_result",
          "data": {
            "text/plain": [
              "array([0, 0, 0, 0, 0])"
            ]
          },
          "metadata": {},
          "execution_count": 24
        }
      ]
    },
    {
      "cell_type": "code",
      "metadata": {
        "id": "KChUHsG003Nf",
        "colab": {
          "base_uri": "https://localhost:8080/"
        },
        "outputId": "aa26bfab-8843-43f3-f0cf-934b0bc7bca6"
      },
      "source": [
        "print(a2)\n",
        "np.ones_like(a2)"
      ],
      "execution_count": null,
      "outputs": [
        {
          "output_type": "stream",
          "name": "stdout",
          "text": [
            "[[1 2 3]\n",
            " [4 5 6]\n",
            " [7 8 9]]\n"
          ]
        },
        {
          "output_type": "execute_result",
          "data": {
            "text/plain": [
              "array([[1, 1, 1],\n",
              "       [1, 1, 1],\n",
              "       [1, 1, 1]])"
            ]
          },
          "metadata": {},
          "execution_count": 25
        }
      ]
    },
    {
      "cell_type": "code",
      "metadata": {
        "id": "PUnDz6b305Gg",
        "colab": {
          "base_uri": "https://localhost:8080/"
        },
        "outputId": "56a96abc-2c36-4d5c-f420-7064585a199d"
      },
      "source": [
        "print(a3)\n",
        "np.full_like(a3, 10)  # a3와 같은 shape의 10으로 채워진 배열"
      ],
      "execution_count": null,
      "outputs": [
        {
          "output_type": "stream",
          "name": "stdout",
          "text": [
            "[[[1 2 3]\n",
            "  [4 5 6]\n",
            "  [7 8 9]]\n",
            "\n",
            " [[1 2 3]\n",
            "  [4 5 6]\n",
            "  [7 8 9]]\n",
            "\n",
            " [[1 2 3]\n",
            "  [4 5 6]\n",
            "  [7 8 9]]]\n"
          ]
        },
        {
          "output_type": "execute_result",
          "data": {
            "text/plain": [
              "array([[[10, 10, 10],\n",
              "        [10, 10, 10],\n",
              "        [10, 10, 10]],\n",
              "\n",
              "       [[10, 10, 10],\n",
              "        [10, 10, 10],\n",
              "        [10, 10, 10]],\n",
              "\n",
              "       [[10, 10, 10],\n",
              "        [10, 10, 10],\n",
              "        [10, 10, 10]]])"
            ]
          },
          "metadata": {},
          "execution_count": 26
        }
      ]
    },
    {
      "cell_type": "markdown",
      "metadata": {
        "id": "apoksGJNrn1z"
      },
      "source": [
        "### 생성한 값으로 배열 생성"
      ]
    },
    {
      "cell_type": "markdown",
      "metadata": {
        "id": "H3nmLct8cnV8"
      },
      "source": [
        "* `arange()`: 정수 범위로 배열 생성"
      ]
    },
    {
      "cell_type": "code",
      "source": [
        "np.arange(0, 30, 2)"
      ],
      "metadata": {
        "colab": {
          "base_uri": "https://localhost:8080/"
        },
        "id": "395LlVxqKtZ2",
        "outputId": "8e56d925-bc51-46eb-94d4-1a1bbec34408"
      },
      "execution_count": null,
      "outputs": [
        {
          "output_type": "execute_result",
          "data": {
            "text/plain": [
              "array([ 0,  2,  4,  6,  8, 10, 12, 14, 16, 18, 20, 22, 24, 26, 28])"
            ]
          },
          "metadata": {},
          "execution_count": 27
        }
      ]
    },
    {
      "cell_type": "code",
      "metadata": {
        "id": "mANy4WY4cDKa",
        "colab": {
          "base_uri": "https://localhost:8080/"
        },
        "outputId": "9c11806e-530d-4f9f-92f1-896a88c9fb67"
      },
      "source": [
        "np.arange(0, 30, 3)"
      ],
      "execution_count": null,
      "outputs": [
        {
          "output_type": "execute_result",
          "data": {
            "text/plain": [
              "array([ 0,  3,  6,  9, 12, 15, 18, 21, 24, 27])"
            ]
          },
          "metadata": {},
          "execution_count": 28
        }
      ]
    },
    {
      "cell_type": "markdown",
      "metadata": {
        "id": "s5kET1e6itlo"
      },
      "source": [
        "* `linspace()`: 범위 내에서 균등 간격의 배열 생성"
      ]
    },
    {
      "cell_type": "code",
      "metadata": {
        "id": "u4q9gI7Zcltz",
        "colab": {
          "base_uri": "https://localhost:8080/"
        },
        "outputId": "f7b31a25-cc49-456e-fbae-948a8d4c4e63"
      },
      "source": [
        "np.linspace(0, 1, 5)  # 0~1 사이를 균등하게 5개로 나누기"
      ],
      "execution_count": null,
      "outputs": [
        {
          "output_type": "execute_result",
          "data": {
            "text/plain": [
              "array([0.  , 0.25, 0.5 , 0.75, 1.  ])"
            ]
          },
          "metadata": {},
          "execution_count": 29
        }
      ]
    },
    {
      "cell_type": "markdown",
      "metadata": {
        "id": "Eq26d7T3nnAH"
      },
      "source": [
        "* `logspace()`: 범위 내에서 균등간격으로 로그 스케일로 배열 생성"
      ]
    },
    {
      "cell_type": "code",
      "metadata": {
        "id": "-O29WBVEnyXX",
        "colab": {
          "base_uri": "https://localhost:8080/"
        },
        "outputId": "8cb4b169-0abf-440c-f21f-dfaa03ab08f1"
      },
      "source": [
        "np.logspace(0.1, 1, 20)  # 0.1~1 사이를 균등하게 20개의 로그 스케일로 나누기"
      ],
      "execution_count": null,
      "outputs": [
        {
          "output_type": "execute_result",
          "data": {
            "text/plain": [
              "array([ 1.25892541,  1.40400425,  1.565802  ,  1.74624535,  1.94748304,\n",
              "        2.1719114 ,  2.42220294,  2.70133812,  3.0126409 ,  3.35981829,\n",
              "        3.74700446,  4.17881006,  4.66037703,  5.19743987,  5.79639395,\n",
              "        6.46437163,  7.2093272 ,  8.04013161,  8.9666781 , 10.        ])"
            ]
          },
          "metadata": {},
          "execution_count": 30
        }
      ]
    },
    {
      "cell_type": "markdown",
      "metadata": {
        "id": "6_88s4_Jr7fO"
      },
      "source": [
        "### 랜덤값으로 배열 생성\n"
      ]
    },
    {
      "cell_type": "markdown",
      "metadata": {
        "id": "CoK1cVUkjNMg"
      },
      "source": [
        "* `random.random()`: 랜덤한 수의 배열 생성"
      ]
    },
    {
      "cell_type": "code",
      "metadata": {
        "id": "qJwccKEnjMze",
        "colab": {
          "base_uri": "https://localhost:8080/"
        },
        "outputId": "9ecb46af-7ddf-4b87-c95c-77ef89ace7c6"
      },
      "source": [
        "np.random.random((3,3))  # 3*3 shape의 실수 값으로 채워진 배열"
      ],
      "execution_count": null,
      "outputs": [
        {
          "output_type": "execute_result",
          "data": {
            "text/plain": [
              "array([[0.12905439, 0.94119788, 0.78045009],\n",
              "       [0.28525939, 0.53084837, 0.49496821],\n",
              "       [0.87894093, 0.8642912 , 0.46046367]])"
            ]
          },
          "metadata": {},
          "execution_count": 31
        }
      ]
    },
    {
      "cell_type": "markdown",
      "metadata": {
        "id": "BYsAVwA1kvDI"
      },
      "source": [
        "* `random.randint()`: 일정 구간의 랜덤 정수의 배열 생성"
      ]
    },
    {
      "cell_type": "code",
      "metadata": {
        "id": "oR-UszZ_jqfQ",
        "colab": {
          "base_uri": "https://localhost:8080/"
        },
        "outputId": "71d35e01-0c03-439b-a2b3-51a0232f034f"
      },
      "source": [
        "np.random.randint(0, 10, (3,3))  # 정수 랜덤"
      ],
      "execution_count": null,
      "outputs": [
        {
          "output_type": "execute_result",
          "data": {
            "text/plain": [
              "array([[8, 3, 4],\n",
              "       [3, 9, 9],\n",
              "       [6, 4, 0]])"
            ]
          },
          "metadata": {},
          "execution_count": 34
        }
      ]
    },
    {
      "cell_type": "markdown",
      "metadata": {
        "id": "2r557WHsjrL3"
      },
      "source": [
        "* `random.normal()`: 정규분포(normal distribution)를 고려한 랜덤한 수의 배열 생성\n",
        "* 평균=0, 표준편차=1, 3 x 3 배열"
      ]
    },
    {
      "cell_type": "code",
      "metadata": {
        "id": "Oan3bSpHi2Wq",
        "colab": {
          "base_uri": "https://localhost:8080/"
        },
        "outputId": "3747526b-7e5e-47b4-f881-fc76d3e6c6dd"
      },
      "source": [
        "np.random.normal(0, 1, (3,3))"
      ],
      "execution_count": null,
      "outputs": [
        {
          "output_type": "execute_result",
          "data": {
            "text/plain": [
              "array([[ 0.66482325, -0.16226699, -0.69875393],\n",
              "       [-0.40298559,  0.51471147, -0.76737843],\n",
              "       [ 0.99397916, -0.60403124, -0.19612661]])"
            ]
          },
          "metadata": {},
          "execution_count": 35
        }
      ]
    },
    {
      "cell_type": "markdown",
      "metadata": {
        "id": "fPO-D1rHsrFw"
      },
      "source": [
        "* `random.rand()`: 균등분포(uniform distribution)를 고려한 랜덤한 수의 배열 생성"
      ]
    },
    {
      "cell_type": "code",
      "metadata": {
        "id": "DxiyEjnXnDUT",
        "colab": {
          "base_uri": "https://localhost:8080/"
        },
        "outputId": "cc16f8c1-03d3-429e-f1e6-08b756a4a4e0"
      },
      "source": [
        "np.random.rand(3,3)"
      ],
      "execution_count": null,
      "outputs": [
        {
          "output_type": "execute_result",
          "data": {
            "text/plain": [
              "array([[0.45386426, 0.28500709, 0.74442084],\n",
              "       [0.68218959, 0.67106396, 0.99245481],\n",
              "       [0.65760158, 0.21201783, 0.11192793]])"
            ]
          },
          "metadata": {},
          "execution_count": 36
        }
      ]
    },
    {
      "cell_type": "markdown",
      "metadata": {
        "id": "IegH2dsPLQgd"
      },
      "source": [
        "* `random.randn()`: 표준 정규 분포(standard normal distribution)를 고려한 랜덤한 수의 배열 생성"
      ]
    },
    {
      "cell_type": "code",
      "metadata": {
        "id": "V61VHa-JLIma",
        "colab": {
          "base_uri": "https://localhost:8080/"
        },
        "outputId": "2fcc6546-b39a-4f9a-bc59-3b8a8a95d10a"
      },
      "source": [
        "np.random.randn(3,3)"
      ],
      "execution_count": null,
      "outputs": [
        {
          "output_type": "execute_result",
          "data": {
            "text/plain": [
              "array([[ 0.30162145,  0.22965299,  0.2457151 ],\n",
              "       [-0.71752739,  0.40312985, -1.06699227],\n",
              "       [ 0.59085702,  0.33616027,  0.97218205]])"
            ]
          },
          "metadata": {},
          "execution_count": 37
        }
      ]
    },
    {
      "cell_type": "markdown",
      "metadata": {
        "id": "5ts0cYLQL_pT"
      },
      "source": [
        "### 표준 데이터 타입"
      ]
    },
    {
      "cell_type": "code",
      "metadata": {
        "id": "rxqTqAFKL73y",
        "colab": {
          "base_uri": "https://localhost:8080/"
        },
        "outputId": "3769aba5-e79c-4966-9b84-6a8efb907817"
      },
      "source": [
        "np.zeros(20, dtype=int)  # dtype이 int인 0으로 채워진 배열"
      ],
      "execution_count": null,
      "outputs": [
        {
          "output_type": "execute_result",
          "data": {
            "text/plain": [
              "array([0, 0, 0, 0, 0, 0, 0, 0, 0, 0, 0, 0, 0, 0, 0, 0, 0, 0, 0, 0])"
            ]
          },
          "metadata": {},
          "execution_count": 38
        }
      ]
    },
    {
      "cell_type": "code",
      "source": [
        "np.zeros((3,3), dtype=bool)  # 0 = False 이므로"
      ],
      "metadata": {
        "colab": {
          "base_uri": "https://localhost:8080/"
        },
        "id": "uTC1To-NMTCQ",
        "outputId": "4016ec9e-6519-48d0-b9b9-5f5264ee6d75"
      },
      "execution_count": null,
      "outputs": [
        {
          "output_type": "execute_result",
          "data": {
            "text/plain": [
              "array([[False, False, False],\n",
              "       [False, False, False],\n",
              "       [False, False, False]])"
            ]
          },
          "metadata": {},
          "execution_count": 40
        }
      ]
    },
    {
      "cell_type": "code",
      "metadata": {
        "id": "o9TuSl6HIsXr",
        "colab": {
          "base_uri": "https://localhost:8080/"
        },
        "outputId": "72f38547-d91b-4c6d-aa61-f360d6992f76"
      },
      "source": [
        "np.ones((3,3), dtype=bool)  # 1 = True"
      ],
      "execution_count": null,
      "outputs": [
        {
          "output_type": "execute_result",
          "data": {
            "text/plain": [
              "array([[ True,  True,  True],\n",
              "       [ True,  True,  True],\n",
              "       [ True,  True,  True]])"
            ]
          },
          "metadata": {},
          "execution_count": 39
        }
      ]
    },
    {
      "cell_type": "code",
      "metadata": {
        "id": "w-TciNfzEhY0",
        "colab": {
          "base_uri": "https://localhost:8080/"
        },
        "outputId": "db74a245-6609-4395-a550-252bd4e7a66d"
      },
      "source": [
        "np.full((3,3), 1.0, dtype=float)"
      ],
      "execution_count": null,
      "outputs": [
        {
          "output_type": "execute_result",
          "data": {
            "text/plain": [
              "array([[1., 1., 1.],\n",
              "       [1., 1., 1.],\n",
              "       [1., 1., 1.]])"
            ]
          },
          "metadata": {},
          "execution_count": 41
        }
      ]
    },
    {
      "cell_type": "markdown",
      "metadata": {
        "id": "1qFumu-p-0mQ"
      },
      "source": [
        "### 날짜/시간 배열 생성\n"
      ]
    },
    {
      "cell_type": "markdown",
      "source": [
        "문자열로 배열을 만들었지만, dtype을 datetime으로 줌으로써 날짜 표현 가능"
      ],
      "metadata": {
        "id": "Rjj4cavvMtkd"
      }
    },
    {
      "cell_type": "code",
      "metadata": {
        "id": "D8ozvTUf-6Rr",
        "colab": {
          "base_uri": "https://localhost:8080/"
        },
        "outputId": "c75636ee-0ed9-4fa5-dfb3-cecbee1d2183"
      },
      "source": [
        "date = np.array('2020-01-01', dtype = np.datetime64)\n",
        "date"
      ],
      "execution_count": null,
      "outputs": [
        {
          "output_type": "execute_result",
          "data": {
            "text/plain": [
              "array('2020-01-01', dtype='datetime64[D]')"
            ]
          },
          "metadata": {},
          "execution_count": 42
        }
      ]
    },
    {
      "cell_type": "code",
      "metadata": {
        "id": "XIjLUkn6_K3J",
        "colab": {
          "base_uri": "https://localhost:8080/"
        },
        "outputId": "281bcab2-10ac-4e9e-f7cc-de7993ddc65f"
      },
      "source": [
        "date + np.arange(12)  # date인 기존 날짜에 arange 각각을 더해줌"
      ],
      "execution_count": null,
      "outputs": [
        {
          "output_type": "execute_result",
          "data": {
            "text/plain": [
              "array(['2020-01-01', '2020-01-02', '2020-01-03', '2020-01-04',\n",
              "       '2020-01-05', '2020-01-06', '2020-01-07', '2020-01-08',\n",
              "       '2020-01-09', '2020-01-10', '2020-01-11', '2020-01-12'],\n",
              "      dtype='datetime64[D]')"
            ]
          },
          "metadata": {},
          "execution_count": 44
        }
      ]
    },
    {
      "cell_type": "code",
      "metadata": {
        "id": "EO7yE5VR_Wlh",
        "colab": {
          "base_uri": "https://localhost:8080/"
        },
        "outputId": "8bada762-ca2c-42cf-f16d-d51a81c011b6"
      },
      "source": [
        "# 시간 표현\n",
        "\n",
        "datetime = np.datetime64('2020-06-01 12:00')\n",
        "datetime"
      ],
      "execution_count": null,
      "outputs": [
        {
          "output_type": "execute_result",
          "data": {
            "text/plain": [
              "numpy.datetime64('2020-06-01T12:00')"
            ]
          },
          "metadata": {},
          "execution_count": 46
        }
      ]
    },
    {
      "cell_type": "code",
      "metadata": {
        "id": "3dnOlf9i_kzX",
        "colab": {
          "base_uri": "https://localhost:8080/"
        },
        "outputId": "0a36eb83-c587-4c43-943d-3cbd7dd5d855"
      },
      "source": [
        "# 나노 초 표현\n",
        "datetime = np.datetime64('2020-06-01 12:00:12.34', 'ns')\n",
        "datetime"
      ],
      "execution_count": null,
      "outputs": [
        {
          "output_type": "execute_result",
          "data": {
            "text/plain": [
              "numpy.datetime64('2020-06-01T12:00:12.340000000')"
            ]
          },
          "metadata": {},
          "execution_count": 47
        }
      ]
    },
    {
      "cell_type": "markdown",
      "metadata": {
        "id": "5AREIamhGxAr"
      },
      "source": [
        "\n",
        "\n",
        "---\n",
        "\n"
      ]
    },
    {
      "cell_type": "markdown",
      "metadata": {
        "id": "d88tkTqbBE5V"
      },
      "source": [
        "## 2. 배열 조회"
      ]
    },
    {
      "cell_type": "markdown",
      "metadata": {
        "id": "vRqwfbjtFnPn"
      },
      "source": [
        "### 배열 속성 정보"
      ]
    },
    {
      "cell_type": "code",
      "metadata": {
        "id": "R5Rlcll7GXrM"
      },
      "source": [
        "# 배열 속성 정보를 출력하는 함수\n",
        "def array_info(array):\n",
        "  print(array)\n",
        "  print(\"ndim: \", array.ndim)\n",
        "  print(\"shape: \", array.shape)\n",
        "  print(\"dtype: \", array.dtype)\n",
        "  print(\"size: \", array.size)  # element 개수\n",
        "  print(\"itemsize: \", array.itemsize) # 하나의 아이템이 가지는 사이즈 8byte=int 64bit\n",
        "  print(\"nbytes: \", array.nbytes)     # 전체 배열의 바이트 크기.  8*5=40   size * itemsize  \n",
        "  print(\"strides: \", array.strides)   # 다음 차원으로 넘어가기 위해서 필요한 바이트"
      ],
      "execution_count": null,
      "outputs": []
    },
    {
      "cell_type": "code",
      "metadata": {
        "id": "Na59LwA7KXZV",
        "colab": {
          "base_uri": "https://localhost:8080/"
        },
        "outputId": "e786f632-f284-4f9a-a872-dbeaf492600f"
      },
      "source": [
        "array_info(a1)"
      ],
      "execution_count": null,
      "outputs": [
        {
          "output_type": "stream",
          "name": "stdout",
          "text": [
            "[4 2 3 4 5]\n",
            "ndim:  1\n",
            "shape:  (5,)\n",
            "dtype:  int64\n",
            "size:  5\n",
            "itemsize:  8\n",
            "nbytes:  40\n",
            "strides:  (8,)\n"
          ]
        }
      ]
    },
    {
      "cell_type": "code",
      "metadata": {
        "id": "Urzr_LsdLah0",
        "colab": {
          "base_uri": "https://localhost:8080/"
        },
        "outputId": "42d6e77c-437b-434c-a6ad-49776e027547"
      },
      "source": [
        "array_info(a2)    # 다음 차원으로 넘어갈 때 24byte가 필요  3*8=24byte"
      ],
      "execution_count": null,
      "outputs": [
        {
          "output_type": "stream",
          "name": "stdout",
          "text": [
            "[[1 2 3]\n",
            " [4 5 6]\n",
            " [7 8 9]]\n",
            "ndim:  2\n",
            "shape:  (3, 3)\n",
            "dtype:  int64\n",
            "size:  9\n",
            "itemsize:  8\n",
            "nbytes:  72\n",
            "strides:  (24, 8)\n"
          ]
        }
      ]
    },
    {
      "cell_type": "code",
      "metadata": {
        "id": "jktqh1lsLf4V",
        "colab": {
          "base_uri": "https://localhost:8080/"
        },
        "outputId": "650d61d4-45c4-4ccb-9b39-6a1e9ba82ec2"
      },
      "source": [
        "array_info(a3)"
      ],
      "execution_count": null,
      "outputs": [
        {
          "output_type": "stream",
          "name": "stdout",
          "text": [
            "[[[1 2 3]\n",
            "  [4 5 6]\n",
            "  [7 8 9]]\n",
            "\n",
            " [[1 2 3]\n",
            "  [4 5 6]\n",
            "  [7 8 9]]\n",
            "\n",
            " [[1 2 3]\n",
            "  [4 5 6]\n",
            "  [7 8 9]]]\n",
            "ndim:  3\n",
            "shape:  (3, 3, 3)\n",
            "dtype:  int64\n",
            "size:  27\n",
            "itemsize:  8\n",
            "nbytes:  216\n",
            "strides:  (72, 24, 8)\n"
          ]
        }
      ]
    },
    {
      "cell_type": "markdown",
      "metadata": {
        "id": "LV1WfdBWFqDu"
      },
      "source": [
        "### 인덱싱(Indexing)"
      ]
    },
    {
      "cell_type": "code",
      "metadata": {
        "id": "Nyb7eDmGFr5m",
        "colab": {
          "base_uri": "https://localhost:8080/"
        },
        "outputId": "cb57500c-d034-4027-ed10-b13a876637d3"
      },
      "source": [
        "print(a1)\n",
        "print(a1[0])\n",
        "print(a1[-1])"
      ],
      "execution_count": null,
      "outputs": [
        {
          "output_type": "stream",
          "name": "stdout",
          "text": [
            "[4 2 3 4 5]\n",
            "4\n",
            "5\n"
          ]
        }
      ]
    },
    {
      "cell_type": "code",
      "metadata": {
        "id": "uHMNcQW3Kn-h",
        "colab": {
          "base_uri": "https://localhost:8080/"
        },
        "outputId": "eefe90c3-6787-447f-ce12-ffacb702d29e"
      },
      "source": [
        "print(a2)\n",
        "print(a2[0, 0])\n",
        "print(a2[2, -1])"
      ],
      "execution_count": null,
      "outputs": [
        {
          "output_type": "stream",
          "name": "stdout",
          "text": [
            "[[1 2 3]\n",
            " [4 5 6]\n",
            " [7 8 9]]\n",
            "1\n",
            "9\n"
          ]
        }
      ]
    },
    {
      "cell_type": "code",
      "metadata": {
        "id": "IX5yDMGiMxYZ",
        "colab": {
          "base_uri": "https://localhost:8080/"
        },
        "outputId": "d969ece2-224c-4bd6-81cc-464bbdd5d496"
      },
      "source": [
        "print(a3)\n",
        "print(a3[0, 0, 0])\n",
        "print(a3[2, -1, -1])"
      ],
      "execution_count": null,
      "outputs": [
        {
          "output_type": "stream",
          "name": "stdout",
          "text": [
            "[[[1 2 3]\n",
            "  [4 5 6]\n",
            "  [7 8 9]]\n",
            "\n",
            " [[1 2 3]\n",
            "  [4 5 6]\n",
            "  [7 8 9]]\n",
            "\n",
            " [[1 2 3]\n",
            "  [4 5 6]\n",
            "  [7 8 9]]]\n",
            "1\n",
            "9\n"
          ]
        }
      ]
    },
    {
      "cell_type": "markdown",
      "metadata": {
        "id": "uSeXu2y_O4cu"
      },
      "source": [
        "### 슬라이싱(Slicing)"
      ]
    },
    {
      "cell_type": "markdown",
      "metadata": {
        "id": "1hikO_6ZPp5m"
      },
      "source": [
        "* 슬라이싱 구문: `a[start:stop:step]`\n",
        "* 기본값: start=0, stop=ndim, step=1"
      ]
    },
    {
      "cell_type": "code",
      "metadata": {
        "id": "PYZOOCoVO7BF",
        "colab": {
          "base_uri": "https://localhost:8080/"
        },
        "outputId": "5213b689-a032-434c-c472-f78e2f86a3a9"
      },
      "source": [
        "print(a1)\n",
        "print(a1[0:2])\n",
        "print(a1[0:])\n",
        "print(a1[:1])\n",
        "print(a1[::2])  # step=1\n",
        "print(a1[::-1]) # 역으로 접근."
      ],
      "execution_count": null,
      "outputs": [
        {
          "output_type": "stream",
          "name": "stdout",
          "text": [
            "[4 2 3 4 5]\n",
            "[4 2]\n",
            "[4 2 3 4 5]\n",
            "[4]\n",
            "[4 3 5]\n",
            "[5 4 3 2 4]\n"
          ]
        }
      ]
    },
    {
      "cell_type": "code",
      "metadata": {
        "id": "oULOFrBQWs1G",
        "colab": {
          "base_uri": "https://localhost:8080/"
        },
        "outputId": "bf773a08-ad8f-45b2-9d84-9b65fa683e78"
      },
      "source": [
        "print(a2)\n",
        "print(a2[1], '\\n')\n",
        "print(a2[1, :], '\\n')\n",
        "print(a2[:2, :2], '\\n')\n",
        "print(a2[:2, ::2], '\\n')\n",
        "print(a2[1:, ::2], '\\n')  # step=1\n",
        "print(a2[1:, ::-1], '\\n')  # 역으로 접근.\n",
        "print(a2[::-1, ::-1], '\\n') "
      ],
      "execution_count": null,
      "outputs": [
        {
          "output_type": "stream",
          "name": "stdout",
          "text": [
            "[[1 2 3]\n",
            " [4 5 6]\n",
            " [7 8 9]]\n",
            "[4 5 6] \n",
            "\n",
            "[4 5 6] \n",
            "\n",
            "[[1 2]\n",
            " [4 5]] \n",
            "\n",
            "[[1 3]\n",
            " [4 6]] \n",
            "\n",
            "[[4 6]\n",
            " [7 9]] \n",
            "\n",
            "[[6 5 4]\n",
            " [9 8 7]] \n",
            "\n",
            "[[9 8 7]\n",
            " [6 5 4]\n",
            " [3 2 1]] \n",
            "\n"
          ]
        }
      ]
    },
    {
      "cell_type": "markdown",
      "metadata": {
        "id": "LD52bXAsBgbH"
      },
      "source": [
        "### 불리언 인덱싱(Boolean Indexing)\n",
        "\n",
        "* 배열 각 요소의 선택 여부를 불리언(True or False)로 지정\n",
        "* True 값인 인덱스의 값만 조회"
      ]
    },
    {
      "cell_type": "code",
      "metadata": {
        "id": "pOvNsH2oBgz-",
        "colab": {
          "base_uri": "https://localhost:8080/"
        },
        "outputId": "6327320e-c080-4970-faba-e8b876a119d5"
      },
      "source": [
        "print(a1)\n",
        "bi = [False, True, True, False, True]\n",
        "print(a1[bi])\n",
        "\n",
        "bi = [True, False, True, True, False]\n",
        "print(a1[bi])"
      ],
      "execution_count": null,
      "outputs": [
        {
          "output_type": "stream",
          "name": "stdout",
          "text": [
            "[4 2 3 4 5]\n",
            "[2 3 5]\n",
            "[4 3 4]\n"
          ]
        }
      ]
    },
    {
      "cell_type": "code",
      "metadata": {
        "id": "EFfquM2kWHAU",
        "colab": {
          "base_uri": "https://localhost:8080/"
        },
        "outputId": "829a81b9-1498-42b3-e5da-45e277b94213"
      },
      "source": [
        "print(a2)\n",
        "bi = np.random.randint(0, 2, (3,3), dtype=bool) # 랜덤으로 True, False가 생성되도록 \n",
        "print(bi)\n",
        "print(a2[bi])"
      ],
      "execution_count": null,
      "outputs": [
        {
          "output_type": "stream",
          "name": "stdout",
          "text": [
            "[[1 2 3]\n",
            " [4 5 6]\n",
            " [7 8 9]]\n",
            "[[False  True False]\n",
            " [False False  True]\n",
            " [False False False]]\n",
            "[2 6]\n"
          ]
        }
      ]
    },
    {
      "cell_type": "markdown",
      "metadata": {
        "id": "R5hes-hdBujH"
      },
      "source": [
        "### 팬시 인덱싱(Fancy Indedxing)\n",
        "- 인덱스를 묶어서 전달해주면 해당 인덱스의 값만 출력\n",
        "- 인덱스에 따라 결과의 shape이 결정됌"
      ]
    },
    {
      "cell_type": "code",
      "metadata": {
        "id": "z-Luw5fzBx30",
        "colab": {
          "base_uri": "https://localhost:8080/"
        },
        "outputId": "386f5827-f1ac-4c1d-c423-2b87b1a83964"
      },
      "source": [
        "print(a1)\n",
        "print([a1[0], a1[2]])\n",
        "\n",
        "ind = [0, 2]\n",
        "print(a1[ind])"
      ],
      "execution_count": null,
      "outputs": [
        {
          "output_type": "stream",
          "name": "stdout",
          "text": [
            "[4 2 3 4 5]\n",
            "[4, 3]\n",
            "[4 3]\n"
          ]
        }
      ]
    },
    {
      "cell_type": "code",
      "metadata": {
        "id": "p_Dd0oiJahgj",
        "colab": {
          "base_uri": "https://localhost:8080/"
        },
        "outputId": "bf589a47-d6fc-4aa9-a3e3-347ac323d955"
      },
      "source": [
        "# 1차원 배열이지만 2차원 인덱스를 주었기 때문에 2차원 배열 형태로 출력됌\n",
        "\n",
        "ind = np.array([[0,1],\n",
        "                [2,0]])\n",
        "\n",
        "print(a1[ind])"
      ],
      "execution_count": null,
      "outputs": [
        {
          "output_type": "stream",
          "name": "stdout",
          "text": [
            "[[4 2]\n",
            " [3 4]]\n"
          ]
        }
      ]
    },
    {
      "cell_type": "code",
      "source": [
        "print(a2, '\\n')\n",
        "row = np.array([0, 2])\n",
        "col = np.array([1, 2])\n",
        "print(a2[row, col], '\\n')\n",
        "\n",
        "print(a2[row, :], '\\n')\n",
        "print(a2[:, col], '\\n')\n",
        "print(a2[row, 1], '\\n')\n",
        "print(a2[2, col], '\\n')\n",
        "print(a2[row, 1:], '\\n')\n",
        "print(a2[1:, col], '\\n')"
      ],
      "metadata": {
        "colab": {
          "base_uri": "https://localhost:8080/"
        },
        "id": "HRku6sN8R3n3",
        "outputId": "2898b82e-3fc9-49b7-e538-6b1f4be0c664"
      },
      "execution_count": null,
      "outputs": [
        {
          "output_type": "stream",
          "name": "stdout",
          "text": [
            "[[1 2 3]\n",
            " [4 5 6]\n",
            " [7 8 9]] \n",
            "\n",
            "[2 9] \n",
            "\n",
            "[[1 2 3]\n",
            " [7 8 9]] \n",
            "\n",
            "[[2 3]\n",
            " [5 6]\n",
            " [8 9]] \n",
            "\n",
            "[2 8] \n",
            "\n",
            "[8 9] \n",
            "\n",
            "[[2 3]\n",
            " [8 9]] \n",
            "\n",
            "[[5 6]\n",
            " [8 9]] \n",
            "\n"
          ]
        }
      ]
    },
    {
      "cell_type": "markdown",
      "metadata": {
        "id": "F71_PQF1GvTs"
      },
      "source": [
        "\n",
        "\n",
        "---\n",
        "\n"
      ]
    },
    {
      "cell_type": "markdown",
      "metadata": {
        "id": "zDI5yQ58O-IX"
      },
      "source": [
        "## 3. 배열 값 삽입/수정/삭제/복사"
      ]
    },
    {
      "cell_type": "markdown",
      "metadata": {
        "id": "zajd1qpVOQYy"
      },
      "source": [
        "### 배열 값 삽입\n",
        "\n",
        "* `insert()`: 배열의 특정 위치에 값 삽입\n",
        "* axis를 지정하지 않으면 1차원 배열로 변환\n",
        "* 추가할 방향을 axis로 지정\n",
        "* 원본 배열 변경없이 새로운 배열 반환"
      ]
    },
    {
      "cell_type": "code",
      "metadata": {
        "id": "sedRT54rP395",
        "colab": {
          "base_uri": "https://localhost:8080/"
        },
        "outputId": "b2e6bb7c-ad32-4d55-e521-8f95084cf3c1"
      },
      "source": [
        "print(a1)\n",
        "b1 = np.insert(a1, 0, 10)  # a1의 0번째에 10을 넣기\n",
        "print(b1)  \n",
        "print(a1)\n",
        "\n",
        "# 원본 배열은 그대로. 새로운 배열을 반환함"
      ],
      "execution_count": null,
      "outputs": [
        {
          "output_type": "stream",
          "name": "stdout",
          "text": [
            "[4 2 3 4 5]\n",
            "[10  4  2  3  4  5]\n",
            "[4 2 3 4 5]\n"
          ]
        }
      ]
    },
    {
      "cell_type": "code",
      "metadata": {
        "id": "zNmu1E4iQ6h-",
        "colab": {
          "base_uri": "https://localhost:8080/"
        },
        "outputId": "2b7978d1-9cf2-47ad-ba55-c301eaec8d95"
      },
      "source": [
        "print(a2, '\\n')\n",
        "b2 = np.insert(a2, 1, 10, axis=0)  # 2차원 배열이므로 축 지정.  axis 0 은 row\n",
        "print(b2, '\\n')\n",
        "\n",
        "c2 = np.insert(a2, 1, 10, axis=1) # axis=1 = col\n",
        "print(c2)"
      ],
      "execution_count": null,
      "outputs": [
        {
          "output_type": "stream",
          "name": "stdout",
          "text": [
            "[[1 2 3]\n",
            " [4 5 6]\n",
            " [7 8 9]] \n",
            "\n",
            "[[ 1  2  3]\n",
            " [10 10 10]\n",
            " [ 4  5  6]\n",
            " [ 7  8  9]] \n",
            "\n",
            "[[ 1 10  2  3]\n",
            " [ 4 10  5  6]\n",
            " [ 7 10  8  9]]\n"
          ]
        }
      ]
    },
    {
      "cell_type": "markdown",
      "metadata": {
        "id": "OlEzG4ffNjyL"
      },
      "source": [
        "### 배열 값 수정\n",
        "\n",
        "* 배열의 인덱싱으로 접근하여 값 수정"
      ]
    },
    {
      "cell_type": "code",
      "metadata": {
        "id": "ec43i1KWNjeN",
        "colab": {
          "base_uri": "https://localhost:8080/"
        },
        "outputId": "a2ce28d4-b244-4083-8d97-2b1ca9a46c3f"
      },
      "source": [
        "print(a1)\n",
        "a1[0] = 1\n",
        "a1[1] = 2\n",
        "print(a1)"
      ],
      "execution_count": null,
      "outputs": [
        {
          "output_type": "stream",
          "name": "stdout",
          "text": [
            "[4 2 3 4 5]\n",
            "[1 2 3 4 5]\n"
          ]
        }
      ]
    },
    {
      "cell_type": "code",
      "source": [
        "# 슬라이싱\n",
        "print(a1)\n",
        "a1[:2] = 9\n",
        "print(a1)"
      ],
      "metadata": {
        "colab": {
          "base_uri": "https://localhost:8080/"
        },
        "id": "0CLZ3jbHTwwn",
        "outputId": "9afd34aa-69c2-4bbd-f81c-16aace6d4f19"
      },
      "execution_count": null,
      "outputs": [
        {
          "output_type": "stream",
          "name": "stdout",
          "text": [
            "[1 2 3 4 5]\n",
            "[9 9 3 4 5]\n"
          ]
        }
      ]
    },
    {
      "cell_type": "code",
      "metadata": {
        "id": "IApNNx3NOMQh",
        "colab": {
          "base_uri": "https://localhost:8080/"
        },
        "outputId": "cf65f5ae-3c4e-4554-99b6-67783f9b101b"
      },
      "source": [
        "i = np.array([1,3,4])  # 지정된 index의 값을 0으로\n",
        "a1[i] = 0\n",
        "print(a1)"
      ],
      "execution_count": null,
      "outputs": [
        {
          "output_type": "stream",
          "name": "stdout",
          "text": [
            "[9 0 3 0 0]\n"
          ]
        }
      ]
    },
    {
      "cell_type": "code",
      "source": [
        "a1[i]+=4\n",
        "print(a1)"
      ],
      "metadata": {
        "colab": {
          "base_uri": "https://localhost:8080/"
        },
        "id": "f7dVS_cnUbYy",
        "outputId": "af0702b8-6ceb-4baf-f632-c3979a20a02e"
      },
      "execution_count": null,
      "outputs": [
        {
          "output_type": "stream",
          "name": "stdout",
          "text": [
            "[9 4 3 4 4]\n"
          ]
        }
      ]
    },
    {
      "cell_type": "code",
      "source": [
        "print(a2, '\\n')\n",
        "a2[0, 0] = 1\n",
        "a2[1, 1] = 2\n",
        "a2[2, 2] = 3\n",
        "print(a2, '\\n')  \n",
        "\n",
        "a2[0] = 1      # 0번째 row를 모두 1로\n",
        "print(a2, '\\n')\n",
        "\n",
        "a2[1:, 2] = 9\n",
        "print(a2, '\\n')\n",
        "\n",
        "row = np.array([0,1])\n",
        "col = np.array([1,2])\n",
        "a2[row, col] = 0\n",
        "print(a2, '\\n')"
      ],
      "metadata": {
        "colab": {
          "base_uri": "https://localhost:8080/"
        },
        "id": "F4WAmAfOUg4M",
        "outputId": "f5a8a6fe-fa1c-4d54-b1ee-0e22648264f0"
      },
      "execution_count": null,
      "outputs": [
        {
          "output_type": "stream",
          "name": "stdout",
          "text": [
            "[[1 2 3]\n",
            " [4 5 6]\n",
            " [7 8 9]] \n",
            "\n",
            "[[1 2 3]\n",
            " [4 2 6]\n",
            " [7 8 3]] \n",
            "\n",
            "[[1 1 1]\n",
            " [4 2 6]\n",
            " [7 8 3]] \n",
            "\n",
            "[[1 1 1]\n",
            " [4 2 9]\n",
            " [7 8 9]] \n",
            "\n",
            "[[1 0 1]\n",
            " [4 2 0]\n",
            " [7 8 9]] \n",
            "\n"
          ]
        }
      ]
    },
    {
      "cell_type": "markdown",
      "metadata": {
        "id": "emV7DgrITPcn"
      },
      "source": [
        "### 배열 값 삭제\n",
        "\n",
        "* `delete()`: 배열의 특정 위치에 값 삭제\n",
        "* axis를 지정하지 않으면 1차원 배열로 변환\n",
        "* 삭제할 방향을 axis로 지정\n",
        "* 원본 배열 변경없이 새로운 배열 반환"
      ]
    },
    {
      "cell_type": "code",
      "metadata": {
        "id": "I3k_Yx8lTRJ2",
        "colab": {
          "base_uri": "https://localhost:8080/"
        },
        "outputId": "5bc810df-bcf9-47ea-ec14-eac476bc5128"
      },
      "source": [
        "print(a1)\n",
        "b1 = np.delete(a1, 1)\n",
        "print(b1)\n",
        "print(a1)"
      ],
      "execution_count": null,
      "outputs": [
        {
          "output_type": "stream",
          "name": "stdout",
          "text": [
            "[9 4 3 4 4]\n",
            "[9 3 4 4]\n",
            "[9 4 3 4 4]\n"
          ]
        }
      ]
    },
    {
      "cell_type": "code",
      "metadata": {
        "id": "tRTwMIfJTq_y",
        "colab": {
          "base_uri": "https://localhost:8080/"
        },
        "outputId": "994e34d5-0385-4a12-eab8-0f2911444f13"
      },
      "source": [
        "print(a2, '\\n')\n",
        "b2 = np.delete(a2, 1, axis=0)\n",
        "print(b2, '\\n')\n",
        "print(a2, '\\n')"
      ],
      "execution_count": null,
      "outputs": [
        {
          "output_type": "stream",
          "name": "stdout",
          "text": [
            "[[1 0 1]\n",
            " [4 2 0]\n",
            " [7 8 9]] \n",
            "\n",
            "[[1 0 1]\n",
            " [7 8 9]] \n",
            "\n",
            "[[1 0 1]\n",
            " [4 2 0]\n",
            " [7 8 9]] \n",
            "\n"
          ]
        }
      ]
    },
    {
      "cell_type": "markdown",
      "metadata": {
        "id": "UydkYxV8Z6Fx"
      },
      "source": [
        "### 배열 복사\n",
        "\n",
        "* 리스트에서 슬라이스를 통한 복사는 원본과 다른 복사본.\n",
        "* 반면 numpy 배열의 슬라이스는 원본 배열과 같음. (복사본의 값 수정 시, 원본도 수정됌)"
      ]
    },
    {
      "cell_type": "code",
      "metadata": {
        "id": "n2_0L8KWZ7wH",
        "colab": {
          "base_uri": "https://localhost:8080/"
        },
        "outputId": "305a52d6-8d2d-4888-dfd9-46643c4b3e56"
      },
      "source": [
        "print(a2)\n",
        "print(a2[:2, :2], '\\n')\n",
        "\n",
        "# 복사\n",
        "a2_sub = a2[:2, :2] \n",
        "print(a2_sub, '\\n')\n",
        "a2_sub[:, 1] = 0    # 1열을 전부 0으로 변경\n",
        "print(a2_sub, '\\n')\n",
        "print(a2)          # 원본 배열도 변경됌"
      ],
      "execution_count": null,
      "outputs": [
        {
          "output_type": "stream",
          "name": "stdout",
          "text": [
            "[[1 0 1]\n",
            " [4 0 0]\n",
            " [7 8 9]]\n",
            "[[1 0]\n",
            " [4 0]] \n",
            "\n",
            "[[1 0]\n",
            " [4 0]] \n",
            "\n",
            "[[1 0]\n",
            " [4 0]] \n",
            "\n",
            "[[1 0 1]\n",
            " [4 0 0]\n",
            " [7 8 9]]\n"
          ]
        }
      ]
    },
    {
      "cell_type": "markdown",
      "metadata": {
        "id": "UrQqOC1Eat5l"
      },
      "source": [
        "\n",
        "* `copy()`: 배열이나 하위 배열 내의 값을 명시적으로 복사"
      ]
    },
    {
      "cell_type": "code",
      "metadata": {
        "id": "hLBZ7Qn6bAKO",
        "colab": {
          "base_uri": "https://localhost:8080/"
        },
        "outputId": "3fef24ab-026f-4611-9da4-09403af053da"
      },
      "source": [
        "print(a2, '\\n')\n",
        "a2_sub_copy = a2[:2, :2].copy()\n",
        "print(a2_sub_copy, '\\n')  # 원본 카피\n",
        "\n",
        "a2_sub_copy[:, 1] = 1\n",
        "print(a2_sub_copy, '\\n')  # 수정\n",
        "print(a2, '\\n')  # 원본은 수정되지 않음"
      ],
      "execution_count": null,
      "outputs": [
        {
          "output_type": "stream",
          "name": "stdout",
          "text": [
            "[[1 0 1]\n",
            " [4 0 0]\n",
            " [7 8 9]] \n",
            "\n",
            "[[1 0]\n",
            " [4 0]] \n",
            "\n",
            "[[1 1]\n",
            " [4 1]] \n",
            "\n",
            "[[1 0 1]\n",
            " [4 0 0]\n",
            " [7 8 9]] \n",
            "\n"
          ]
        }
      ]
    },
    {
      "cell_type": "markdown",
      "metadata": {
        "id": "4HTc9FXOGtA7"
      },
      "source": [
        "\n",
        "\n",
        "---\n",
        "\n"
      ]
    },
    {
      "cell_type": "markdown",
      "metadata": {
        "id": "XVZY082__yV6"
      },
      "source": [
        "##4. 배열 변환"
      ]
    },
    {
      "cell_type": "markdown",
      "metadata": {
        "id": "Ec09aPeBO58M"
      },
      "source": [
        "### 배열 전치 및 축 변경"
      ]
    },
    {
      "cell_type": "code",
      "metadata": {
        "id": "anYByBpoWZmj",
        "colab": {
          "base_uri": "https://localhost:8080/"
        },
        "outputId": "62c17f43-4991-44c9-d4a2-34bce643bdc6"
      },
      "source": [
        "print(a2)\n",
        "print(a2.T)"
      ],
      "execution_count": 5,
      "outputs": [
        {
          "output_type": "stream",
          "name": "stdout",
          "text": [
            "[[1 2 3]\n",
            " [4 5 6]\n",
            " [7 8 9]]\n",
            "[[1 4 7]\n",
            " [2 5 8]\n",
            " [3 6 9]]\n"
          ]
        }
      ]
    },
    {
      "cell_type": "code",
      "metadata": {
        "id": "wg4XC6kiRnZo",
        "colab": {
          "base_uri": "https://localhost:8080/"
        },
        "outputId": "79819297-4925-41d1-deea-210e74412eb1"
      },
      "source": [
        "print(a3)\n",
        "print('-----------------------')\n",
        "print(a3.T)"
      ],
      "execution_count": 10,
      "outputs": [
        {
          "output_type": "stream",
          "name": "stdout",
          "text": [
            "[[[1 2 3]\n",
            "  [4 5 6]\n",
            "  [7 8 9]]\n",
            "\n",
            " [[1 2 3]\n",
            "  [4 5 6]\n",
            "  [7 8 9]]\n",
            "\n",
            " [[1 2 3]\n",
            "  [4 5 6]\n",
            "  [7 8 9]]]\n",
            "-----------------------\n",
            "[[[1 1 1]\n",
            "  [4 4 4]\n",
            "  [7 7 7]]\n",
            "\n",
            " [[2 2 2]\n",
            "  [5 5 5]\n",
            "  [8 8 8]]\n",
            "\n",
            " [[3 3 3]\n",
            "  [6 6 6]\n",
            "  [9 9 9]]]\n"
          ]
        }
      ]
    },
    {
      "cell_type": "code",
      "metadata": {
        "id": "6lPwXL8rRTfI",
        "colab": {
          "base_uri": "https://localhost:8080/"
        },
        "outputId": "b45be228-6a99-42b2-d4a9-cc834739f094"
      },
      "source": [
        "# 축 변경을 통해 어떤 방법으로 전치를 할지 결정\n",
        "\n",
        "print(a2)\n",
        "print(a2.swapaxes(1,0))"
      ],
      "execution_count": 11,
      "outputs": [
        {
          "output_type": "stream",
          "name": "stdout",
          "text": [
            "[[1 2 3]\n",
            " [4 5 6]\n",
            " [7 8 9]]\n",
            "[[1 4 7]\n",
            " [2 5 8]\n",
            " [3 6 9]]\n"
          ]
        }
      ]
    },
    {
      "cell_type": "code",
      "metadata": {
        "id": "oLbEHtijRewH",
        "colab": {
          "base_uri": "https://localhost:8080/"
        },
        "outputId": "3050bd87-647b-42d4-e8f9-e015242bb617"
      },
      "source": [
        "print(a3)\n",
        "print('----------------------------')\n",
        "print(a3.T)\n",
        "print('----------------------------')\n",
        "print(a3.swapaxes(0,1))\n",
        "print('----------------------------')\n",
        "print(a3.swapaxes(1,2))"
      ],
      "execution_count": 16,
      "outputs": [
        {
          "output_type": "stream",
          "name": "stdout",
          "text": [
            "[[[1 2 3]\n",
            "  [4 5 6]\n",
            "  [7 8 9]]\n",
            "\n",
            " [[1 2 3]\n",
            "  [4 5 6]\n",
            "  [7 8 9]]\n",
            "\n",
            " [[1 2 3]\n",
            "  [4 5 6]\n",
            "  [7 8 9]]]\n",
            "----------------------------\n",
            "[[[1 1 1]\n",
            "  [4 4 4]\n",
            "  [7 7 7]]\n",
            "\n",
            " [[2 2 2]\n",
            "  [5 5 5]\n",
            "  [8 8 8]]\n",
            "\n",
            " [[3 3 3]\n",
            "  [6 6 6]\n",
            "  [9 9 9]]]\n",
            "----------------------------\n",
            "[[[1 2 3]\n",
            "  [1 2 3]\n",
            "  [1 2 3]]\n",
            "\n",
            " [[4 5 6]\n",
            "  [4 5 6]\n",
            "  [4 5 6]]\n",
            "\n",
            " [[7 8 9]\n",
            "  [7 8 9]\n",
            "  [7 8 9]]]\n",
            "----------------------------\n",
            "[[[1 4 7]\n",
            "  [2 5 8]\n",
            "  [3 6 9]]\n",
            "\n",
            " [[1 4 7]\n",
            "  [2 5 8]\n",
            "  [3 6 9]]\n",
            "\n",
            " [[1 4 7]\n",
            "  [2 5 8]\n",
            "  [3 6 9]]]\n"
          ]
        }
      ]
    },
    {
      "cell_type": "markdown",
      "metadata": {
        "id": "M7xN8WdOdb_S"
      },
      "source": [
        "### 배열 재구조화\n"
      ]
    },
    {
      "cell_type": "markdown",
      "metadata": {
        "id": "JwZJMpXGfY0V"
      },
      "source": [
        "* `reshape()`: 배열의 형상을 변경"
      ]
    },
    {
      "cell_type": "code",
      "metadata": {
        "id": "SlGQ17VQdd8i",
        "colab": {
          "base_uri": "https://localhost:8080/"
        },
        "outputId": "79e7d213-c303-409b-e73d-e7c69859524e"
      },
      "source": [
        "n1 = np.arange(1,10)\n",
        "print(n1)\n",
        "print(n1.reshape(3,3))  # 해당 shape으로 바꿈"
      ],
      "execution_count": 18,
      "outputs": [
        {
          "output_type": "stream",
          "name": "stdout",
          "text": [
            "[1 2 3 4 5 6 7 8 9]\n",
            "[[1 2 3]\n",
            " [4 5 6]\n",
            " [7 8 9]]\n"
          ]
        }
      ]
    },
    {
      "cell_type": "markdown",
      "metadata": {
        "id": "y_U1W-fQfuQY"
      },
      "source": [
        "* `newaxis()`: 새로운 축 추가"
      ]
    },
    {
      "cell_type": "code",
      "metadata": {
        "id": "COif_weCfkGo",
        "colab": {
          "base_uri": "https://localhost:8080/"
        },
        "outputId": "5f05371b-2048-4dfa-d12b-51be2484da33"
      },
      "source": [
        "print(n1)\n",
        "print(n1[np.newaxis, :5])  \n",
        "print(n1[:5, np.newaxis])  # 컬럼에 새로운 축 추가"
      ],
      "execution_count": 19,
      "outputs": [
        {
          "output_type": "stream",
          "name": "stdout",
          "text": [
            "[1 2 3 4 5 6 7 8 9]\n",
            "[[1 2 3 4 5]]\n",
            "[[1]\n",
            " [2]\n",
            " [3]\n",
            " [4]\n",
            " [5]]\n"
          ]
        }
      ]
    },
    {
      "cell_type": "markdown",
      "metadata": {
        "id": "FR82RSDggbcJ"
      },
      "source": [
        "### 배열 크기 변경"
      ]
    },
    {
      "cell_type": "markdown",
      "metadata": {
        "id": "D1LuDMVFl4tc"
      },
      "source": [
        "* 배열 모양만 변경"
      ]
    },
    {
      "cell_type": "code",
      "metadata": {
        "id": "7B6pHlfxgdSJ",
        "colab": {
          "base_uri": "https://localhost:8080/"
        },
        "outputId": "a873eeca-f3c4-47ee-a819-5b5db44eb397"
      },
      "source": [
        "n2 = np.random.randint(0, 10, (2,5))\n",
        "print(n2)\n",
        "n2.resize((5,2))\n",
        "print(n2)"
      ],
      "execution_count": 26,
      "outputs": [
        {
          "output_type": "stream",
          "name": "stdout",
          "text": [
            "[[7 5 3 2 0]\n",
            " [9 9 0 1 4]]\n",
            "[[7 5]\n",
            " [3 2]\n",
            " [0 9]\n",
            " [9 0]\n",
            " [1 4]]\n"
          ]
        }
      ]
    },
    {
      "cell_type": "markdown",
      "metadata": {
        "id": "s0adm-h9l6sv"
      },
      "source": [
        "* 배열 크기 증가\n",
        "* 남은 공간은 0으로 채워짐"
      ]
    },
    {
      "cell_type": "code",
      "metadata": {
        "id": "IrX0UcjrlWRV",
        "colab": {
          "base_uri": "https://localhost:8080/"
        },
        "outputId": "07bed3ad-a662-49bb-d629-22bc9e2709f4"
      },
      "source": [
        "n2.resize((5,5), refcheck=False)\n",
        "print(n2)"
      ],
      "execution_count": 30,
      "outputs": [
        {
          "output_type": "stream",
          "name": "stdout",
          "text": [
            "[[7 5 3 2 0]\n",
            " [9 9 0 1 4]\n",
            " [0 0 0 0 0]\n",
            " [0 0 0 0 0]\n",
            " [0 0 0 0 0]]\n"
          ]
        }
      ]
    },
    {
      "cell_type": "markdown",
      "metadata": {
        "id": "78hPDEzfl9JB"
      },
      "source": [
        "* 배열 크기 감소\n",
        "* 포함되지 않은 값은 삭제됨"
      ]
    },
    {
      "cell_type": "code",
      "metadata": {
        "id": "fJWrwhc6lmjW",
        "colab": {
          "base_uri": "https://localhost:8080/"
        },
        "outputId": "33ca95d8-cce5-4d69-965e-81b57c74963c"
      },
      "source": [
        "n2.resize((3,3), refcheck=False)\n",
        "print(n2)"
      ],
      "execution_count": 31,
      "outputs": [
        {
          "output_type": "stream",
          "name": "stdout",
          "text": [
            "[[7 5 3]\n",
            " [2 0 9]\n",
            " [9 0 1]]\n"
          ]
        }
      ]
    },
    {
      "cell_type": "markdown",
      "metadata": {
        "id": "r9z2gD_pHyx9"
      },
      "source": [
        "### 배열 추가\n",
        "\n",
        "* `append()`: 배열의 끝에 값 추가"
      ]
    },
    {
      "cell_type": "code",
      "metadata": {
        "id": "fH4lpQKNH5s1",
        "colab": {
          "base_uri": "https://localhost:8080/"
        },
        "outputId": "2df115d9-ea0a-492c-dd50-9612b9a883b3"
      },
      "source": [
        "a2 = np.arange(1,10).reshape(3,3)\n",
        "print(a2)\n",
        "b2 = np.arange(10,19).reshape(3,3)\n",
        "print(b2)"
      ],
      "execution_count": 33,
      "outputs": [
        {
          "output_type": "stream",
          "name": "stdout",
          "text": [
            "[[1 2 3]\n",
            " [4 5 6]\n",
            " [7 8 9]]\n",
            "[[10 11 12]\n",
            " [13 14 15]\n",
            " [16 17 18]]\n"
          ]
        }
      ]
    },
    {
      "cell_type": "markdown",
      "metadata": {
        "id": "n8SMl5VVIquk"
      },
      "source": [
        "* axis 지정이 없으면 1차원 배열 형태로 변형되어 결합"
      ]
    },
    {
      "cell_type": "code",
      "metadata": {
        "id": "LRltk3yFIVsV",
        "colab": {
          "base_uri": "https://localhost:8080/"
        },
        "outputId": "fa4beb35-19ea-4400-eb8f-56a00aa1d229"
      },
      "source": [
        "c2 = np.append(a2, b2)\n",
        "print(c2)"
      ],
      "execution_count": 34,
      "outputs": [
        {
          "output_type": "stream",
          "name": "stdout",
          "text": [
            "[ 1  2  3  4  5  6  7  8  9 10 11 12 13 14 15 16 17 18]\n"
          ]
        }
      ]
    },
    {
      "cell_type": "markdown",
      "metadata": {
        "id": "sVW2UFVZJfpR"
      },
      "source": [
        "* axis를 0으로 지정\n",
        "* shape[0]을 제외한 나머지 shape은 같아야 함"
      ]
    },
    {
      "cell_type": "code",
      "metadata": {
        "id": "nwJ4xLOeIbMg",
        "colab": {
          "base_uri": "https://localhost:8080/"
        },
        "outputId": "a600f473-21e9-4044-f709-6665f35c6f03"
      },
      "source": [
        "c2 = np.append(a2, b2, axis=0) # 행 방향으로 append\n",
        "print(c2)"
      ],
      "execution_count": 35,
      "outputs": [
        {
          "output_type": "stream",
          "name": "stdout",
          "text": [
            "[[ 1  2  3]\n",
            " [ 4  5  6]\n",
            " [ 7  8  9]\n",
            " [10 11 12]\n",
            " [13 14 15]\n",
            " [16 17 18]]\n"
          ]
        }
      ]
    },
    {
      "cell_type": "markdown",
      "metadata": {
        "id": "4YXxzygaJmj-"
      },
      "source": [
        "* axis를 1로 지정\n",
        "* shape[1]을 제외한 나머지 shape은 같아야 함"
      ]
    },
    {
      "cell_type": "code",
      "metadata": {
        "id": "JYE4_5gAJmYe",
        "colab": {
          "base_uri": "https://localhost:8080/"
        },
        "outputId": "d08bed2c-1af9-476a-d2ab-e95d986bde2a"
      },
      "source": [
        "c2 = np.append(a2, b2, axis=1) # 열방향으로 append\n",
        "print(c2)"
      ],
      "execution_count": 36,
      "outputs": [
        {
          "output_type": "stream",
          "name": "stdout",
          "text": [
            "[[ 1  2  3 10 11 12]\n",
            " [ 4  5  6 13 14 15]\n",
            " [ 7  8  9 16 17 18]]\n"
          ]
        }
      ]
    },
    {
      "cell_type": "markdown",
      "metadata": {
        "id": "9sTza3b2hoe4"
      },
      "source": [
        "### 배열 연결"
      ]
    },
    {
      "cell_type": "markdown",
      "metadata": {
        "id": "TRun2NPYj8Ct"
      },
      "source": [
        "* `concatenate()`: 튜플이나 배열의 리스트를 인수로 사용해 배열 연결"
      ]
    },
    {
      "cell_type": "code",
      "metadata": {
        "id": "lmEqdPifhrB_",
        "colab": {
          "base_uri": "https://localhost:8080/"
        },
        "outputId": "9199c8b6-b2a5-4e21-ef78-adddc218cc6f"
      },
      "source": [
        "a1 = np.array([1,3,5])\n",
        "b1 = np.array([2,4,6])\n",
        "np.concatenate([a1, b1])"
      ],
      "execution_count": 37,
      "outputs": [
        {
          "output_type": "execute_result",
          "data": {
            "text/plain": [
              "array([1, 3, 5, 2, 4, 6])"
            ]
          },
          "metadata": {},
          "execution_count": 37
        }
      ]
    },
    {
      "cell_type": "code",
      "metadata": {
        "id": "IkoTNIt2k0tp",
        "colab": {
          "base_uri": "https://localhost:8080/"
        },
        "outputId": "5180e44b-752c-43b1-c309-facac8f2b56d"
      },
      "source": [
        "c1 = np.array([7,8, 9])\n",
        "np.concatenate([a1, b1, c1])"
      ],
      "execution_count": 38,
      "outputs": [
        {
          "output_type": "execute_result",
          "data": {
            "text/plain": [
              "array([1, 3, 5, 2, 4, 6, 7, 8, 9])"
            ]
          },
          "metadata": {},
          "execution_count": 38
        }
      ]
    },
    {
      "cell_type": "code",
      "metadata": {
        "id": "vX0SCYX3lEs2",
        "colab": {
          "base_uri": "https://localhost:8080/"
        },
        "outputId": "cd646bfc-fb00-448c-9bfb-d3e5b09a7877"
      },
      "source": [
        "# 2차원으로 concatenate -> axis=0이므로 아래로 붙음\n",
        "a2 = np.array([[1,2,3],\n",
        "              [4,5,6]])\n",
        "np.concatenate([a2, a2])"
      ],
      "execution_count": 40,
      "outputs": [
        {
          "output_type": "execute_result",
          "data": {
            "text/plain": [
              "array([[1, 2, 3],\n",
              "       [4, 5, 6],\n",
              "       [1, 2, 3],\n",
              "       [4, 5, 6]])"
            ]
          },
          "metadata": {},
          "execution_count": 40
        }
      ]
    },
    {
      "cell_type": "code",
      "metadata": {
        "id": "Rv6xGva7lxHP",
        "colab": {
          "base_uri": "https://localhost:8080/"
        },
        "outputId": "e7ecd9e9-b556-4e01-8c51-4a37007f85c2"
      },
      "source": [
        "# axis=1\n",
        "a2 = np.array([[1,2,3],\n",
        "              [4,5,6]])\n",
        "np.concatenate([a2, a2], axis=1)"
      ],
      "execution_count": 41,
      "outputs": [
        {
          "output_type": "execute_result",
          "data": {
            "text/plain": [
              "array([[1, 2, 3, 1, 2, 3],\n",
              "       [4, 5, 6, 4, 5, 6]])"
            ]
          },
          "metadata": {},
          "execution_count": 41
        }
      ]
    },
    {
      "cell_type": "markdown",
      "metadata": {
        "id": "MbiBbx4nl2KD"
      },
      "source": [
        "* `vstack()`: 수직 스택(vertical stack), 1차원으로 연결"
      ]
    },
    {
      "cell_type": "code",
      "metadata": {
        "id": "HkHJwdBMl_qi",
        "colab": {
          "base_uri": "https://localhost:8080/"
        },
        "outputId": "8ebb8c74-28f4-4e7f-f75c-3109321b7a24"
      },
      "source": [
        "np.vstack([a2, a2])"
      ],
      "execution_count": 42,
      "outputs": [
        {
          "output_type": "execute_result",
          "data": {
            "text/plain": [
              "array([[1, 2, 3],\n",
              "       [4, 5, 6],\n",
              "       [1, 2, 3],\n",
              "       [4, 5, 6]])"
            ]
          },
          "metadata": {},
          "execution_count": 42
        }
      ]
    },
    {
      "cell_type": "markdown",
      "metadata": {
        "id": "-hTlAnWxmHA_"
      },
      "source": [
        "* `hstack()`: 수평 스택(horizontal stack), 2차원으로 연결"
      ]
    },
    {
      "cell_type": "code",
      "metadata": {
        "id": "-HsGlAytmNEz",
        "colab": {
          "base_uri": "https://localhost:8080/"
        },
        "outputId": "e7d2b923-08f1-48b6-d9c7-ade5fd80c50c"
      },
      "source": [
        "np.hstack([a2, a2])"
      ],
      "execution_count": 44,
      "outputs": [
        {
          "output_type": "execute_result",
          "data": {
            "text/plain": [
              "array([[1, 2, 3, 1, 2, 3],\n",
              "       [4, 5, 6, 4, 5, 6]])"
            ]
          },
          "metadata": {},
          "execution_count": 44
        }
      ]
    },
    {
      "cell_type": "markdown",
      "metadata": {
        "id": "CshM6LURmUhV"
      },
      "source": [
        "* `dstack()`: 깊이 스택(depth stack), 3차원으로 연결"
      ]
    },
    {
      "cell_type": "code",
      "metadata": {
        "id": "TFBdRddpmU4m",
        "colab": {
          "base_uri": "https://localhost:8080/"
        },
        "outputId": "bc43235b-be1b-4bfd-d769-89eb1c09f1f3"
      },
      "source": [
        "np.dstack([a2, a2])"
      ],
      "execution_count": 45,
      "outputs": [
        {
          "output_type": "execute_result",
          "data": {
            "text/plain": [
              "array([[[1, 1],\n",
              "        [2, 2],\n",
              "        [3, 3]],\n",
              "\n",
              "       [[4, 4],\n",
              "        [5, 5],\n",
              "        [6, 6]]])"
            ]
          },
          "metadata": {},
          "execution_count": 45
        }
      ]
    },
    {
      "cell_type": "markdown",
      "metadata": {
        "id": "JUBtc4UnpaSz"
      },
      "source": [
        "* `stack()`: 새로운 차원으로 연결"
      ]
    },
    {
      "cell_type": "code",
      "metadata": {
        "id": "JzoujQ9_pHS5",
        "colab": {
          "base_uri": "https://localhost:8080/"
        },
        "outputId": "55d76cf5-76b7-4260-f58a-de27b8491d44"
      },
      "source": [
        "# 2차원이 3차원으로 변경되어 연결됌\n",
        "np.stack([a2, a2])"
      ],
      "execution_count": 46,
      "outputs": [
        {
          "output_type": "execute_result",
          "data": {
            "text/plain": [
              "array([[[1, 2, 3],\n",
              "        [4, 5, 6]],\n",
              "\n",
              "       [[1, 2, 3],\n",
              "        [4, 5, 6]]])"
            ]
          },
          "metadata": {},
          "execution_count": 46
        }
      ]
    },
    {
      "cell_type": "markdown",
      "metadata": {
        "id": "eYz74NYKo8iH"
      },
      "source": [
        "### 배열 분할"
      ]
    },
    {
      "cell_type": "markdown",
      "metadata": {
        "id": "wjt2zku5pBmF"
      },
      "source": [
        "* `split()`: 배열 분할"
      ]
    },
    {
      "cell_type": "code",
      "metadata": {
        "id": "H_2e71heo-Eq",
        "colab": {
          "base_uri": "https://localhost:8080/"
        },
        "outputId": "e62a1ca3-6ccc-4683-e40c-ace0c0737359"
      },
      "source": [
        "a1 = np.arange(0, 10)\n",
        "print(a1)\n",
        "b1, c1 = np.split(a1, [5]) # 기준이 되는 index 위치\n",
        "print(b1, c1)\n",
        "\n",
        "\n",
        "b1, c1, d1, e1, f1 = np.split(a1, [2,4,6,8])  \n",
        "print(b1, c1, d1, e1, f1)"
      ],
      "execution_count": 49,
      "outputs": [
        {
          "output_type": "stream",
          "name": "stdout",
          "text": [
            "[0 1 2 3 4 5 6 7 8 9]\n",
            "[0 1 2 3 4] [5 6 7 8 9]\n",
            "[0 1] [2 3] [4 5] [6 7] [8 9]\n"
          ]
        }
      ]
    },
    {
      "cell_type": "markdown",
      "metadata": {
        "id": "IvvdCQcKsCLn"
      },
      "source": [
        "* `vsplit()`: 수직 분할, 1차원으로 분할"
      ]
    },
    {
      "cell_type": "code",
      "metadata": {
        "id": "GdMYlsiLsCoe",
        "colab": {
          "base_uri": "https://localhost:8080/"
        },
        "outputId": "349e0d4e-c216-4752-b3e6-77b016ca2b67"
      },
      "source": [
        "a2 = np.arange(1, 10).reshape(3,3)\n",
        "print(a2)\n",
        "\n",
        "b2, c2 = np.vsplit(a2, [2])\n",
        "print(b2)\n",
        "print(c2)"
      ],
      "execution_count": 50,
      "outputs": [
        {
          "output_type": "stream",
          "name": "stdout",
          "text": [
            "[[1 2 3]\n",
            " [4 5 6]\n",
            " [7 8 9]]\n",
            "[[1 2 3]\n",
            " [4 5 6]]\n",
            "[[7 8 9]]\n"
          ]
        }
      ]
    },
    {
      "cell_type": "markdown",
      "metadata": {
        "id": "1aC0a034rSXi"
      },
      "source": [
        "* `hsplit()`: 수평 분할, 2차원으로 분할"
      ]
    },
    {
      "cell_type": "code",
      "metadata": {
        "id": "ShMnE_bnrSBJ",
        "colab": {
          "base_uri": "https://localhost:8080/"
        },
        "outputId": "ce33b09c-141d-41f1-9e60-c8a0d63c7906"
      },
      "source": [
        "a2 = np.arange(1, 10).reshape(3,3)\n",
        "print(a2)\n",
        "\n",
        "b2, c2 = np.hsplit(a2, [2])\n",
        "print(b2)\n",
        "print(c2)"
      ],
      "execution_count": 51,
      "outputs": [
        {
          "output_type": "stream",
          "name": "stdout",
          "text": [
            "[[1 2 3]\n",
            " [4 5 6]\n",
            " [7 8 9]]\n",
            "[[1 2]\n",
            " [4 5]\n",
            " [7 8]]\n",
            "[[3]\n",
            " [6]\n",
            " [9]]\n"
          ]
        }
      ]
    },
    {
      "cell_type": "markdown",
      "metadata": {
        "id": "Pz3BDD8qsQER"
      },
      "source": [
        "* `dsplit()`: 깊이 분할, 3차원으로 분할"
      ]
    },
    {
      "cell_type": "code",
      "metadata": {
        "id": "DqHFGd43sQYj",
        "colab": {
          "base_uri": "https://localhost:8080/"
        },
        "outputId": "f130ec30-d8f9-4b6b-b63e-fc03c4a7f8f5"
      },
      "source": [
        "a3 = np.arange(1, 28).reshape(3,3,3)\n",
        "print(a3)\n",
        "\n",
        "b3, c3 = np.dsplit(a3, [2])\n",
        "print(b3)\n",
        "print(c3)"
      ],
      "execution_count": 55,
      "outputs": [
        {
          "output_type": "stream",
          "name": "stdout",
          "text": [
            "[[[ 1  2  3]\n",
            "  [ 4  5  6]\n",
            "  [ 7  8  9]]\n",
            "\n",
            " [[10 11 12]\n",
            "  [13 14 15]\n",
            "  [16 17 18]]\n",
            "\n",
            " [[19 20 21]\n",
            "  [22 23 24]\n",
            "  [25 26 27]]]\n",
            "[[[ 1  2]\n",
            "  [ 4  5]\n",
            "  [ 7  8]]\n",
            "\n",
            " [[10 11]\n",
            "  [13 14]\n",
            "  [16 17]]\n",
            "\n",
            " [[19 20]\n",
            "  [22 23]\n",
            "  [25 26]]]\n",
            "[[[ 3]\n",
            "  [ 6]\n",
            "  [ 9]]\n",
            "\n",
            " [[12]\n",
            "  [15]\n",
            "  [18]]\n",
            "\n",
            " [[21]\n",
            "  [24]\n",
            "  [27]]]\n"
          ]
        }
      ]
    },
    {
      "cell_type": "markdown",
      "metadata": {
        "id": "rK-zrDZuGoVd"
      },
      "source": [
        "\n",
        "\n",
        "---\n",
        "\n"
      ]
    },
    {
      "cell_type": "markdown",
      "metadata": {
        "id": "Vc-iSWewJ3C1"
      },
      "source": [
        "## 배열 연산\n",
        "\n",
        "* NumPy의 배열 연산은 벡터화(vectorized) 연산을 사용\n",
        "* 일반적으로 NumPy의 범용 함수(universal functions)를 통해 구현\n",
        "* 배열 요소에 대한 반복적인 계산을 효율적으로 수행\n"
      ]
    },
    {
      "cell_type": "markdown",
      "metadata": {
        "id": "Pg2er1A2w3cz"
      },
      "source": [
        "### 브로드캐스팅(Broadcasting)\n",
        "\n",
        "세번째 예시. shape이 달라도 브로드캐스팅되어 연산결과가 나옴"
      ]
    },
    {
      "cell_type": "markdown",
      "source": [
        "![image.png](data:image/png;base64,iVBORw0KGgoAAAANSUhEUgAAAbAAAAFECAIAAADJL/xyAAAgAElEQVR4nO3de1BT958//ncIEEIkXAWKCKPYih8FWXBtVRwqOvhR16aIgO2n3hi7XtppZ6yOW290x91+636Az3SUjzBCrQrVIgqhQrmI0F0Vb6CGuiAS/HBTKUgIlwMJCef3x8lk+YV7zjvJO+T1+OsQk+d5X3JenpOcnMOhaRoBAABAyMrUDQAAAFJAQQQAAA0oiAAAoAEFEQAANKAgAgCABhREAADQgIIIAAAaUBABAEADCiIAAGhAQQQAAA1LL4jNzc2mbgIAgBQWXRCbm5slEsmo//Ty5cuCgoKpBj548EChUCiVyocPH7JuHQDA2Cy6IF6+fHnDhg3M8s2bN/Py8k6fPp2ZmYkQ8vLy6u/vr6+vn1LgoUOHFi9evGrVqq6uLvzNBQAYGm2pampqLl68yCx3d3cHBAQoFIqhoaGlS5e2tLTQNK1QKOLj40d97a+//jrq41lZWa9evVKpVAZqMwDAoCx3D7GsrOzdd99llh0cHK5evWpra8vhcNRqNU3TCCFbW9vBwcG+vr6Rrx1rz9Ha2trT05PL5Rqu2QAAw7E2dQNMprq6es+ePdo/3377bYTQw4cPlyxZ4u3tzTzo7+//6NGj0NDQSWZKJBKapru6unx9fVevXo29zQAAgzJIQTx69GhJSUlQUFBPT89bb72VmJjIPBIQEDAwMMDn80+ePOni4jL8JTRNb926lcPhDA4ORkdHR0VFpaen//LLL56engihN2/eBAQEHDt2TPuczZs3b968edR1IYTy8vIuXrzI4XC4XG5nZ2d2dvbdu3fT09PVanVAQMDx48cRQgqFgsPhDG/D9evXS0pKvv76a+0j7u7ujY2Nky+I0dHRf/rTnxBCIpFo6dKlDg4OrMYRAGBkBjoUX7Vq1e3bt2majo6O7ujooGk6PDy8vr6epmmxWHzw4MGRLzl37hxN0xRFrVq1SiaT0TR97969oKCgJ0+e0DQtl8tHfc7IdfX29q5bt06tVjc0NMTGxlIU1dzcHBkZ2dPTQ9P0gQMHSktLaZretm3byDb09PSsWbOG+QyRpuk7d+6kpKQwy/X19QkJCYmJiQkJCR9//DGzkJiYWF5ern05c7hN0/Qnn3xSUlLCdhABAMZlqENmDoezfPlyhBCPx1MoFMyDfn5+CKHw8PDU1NSRL3F1df3iiy/kcnlfXx9FUU5OTgihlStXBgYGIoSEQuFYz9Guy87OTqFQ8Pl8pVJJUZRcLhcIBHw+//fff+/s7Ny3bx9N0xRFyWQyhJC19f/1/bfffjtz5szly5dnzJjh6upaVFQUFxeHEGL2Z7WN/+qrr5jl06dPf/755zrtz8vL++2335hdVIqi4JNEAMyOoQoiPeJWLTRN37p1KzQ0ND8/n6lxzc3N3t7ezHFrWVlZfn7+yZMnHR0dY2NjtS8RCATaBJ3naFehs2Bvb29nZ7d3714+nx8fH48QWrRokYuLS3JysoODw6NHj1QqFULIzc2Noih7e3uEEIfDYb5goWn69evX77zzDhMol8vd3Nwm2eVZs2Zt2bIFIcTU3Pfee2/KowYAMCnuN998gz30yJEjT548qa6ulslkBQUFVVVVa9euvXTpUltb208//dTe3h4fH8/j8Xbs2BEYGDhz5kyEkIuLS1lZ2dWrV/Pz8+3t7XNzc//444/z58/X1taWl5d7enrOnj1b+5yCggI+ny8Wi4ODgxMTE3XWFRERcf78eaFQaG1t3dDQ4OPj4+vr6+Hhcfz48ZycnCdPnmzevNne3l4ul/f39zPfn/j6+r548eLx48eFhYVr1qxZv3490xGxWLx+/foZM2bodPD+/ftLly7VedDLy6uysrKioqK4uPiLL77QfjMDADAbRjs4Dw8PN86K0tLSLl26RNO0SqWqrq6OiYkZ9WldXV1JSUnjRx0+fHjUx/Pz81k2EgBAIOOdh0gb636n3d3dzNe7XC7Xw8NjrPU6Ojo6OTkxnyeOSiKRrFixYtR/0u5CAgCmE45x6tSxY8fy8vJCQ0OTk5MNvS6lUvlf//VfNTU1VlZWfD5///79/v7+oz5zaGgoKyuL+eBPh1qtTk9P/9d//VcDNxYAQBAjFUSz097e7uDgYGdnZ+qGAACMBwoiAABoWO5vmQEAQAcURAAA0ICCCAAAGlAQAQBAw0gFkaZp5gdzEEgOC+yyBSJ/lokKNMb1EJVKZUxMzN27d9va2jDGcrlctVpNeCCxBcJAk2JlZVVaWoorTSqVdnV1hYSEYAwUCASjnnk6LcGmN1UGL4hKpTI6OprD4TQ1Ndna2mIMzMrKIjxQLBazTzMEw02KWCx+//332QcihCQSiYuLS2dnJ/ZALGnkg01PD4Y9ZDajETREIPs0QzCLLjN3Q2SuikRmIOHMa0sh531owIJoXiNIZiB2ZtFlqIYskT/LxAYaqiAS22EzCsTOLLoM1ZAl8meZ5ECDFESSO2wugdiZRZehGrJE/iwTHoi/IBLeYbMIxM4sugzVkCXyZ5n8QMwFkfwOkx+InVl0GaohS+TPMvmBCHtBzM7O5vF4GNtngYHYkd9liqKsrKwwFi/sgeQjf5bJD0SGuPwXc+s7jIEcDuZGYg/k8XgDAwNGWJHesE+KjY1NcXHxyMdXrVpVVlamR+CzZ8/mz58/8vHHjx8HBQXpEUhR1KgXNi8vL8d1YiNpYNNjvyL8J2YrFArCB9EQgRjTDMEQkzJWWdG73OANLC8v168Z5gs2Pfbg4g4AAKABBREAADSgIAIAgAYURAAA0ICCCAAAGlAQAQBAwxgXiB0pPz//8OHDSqUyMDAwPT19xowZ7DN37twZEBCwf/9+9lEIoYyMjISEBCsrK3t7+++//x7jNUqJ9dVXX2VnZ7u6uiKE5s+ff+nSJZaBRUVFNTU1fD4fIeTm5hYVFUVaoAXCPsvV1dVffPGFXC63trZOSUkJDg5mk3bx4sWkpCTmZJqurq7W1taWlpaZM2eybOQU0LhNmNne3u7u7i6VSmmaPnTo0L59+1gG1tTUhIeHCwSCxMRELC189uyZl5dXW1sbTdMFBQU+Pj76BRpiePUzmZYsW7asoqKCZeDwx9PS0pqbmycZWFZWNuHj2AOnGaPNshZFUW+99VZhYSFN03l5eQsWLGDfQsbg4OCyZcvOnj2rX6Dem54J9hCLi4uXLl06d+5chNDevXsXL16cnJzMJjA5OTkuLs7X1xdTAxGPx0tLS3N3d0cIhYSEtLW1qVQqa2vjjZW/v39tba3RVocQUiqVjx49SkhIqK+vnzdv3t/+9rfZs2ezCVSr1a9fv75z505nZ6eLi8vatWsdHR2JCrRA2Ge5uLh43rx5a9euRQht3Lhxzpw5mFqKvvvuOw8Pj127duEKnCQTfIbY3NysnQZvb++enp7e3l42gadOnfrLX/5C4zsD3tfXd926dczy/v37RSKRMashMsVPX16+fLl69ervvvvu8ePH7733nkgkYhnY09MzZ86cNWvW7Nmzx9vb+/Lly6QFYldRUfHhhx9GDnP79m1TN+r/B/ss19XVMWXrn//5nyMiIgYHB7G0882bN0lJSd9//z2WtKnRb8dyHBNmfvvtt3v37mWWVSqVlZUVRVFsAhk7duzAdcjM6Ovr27x587Jly+RyuX6BUx3e//mf/xGJRCKRyN/f/8MPP/zwww9v3bo1pYSxTLUlQqHwH//4hx6BYz3+//7f/5PJZOMETvUIF3vgNGC0Wdb6z//8T4FA8ODBA5qmxWKxp6enUqlk38Jvv/12586dk3kmrk1PywR7iD4+Pi9fvmSWW1panJ2dmY/JidLU1LR8+XJbW9vy8nKhUGiclYaGhubm5ubm5tI0nZOTk5OTs2LFCuOsurq6OiMjQ/snTdM2NjZsAtva2pgLcGkDuVwuUYHYMXuIWgTuIWKfZS8vL39//yVLliCEPvjgA7Va3dDQwLaVCP388887d+5kn6MHExTEiIiIe/fuSaVShFBqair7/XbsZDJZWFhYVFRUZmamSS7qZfxDZisrqy+//LKxsREh9Pe//33x4sVeXl5sAjkcTmFhYVdXF0LowYMHnp6eDg4ORAVit2zZstxhjPn/2SRhn+V169b94x//ePToEULov//7v62srNh/jNjV1VVfX798+XKWOfoxwZcqM2fOPHfuXFRU1ODgoJ+f34ULF7DEYiwiZ86caWlpycnJuXbtGpNcWlrq7OyMK39CNTU1RlsXY+HChadOnfqXf/mXoaEhb29v9mdjuLu7r1u37tKlSzRNC4VC9qfIYA+0QNhn2cPDIzc3d+/evX19fXZ2djk5Oex3IOrr6728vEy1+4//gn1mcckg4wSScz1E8rs81mUK9b58IfZA8pnvloI9UO8VwS9VDIWQUmhMFthlQCA270PT/FJl2lMqlTExMR4eHqZuiPEwXXZ1ddXvyqyPHz8e+aBUKmU+NMQYKBAI9AsEZoHlpgcFET/tvW+amppM3RYj0Xb55cuXen+KpHMkK5FIXFxc2NwXBXsgIBz7TQ8OmTEj/yZ82MFN+AAJsLwPoSDiBNUQSyZUQzBVuN6HUBCxgWqIJROqIZgqjO9DKIh4QDXEkgnVEEwV3vchFEQ8LK0aIgN0Gaoh0APe9yEURLaUSiVCyKKqoSG6zPyUE2Pxwh4ISGOI9yEURLays7MRQpZTDZEBukxRlJWVFcbihT0QEMgQmx7+8xB5PB7eaxNwOBzCA3k8HuHVEPuk2NjY3LlzB2OgUqnU74zusVjUWfEM2PTYI+XHtgAAYHJwyAwAABpQEAEAQAMKIgAAaEBBBAAADSiIAACgAQURAAA0oCACAIAGFEQAANCYzgWxubl5nD/BqGCUgCWbtgWxubl5+H3Ndf6ckpcvXxYUFIxcnn7GGaXp3XEAGNP2niqXL18+ePDgyD9v3rzZ29vb1NTk7Oz8l7/8ZdTX6jzHy8uroqKivr5+3rx5w5eN1BMjGj5o4wyCaRsJgAHR01FNTc3FixdH/tnd3R0QEKBQKIaGhpYuXdrS0jLytaM+R6FQxMfHM08Yvqzj119/xd8ZYxk+aBMOAgDT0vQ8ZC4rK3v33XdH/ung4HD16lVbW1sOh6NWq+nRLmwx6nNsbW0HBwf7+vp0lnXU19cbqkuGN3zQJhwEAKal6VkQq6urhx/ZDf/z7bffRgg9fPhwyZIl3t7eo7581Of4+/s/evRo5PK0oTNoEw4CANOPQT5DPHr0aElJSVBQUE9Pz1tvvZWYmMg8EhAQMDAwwOfzT5486eLiovOq69evZ2Rk8Hi84ODgL7/8cmQIQujGjRtpaWlqtTogIOD48ePMC7/99ttnz56pVKrW1tbMzMxZs2YpFIrhl13T+fP69eslJSVff/31OF0Y+Rx3d/fGxsbQ0FCdZUOMBk3TW7du5XA4g4OD0dHRUVFR6enpv/zyi6enJ0LozZs3TPdHPm3UQcvLy7t48SKHw+FyuZ2dndnZ2Q4ODiNHUmeUJhwEAKYhAx2Kr1q16vbt2zRNR0dHd3R00DQdHh5eX19P07RYLD548KDO8xsbGyMjIxUKBU3Thw8fzs/PHxnS3NwcGRnZ09ND0/SBAwdKS0tpmu7u7o6MjGxra6Np+uzZs3K5nKbp7du3Dw/X+ZOm6Z6enjVr1oz6GeJYz7lz505KSsrI5fr6+oSEhMTExISEhI8//phZSExMLC8v13s0aJo+d+4cTdMURa1atUomk9E0fe/evaCgoCdPntA0zXRz1KfprKu3t3fdunVqtbqhoSE2NpaiKJqmRx3Jbdu2TWkQAJh+DPUtM4fDWb58OUKIx+MpFArmQT8/P4RQeHh4amqqzvN///339957j7n47Zo1a27fvr1+/XqEEBNiZ2enUCh+//33zs7Offv20TRNUZRMJkMIOTg4fPPNN2fPnm1sbHR1daVpGiHE5XKHh2v//O23386cOXP58uUZM2a4uroWFRXFxcXptGSs5zB7c8xzhi/7+fl99dVXzPLp06c///xz9qOBEHJ1df3iiy/kcnlfXx9FUU5OTgihlStXMpfFFwqFYz1Nuy5m0Ph8vlKppChKLpcLBAKm2aOOpLX1/70ZJjMIAEw/hiqI9IjvK2iavnXrVmhoaH5+PrNVNzc3e3t7M4dpCxcuPHv27MDAgJ2dXXFx8dKlS0emLVq0yMXFJTk52cHB4dGjRyqVCiH05s2bI0eO/Pzzz/b29rm5ubm5udu3b3dzc6Moyt7ennm59k8Oh8N8b0DT9OvXr+fPn48Qamxs9PHx0R4t6jznnXfeYR6Xy+Vubm4jl3GNxvABKSsry8/PP3nypKOjY2xsrPYlAoFgeMhYTxu+YG9vb2dnt3fvXj6fHx8fz/zTqCM5fNAmMwgATD/cb775BnvokSNHnjx5Ul1dLZPJCgoKqqqq1q5de+nSpba2tp9++qm9vT0+Pp7H4+3YsSMwMHDmzJkIIScnJxcXl8OHD1+9enXu3Lm7du0aGRITE+Pt7X38+PGcnJwnT55s3rzZ3t6+t7dXLBbn5OTk5eU1NDR8+umnDg4Ocrm8v79f+1WAXC6nKGr27Nm+vr4vXrx4/PhxYWHhmjVrmJ3Qjz76aM6cOT4+PsyTR30OQkgsFq9fv37GjBk6y8Pdv39fp5RPfjQQQtoBcXFxKSsru3r1an5+PlPo//jjj/Pnz9fW1paXl3t6es6ePRshNPJpv/zyy4sXL4avKyIi4vz580Kh0NrauqGhwcfHx9nZWSgUenh46Izk8EGbzCAAMA0Z7eA8PDzcaOvq6upKSkoa608darW6oqJiwszDhw+Pujwc89HnZBhtNNLS0i5dukTTtEqlqq6ujomJGeuZ448SY6yOAzA9GO+0G9qId7NydHR0cnJiPhob+aeOwsLCoKCg8QMlEsmKFStGLuvQ7klNyGij0d3d7eDggBDicrkeHh7jrHf8UULjdhyAacI4dffo0aOBgYHMp/jGoVarmT2jUf8crq+vb/wolUqVmpo6cllvxhwNhUJx4sSJjz/++JNPPvn0009ramrGefI4o4Sl4wAQDm5DOrH29nYHBwc7OzudZYtisR0HFgUKIgAAaEzPn+4BAIAeoCACAIAGFEQAANCAgggAABpQEAEAQMNIBfH27ds3btyAQKKQ32XyA8lH/hiSFWiEcx1v3rzp5uY2Z84cjH1GCNnY2JAfaITh1Q9MiiWAWZ4qgxdEZkrKysosMBCRessaMxpD7IHETgp2ZjQp2AP1nmXDvjnMaAQNEUjmtmdeY4g9kMxJwc68JgV7IIkF0bxG0BCBBG57ZjeG2AMJnBTszG5SsAcSVxDNbgQNEUjatmeOY4g9kLRJwc4cJwV7IFkF0RxH0BCBRG17ZjqG2AOJmhTszHRSsAcSVBDNdAQNEUjOtme+Y4g9kJxJwc58JwV7ICkF8f79+3g7bNaBhGx7Zj2G2AMJmRTszHpSsAfqPcuYL//19OnTf/qnfxocHMSYST4bGxulUjnycQ6HiKurwaQMR8ikYAezPJzes4z/zYH9DWe+geRse+Y7htgDyZkU7Mx3UrAH6r0i+C0zAABoQEEEAAANKIgAAKABBREAADSgIAIAgAYURAAA0DBZQdy5c2dSUpJFBRIuPz9/8eLFCxYsiI2N7e3txZKJdwwzMjKCgoKCg4NDQ0MrKytxxVoawifl9OnTixYtCgwMjIyM7OjoYB84Nfqdzz2OCTNramrCw8MFAkFiYuL0DjTE8Opnwpa0t7e7u7tLpVKapg8dOrRv3z6Wgdgn5dmzZ15eXm1tbTRNFxQU+Pj46BdIzqRgZ76TolVZWTlnzpyenh6apg8cOLBnzx79AvWeZWtjF2CEkpOT4+LifH19LSeQfMXFxUuXLp07dy5CaO/evYsXL05OTmYTiH0MeTxeWlqau7s7QigkJKStrU2lUllbm+ANbL7In5Tg4ODnz59zudyBgYHW1lbmDWlMJng/nTp1CiGE8S4K5AeSr7m5efbs2cyyt7d3T09Pb2/vjBkz9A7EPoa+vr7aLXn//v0ikQiq4VSZxaRwuVyxWLxr1y47O7sTJ06wbuPUwJcqACGEhoaGdB7hcrkmacn4KIqKjo5uaGg4e/asqdsCNLBPikgkam9vj4+Pj4iIwBI4eVAQAUII+fj4vHz5klluaWlxdnbm8/mmbdJITU1Ny5cvt7W1LS8vFwqFpm4OQAj3pEil0tu3bzPLcXFxjY2NMpmMdRunAAoiQAihiIiIe/fuSaVShFBqaqpIJDJ1i3TJZLKwsLCoqKjMzExbW1tTNwcgZIBJefXq1ZYtWzo7OxFCGRkZAQEBzs7O7GMnz2SfwnA4HEsLJNnMmTPPnTsXFRU1ODjo5+d34cIFLLEYx/DMmTMtLS05OTnXrl1jkktLS428tUwPJE9KaGjo0aNHw8LCbGxsvLy8cnNzcTV1kuDyXwYMJOdKU+Y7htgDyZkU7Mx3UrAHwuW/AACALSiIhqL9bJhYAwMDFEVZVODNmzcxpgEysdn04EwugygrK4uJibGxsTF1Q8bU399/8+bNwcFBJycn/RLKy8uH/6lQKKqqqhwcHBYtWkRm4P379//93/995syZ+qUBs8B209PvBy7jwJ5pdoHaO4EZYnj1o9MSiqKuX7/e39+v9x1/zC7w119/FQqFRUVFGG9yRBqz21KwB7Lf9OCQGTPmP6grV668//77pm7L6Jh9w9WrV9vZ2VlIYGFhYWxs7JUrV4x/oi8wGiybHhREnKAaEhgI1dAS4Nr0oCBiA9WQwECohpYA46YHBREPqIYEBkI1tAR4Nz0oiHgQXg0RQnhrjVkEQjW0BHg3PSiIbD148AAhRHI1VCqVCCGMtYb8wDt37iCEoBpOb4bY9PD/jMnKygp7JvlG7TIhvxJTqVR8Pl+lUpm6IUbF5XJH7XJ5eTmx/3WxBJueFkE/3WN1WtFosGcaIpBk1tbWJSUlo7Zc75PyxnohOYEWdX1fhn4DNQ7smYYIxAsOmQEAQAMKIgAAaEBBBAAADSiIAACgAQURAAA0oCACAIAGFEQAANAwWUHcuXNnUlKSRQUSrq6uLiUlJTk5OTs7m/npCHtisbiiogJLFEJIIpGkpKSkpqb+8MMP2pumgqnC+8bOyMgICgoKDg4ODQ2trKxkH3j69OlFixYFBgZGRkZ2dHSwD5wSExTE2tra1atXX7lyxXICp8rf39/Ia6QoKi8vLzY29rPPPnNyciopKWEZ2NHRceHChadPn2JpHkLozZs3N27c2Lp16+7du1euXJmVlYUr2XJgf2PX1dUdOnSouLi4qqrqyJEjmzZtYhlYVVWVlJR09+5diUQyb968Y8eOYWnn5JngFgLJyclxcXG+vr6WEzhVxr8DqlQqnTVrFnMDySVLlqSkpGzYsIFN4P3794OCghwdHTE1EHG53I0bNwoEAoSQl5dXb2/v0NCQlRVBn/lUVFScPHly+NwdOHBgxYoVJmySDuxvbB6Pl5aW5u7ujhAKCQlpa2tTqVTW1vpXleDg4OfPn3O53IGBgdbW1rlz5+Jq6iSZoCCeOnUKIYTxl1XkB07SrVu3EhISmOXIyEhkxC1KLpcLhUJmWSgUKpVKpVLJ5tbj69evRwi9ePECT/sQcnJy0t7+paioyN/fn6hqiBBatmyZ8e8jPCXY39i+vr7a8rp//36RSMSmGjK4XK5YLN61a5ednd2JEydYt3Fq4CZTBAkNDQ0NDUUI+fv75+TkGHPVI38Wavy91MkYHBzMzc3t7u7+5JNPTN0WXcweovZPDodD2h6igVAUtX379tbW1sLCQiyBIpFIJBKlpaVFRERIpVIsmZMEBZFExi9Gjo6Ora2tzHJ3d7ednR2BtwyUy+WXLl1yd3ffsWMHl8s1dXN0kb+HaAhNTU0ffPDBwoULy8vL2RxSMKRS6evXr5n/ReLi4vbs2SOTyZhPcoyDrIMOwKipqTHyGv38/FpbWzs7OxFClZWV8+fPN3IDJtTf3//jjz8uWLBg06ZNBFZDyySTycLCwqKiojIzM9lXQ4TQq1evtmzZwrwPMzIyAgICjFkNkQn3ELHvBJEfSDKBQCASibKysoaGhpydnZlPMIny8OHD7u7u2tra2tpa5pFt27bx+XzTtsocYXxjnzlzpqWlJScn59q1a0xyaWkpmxIWGhp69OjRsLAwGxsbLy8vE+xx4708GW0m11AzTqAhhlc/5F++kPxA8pnvloI9UO8VwSGzody+fdvUTZjAwMDAwMAABIJphs2mB1+qGARzJzACv5fQYm5x9+LFi/Lycj1e/vjxY51HFApFVVVVX1+ffvdFMVqgg4ODHmnAXLDd9Fjsro4Oe6bZBd68edPNza2srMwQw6sfneNEiqKuX7/e39+P64DUEgLJZ3ZbCvZA9pseHDJjBjdotoRAQCAsmx4URJygGlpCICAQrk0PCiI2UA0tIRAQCOOmBwURD6iGlhAICIR304OCiAfh1VChUOAtDRYYCMiEd9ODgsjWgwcPEEIkV0OlUllVVYWxNFhgICCQITY9/Ochcjgc8n9Fhz2Q2GqIELKyshIKhXfv3h35TyNP1psMtVpNURThgUKh0NKqIWx67OEviNrzg3DhcDjkB2JMw87a2nrhwoVjvW/0ez9xuVzyA/V4lVmDTY89OGQGAAANKIgAAKABBREAADSgIAIAgAYURAAA0ICCCAAAGiYriDt37kxKSrKoQMLV1dWlpKQkJydnZ2crlUosmWKxuKKiAksUQkgikaSkpKSmpv7www8vX77EFWtp8L6xMzIygoKCgoODQ0NDKysr2QeePn160aJFgYGBkZGRHR0d7AOnxAQFsba2dvXq1VeuXLGcQPJRFJWXlxcbG/vZZ585OTmVlJSwDOzo6Lhw4cLTp0+xNA8h9ObNmxs3bmzdunX37t0rV67MysrClWw5sL+x6+rqDh06VFxcXFVVdeTIkU2bNrEMrKqqSqVXjTkAABuBSURBVEpKunv3rkQimTdv3rFjx7C0c/JMcMXs5OTkuLg47f2tLSGQfFKpdNasWcztgZYsWZKSkrJhwwY2gffv3w8KCnJ0dMTUQMTlcjdu3CgQCBBCXl5evb29Q0NDpN2rnnDY39g8Hi8tLc3d3R0hFBIS0tbWplKp2NyrPjg4+Pnz51wud2BgoLW1de7cubiaOkkmKIinTp1CCN24ccNyAsknl8uFQiGzLBQKlUqlUqlkc2PJ9evXI4RevHiBp30IOTk5OTk5MctFRUX+/v5QDacK+xvb19dXW173798vEonYVEMGl8sVi8W7du2ys7M7ceIE6zZODbylAEIIjfxBFZm/RxwcHLxy5YpMJtu4caOp2wI0KIqKjo5uaGg4e/YslkCRSNTe3h4fHx8REYElcPKgIAKEEHJ0dOzp6WGWu7u77ezsCLxDllwuT09P53K5O3bs4PF4pm4OQAihpqam5cuX29ralpeXaw8y9CaVSrX3zIuLi2tsbJTJZKzbOAVQEAFCCPn5+bW2tnZ2diKEKisr58+fb+oW6erv7//xxx8XLFiwadMmC7xwA5lkMllYWFhUVFRmZiabD1i0Xr16tWXLFuZ9mJGRERAQwOa293ow2W1Iyb+sEJnHjAYiEAhEIlFWVtbQ0JCzs3NkZKSpW6Tr4cOH3d3dtbW1tbW1zCPbtm3j8/mmbZU5wvjGPnPmTEtLS05OzrVr15jk0tJSNiUsNDT06NGjYWFhNjY2Xl5eubm5uJo6WXre/m9s2DPNN9AQw6ufse69iesmn5YQSD7z3VKwB+q9IjhkBgAADSiIhqL9bJhYAwMDAwMDEAimGTabnsk+Q5zemDuBzZkzx9QNGRNzR7rBwcHy8nI9Xj7yyv4KhaKqqsrBwYHwwAULFuiRBswF202PxfH76LBnml3gzZs33dzciPqsSqcxFEVdv369v78fAqcTs9tSsAey3/TgkBkzuEGzJQQCAmHZ9KAg4gTV0BICAYFwbXpQELGBamgJgYBAGDc9KIh4QDW0hEBAILybHubbpCIzuZcr9kA3NzeSq2FRUZFKpcJYGiwwkHxmsaUQvunBHiJbDx48QAiRXA2VSmVVVRXG0mCBgYBAhtj08O8h2tnZKRQKjIHk/zdlY2OD65r7hqBSqfLz8zFeq1WtVtfW1i5cuJDkwN7eXpFIhCvQLMCmxx7+gggAAGYKDpkBAEADCiIAAGhAQQQAAA0oiAAAoAEFEQAANKAgAgCABhREAADQgIIIAAAaUBABAEDD0gtic3OzqZvAik77zb07RgMDBUZl0QWxublZIpGM+k8vX74sKCgwcnumSqf943RnQjr9NYvu622sgZrevQaTYdEF8fLlyxs2bGCWb968mZeXd/r06czMTISQl5dXf39/fX29SRs4geHtR+N2Z1S1tbUnT55klnX6axbd15t2oMxx0oFh6X03FnNXU1Nz8eJFZrm7uzsgIEChUAwNDS1durSlpYWmaYVCER8fb9I2jmd4++lJdEfHDz/88Nlnn/3bv/2b9hGd/o7T/V9//RVPH0xBO1DmOOnA0Cx3D7GsrOzdd99llh0cHK5evWpra8vhcNRqNU3TCCFbW9vBwcG+vj5cazx69OjSpUtxpQ1vP5pEd3Ts3Llz9erVwx/R6e843TfrfSjtQBln0oF5sdyCWF1dPW/ePO2fb7/9NkLo4cOHS5Ys8fb2Zh709/d/9OgRrjX+x3/8h4ODA640nfZPpjsT0ukv3u4TYvhAGWHSgXkxyI3qjx49WlJSEhQU1NPT89ZbbyUmJjKPBAQEDAwM8Pn8kydPuri4DH8JTdNbt27lcDiDg4PR0dFRUVHp6em//PKLp6cnQujNmzcBAQHHjh3TPmfz5s2bN28edV0Ioby8vIsXL3I4HC6X29nZmZ2dfffu3fT0dLVaHRAQcPz4cYSQQqHgcDjD23D9+vWSkpKvv/5a+4i7u3tjY2NoaOjwp41sGBN448aNtLS04av49ttvnz17plKpWltbMzMzZ82aRdP0l19+2dHR4enpyTR1ZMdHHauR4Trtn0x3JqTT31G7PxazmPSRAzXJSQeWwkCH4qtWrbp9+zZN09HR0R0dHTRNh4eH19fX0zQtFosPHjw48iXnzp2jaZqiqFWrVslkMpqm7927FxQU9OTJE5qm5XL5qM8Zua7e3t5169ap1eqGhobY2FiKopqbmyMjI3t6emiaPnDgQGlpKU3T27ZtG9mGnp6eNWvWaD90u3PnTkpKysinjWzYyFV0d3dHRka2tbXRNH327FnmaSOHZdRO6YzVZNq/ffv2Cbuj49q1a8M/QxzZ3+F/1tfXJyQkJCYmJiQkfPzxx8xCYmJieXm59vnkT/qoAzXJSQeWwCB7iAghDoezfPlyhBCPx9Ne1tzPzw8hFB4enpqaOvIlrq6uX3zxhVwu7+vroyjKyckJIbRy5crAwECEkFAoHOs52nUxl1Dn8/lKpZKiKLlcLhAI+Hz+77//3tnZuW/fPpqmKYqSyWQIIWvr/+v7b7/9dubMmcuXL8+YMcPV1bWoqCguLg4hxOzajNpBnYaNXIWDg8M333xz9uzZxsZGV1dXmqZHNnWcjmvHKiUl5enTp+O3HyHE5XIn7M6EdPo7/E8/P7+vvvqKWT59+vTnn38+8uXkT/rwgdJj0sG0Z6iCSI/4IJ+m6Vu3boWGhubn5zNv9+bmZm9vb+b4paysLD8//+TJk46OjrGxsdqXCAQCbYLOc7Sr0Fmwt7e3s7Pbu3cvn8+Pj49HCC1atMjFxSU5OdnBweHRo0cqlQoh5ObmRlGUvb09QojD4TAftNM0/fr163feeYcJlMvlbm5uzPLw1uo0bNRVvHnz5siRIz///LO9vX1ubm5ubi6zb6LT5rE6rh2rxYsXT9j+8bszf/58hFBjY6OPj4/OYbWO4f0d+eeEyJ/04QM1mUkHlob7zTffYA89cuTIkydPqqurZTJZQUFBVVXV2rVrL1261NbW9tNPP7W3t8fHx/N4vB07dgQGBs6cORMh5OLiUlZWdvXq1fz8fKaC/PHHH+fPn6+trS0vL/f09Jw9e7b2OQUFBXw+XywWBwcHJyYm6qwrIiLi/PnzQqHQ2tq6oaHBx8fH19fXw8Pj+PHjOTk5T5482bx5s729vVwu7+/vZz5K9/X1ffHixePHjwsLC9esWbN+/XqmI2KxeP369TNmzEAIaVubnp6enp4+vGEIIaFQqLOKoaEhsVick5OTl5fX0NDw6aeffvfddzpN/fOf/+zh4TG8U7m5ucHBwb/88svwsZo5c+b47UcITdidjz76aM6cOT4+PszzMzIy8vLyamtre3p6/vSnP9na2ur0d+SfWvfv3x/5dblZTDozUBRFzZ49ezKTDiyO0Q7Ow8PDjbOitLS0S5cu0TStUqmqq6tjYmJGfVpXV1dSUtL4UYcPH8bfvkmYzFjptH/C7qjV6oqKivEzdfo7Vvfz8/MnbB6DtEmnJzFQppp0QALjnXZDG+v2ft3d3czZLVwu18PDY6z1Ojo6Ojk5aT9aGkkikaxYscJQrRzXZMZKp/0TdqewsDAoKGicQJ3+jtN97c7UhEibdDTRQJlw0gERjFN3jx49GhgYyHzCbWgKheLEiRMff/zxJ5988umnn9bU1Iz1TLVazexWjKRSqVJTUw3WxvFMfqx02j9Od2ia7uvrGydKp79Yuk/mpNNjD5QJJx0QAu7LPLr29nYHBwc7OztTN8RIdPprad1nWGavwXBQEAEAQMNyf7oHAAA6oCACAIAGFEQAANCAgggAABpGKog0TWt/O0VmoAUif1LIDyQf+WNIVKChfss8nFKpjImJuXv3bltbG8ZYKyur0tJSXGlSqbSrqyskJARjoEAg2LJlC65AvAw0KVwuV61WEx5oOTURZnmqDF4QlUpldHQ0h8NpampifjCLK1AsFr///vvsAxFCEonExcWls7MTeyCWNOwMNylZWVmEB4rFYvZpZgFmWQ+GPWQ26AiyT2MwN2BjrsVCZiBeZvS2JvltQzjzmhRyZtmABZH8EURQDSFwOiJ/DIkNNFRBJLbDw0E1hMDph/wxJDnQIAWR5A5rQTWEwOmH/DEkPBB/QSS8wwyohhA4/ZA/huQHYi6I5HcYQTWEwOmI/DEkPxBhL4jZ2dk8Hg9j+7AHUhRlZWWFsXhhD8SO/EkhP5B85I8h+YHIEJf/Gn4/OSxsbGyKi4tHPr5q1aqysjI9Ap89e8bcd0nH48ePx7+m9Fgoihr1ItLl5eW4TmxkCfukcDiY3znYA3k83sDAgBFWRA6YZfYrwn9itkKhwD6IY5UVvcsN3sDy8nL9mmE0hpgU8gMxppkFmGX24OIOAACgAQURAAA0oCACAIAGFEQAANCAgggAABpQEAEAQMM0BTE/P3/x4sULFiyIjY3t7e1lH1hXV5eSkpKcnJydna1UKgkMJB/2SUEI7dy5MykpCUsUQigjIyMoKCg4ODg0NLSyshJXrEWBWZ4A5hvf0/SEme3t7e7u7lKplKbpQ4cO7du3T79A7eN9fX1//etfOzs7aZouKSm5fv36+IFlZWXjP4490OSMNilaNTU14eHhAoEgMTERSwufPXvm5eXV1tZG03RBQYGPj49+gYZ4zxMCZnnyKxqLCfYQi4uLly5dOnfuXITQ3r17MzMzWQZKpdJZs2Y5OzsjhJYsWVJdXU1aIPmwT0pycnJcXFxMTAyO1iGEEI/HS0tLc3d3RwiFhIS0tbVZzp0AcIFZnpAx7qmio7m5efbs2cyyt7d3T09Pb2/vjBkz9A6Uy+VCoZBZFgqFSqVSqVSy+Xkj9kDyYZ+UU6dOIYRu3LiBp30I+fr6+vr6Msv79+8XiUTW1iZ495o1mOUJmeAtNTQ0pPMIl8tlE0iP+DEQyx/0YA8kH/ZJMRCKorZv397a2lpYWGjqtpgfmOUJmeCQ2cfH5+XLl8xyS0uLs7Mzn89nE+jo6NjT08Msd3d329nZ2djYEBVIPuyTYghNTU3Lly+3tbUtLy/X7sKDyYNZnpAJCmJERMS9e/ekUilCKDU1VSQSsQz08/NrbW1lbnFXWVk56pVsTBtIPuyTgp1MJgsLC4uKisrMzJzeH18YDszyhExwyDxz5sxz585FRUUNDg76+flduHCBZaBAIBCJRFlZWUNDQ87OzpGRkaQFkg/7pDAwftRw5syZlpaWnJyca9euMcmlpaXMF19gkmCWJ4T/2nBGu2SQ3isa6zKFel++EHsgdmZxHSfC3zbkM99JwR6o94rM9Zcq0/U9DQwK3jaWgM0sm+WJC0qlMiYmxsrKSr8rsz5+/Hjkg1KptK6uTr/2jBXY1dVFyB7iqCQSyf/+7/96enrq9/KRg890OSQkhMzAwcHBgwcPwrcx0xtTHPT+9tz8CqL2zjJDQ0O4rpgtkUhcXFz8/PzwBjJfy5CJuTGWp6cn9i6TGahUKiMiIpydnf/617/qlwbIpy0OarVavwQzO2Qefp8tXJmWdhM+ZA5dxhvIVEMOh1NUVDTtz6CyWFiKgzkVRLglKRbkd9lw1RDO15mucBUHsymIUA2xIL/LUA3BVGEsDuZREKEaYkF+l6EagqnCWxzMoyBCNWSP/C5jD4RqaAnwFgfSCyJzcVa81ZD56RLGDQ97oIFgbyGxgdq3DVTDacwQxYH0gpidnY0QwthhiqKsrKwwbsnYA7GjKAphLV7kBzJX+oNqOL1hLw7IEOchcjgc7BfLunPnzqiP63didlNT06gvHPX86skg/B4D9vb2NjY22CeF8EAbGxtLq4aG2PQID+RwOHhnGX9B1F7CGxcOhzPWqbm4zgFmH0i44uJiwn++bYhAPV5l1gyx6ZEfiDENkX/IDAAARgMFEQAANKAgAgCABhREAADQgIIIAAAaUBABAEDDZAVx586dSUlJGAPFYnFFRQXJgYSrq6tLSUlJTk7Ozs7GdWYl3jGUSCQpKSmpqak//PCD9u5xYKrwbnoZGRlBQUHBwcGhoaGVlZXsA0+fPr1o0aLAwMDIyMiOjg72gVNigoJYW1u7evXqK1eu4Ars6Oi4cOHC06dPiQ0kH0VReXl5sbGxn332mZOTU0lJCctA7GP45s2bGzdubN26dffu3StXrsR4QUzLgX3Tq6urO3ToUHFxcVVV1ZEjRzZt2sQysKqqKikp6e7duxKJZN68eceOHcPSzskzwRWzk5OT4+LifH19cQXev38/KCjI0dGR2MCp8vf3r62tNeYapVLprFmzmNubLVmyJCUlZcOGDWwCsY8hl8vduHGjQCBACHl5efX29g4NDVlZwWc+U4B90+PxeGlpae7u7gihkJCQtrY2lUplba1/VQkODn7+/DmXyx0YGGhtbZ07dy6upk6SCQriqVOnEEI3btzAFbh+/XqE0IsXL4gNnCrs599PSC6Xa282IhQKlUqlUqlk86Mo7GPo5OTk5OTELBcVFfn7+5NWDSsqKk6ePDl87g4cOLBixQoTNkkH9k3P19dXW173798vEonYVEMGl8sVi8W7du2ys7M7ceIE6zZOjfndU2Uau3XrVkJCArPM3AzaaFvUyB9UGb8oT8bg4GBubm53d/cnn3xi6rboWrZsWW5urqlbYQIURW3fvr21tbWwsBBLoEgkEolEaWlpERERzKWkjAYKIkFCQ0NDQ0MRQv7+/jk5OcZctaOjY2trK7Pc3d1tZ2dH4L1H5HL5pUuX3N3dd+zYofdt1QyH2UPU/snhcEjbQzSEpqamDz74YOHCheXl5eyvsyCVSl+/fs0MWlxc3J49e2QymTFvVA8FkUTG3zvz8/MrKSnp7Ox0cXGprKycP3++kRswof7+/h9//DEoKCgsLMzUbRmdBe4hymSysLCwuLg4XN9+vHr16qOPPnry5ImLi0tGRkZAQIAxqyEyYUEk84iMEDU1NUZeo0AgEIlEWVlZQ0NDzs7OzAE7UR4+fNjd3V1bW6v9umnbtm18Pt+0rTJHGDe9M2fOtLS05OTkXLt2jUkuLS1lU8JCQ0OPHj0aFhZmY2Pj5eVl/P9gTFYQf/jhB7yBIpGI8EDCzZs3b968eXgzMY7hypUrV65ciSvNkmHc9A4fPnz48GFcaYzdu3fv3r0bb+bkkfU93eThvaoaAGDaYFMczPIzRKVSGRMTY2Vlpd9FQEe9MrZUKq2rq9OvPWMFdnV1kXzFWYlEovdPC4w2hpY2KYAlpjjo/Z2b+RVE7V0Hh4aGcF0xWyKRuLi4+Pn54Q3s7OzUL80ImFvchYSEED6GFjUpgCVtcVCr1folmNkh8/B7sOLKJP92mtiR32XyAwFpsBQHcyqIcLt6LMjvMvmBgDS4ioPZFESohliQ32XyAwFpMBYH8yiIUA2xIL/L5AcC0uAtDuZREKEaskd+l8kPBATCWxxIL4jMlUrxVkPm5+IYtxPsgdiR32XyAwFpDFEcSC+I2dnZCCGMHaYoysrKCuN2gj0QO/K7TH4gIBD24oAMcR4ih8PB/jvlO3fujPq4fidmNzU1jfrCUU/lnQxcF9w3EHt7e6VSibfL2MfQ0ibFEAyx6REeyOFwMFZDZIiCSNM03t/VcTicsU7NxXXKLvtAws2fP5/8MbS0ScHOEJse+YEY0xD5h8wAAGA0UBABAEADCiIAAGhAQQQAAA0oiAAAoAEFEQAANExzPcSMjIyEhAQrKyt7e/vvv/8+JCSEZaBEIrlz5w6Hw7Gxsfnzn//s5eVFWiD56urqbt68qVarPTw8PvjgAyynd4nFYnd392XLlrGPQhY5Kdhh3/ROnz6dkpJiZWXl5+d39uxZNzc39o3Mzc3dvn27XC5nHzVVJthDrKurO3ToUHFxcVVV1ZEjRzZt2sQy8M2bNzdu3Ni6devu3btXrlzJ/lKJ2APJR1FUXl5ebGzsZ5995uTkVFJSwjKwo6PjwoULT58+xdI8ZJGTgh32Ta+qqiopKenu3bsSiWTevHlY7r33/PnzgwcPmuoeISYoiDweLy0tzd3dHSEUEhLS1tamUqnYBHK53I0bNwoEAoSQl5dXb2/v0NAQUYHkk0qls2bNYu6XtmTJkurqapaB9+/fDwoKWrhwIY7WIWSRk4Id9k0vODj4+fPnM2bMGBgYaG1tdXV1ZdlCiqK2bt36t7/9jWWO3kxwyOzr6+vr68ss79+/XyQSWVuzaoaTk5OTkxOzXFRU5O/vb2XFqtBjDySfXC4XCoXMslAoVCqVSqWSzVHz+vXrEUIvXrzA0z6LnBTssG96CCEulysWi3ft2mVnZ3fixAmWaXv27Nm7d29AQADLHL2Z7C1FUVR0dHRDQ8PZs2exBA4ODl65ckUmk23cuJHMQJKNPEIh88bZFjUpBoJ90xOJRO3t7fHx8REREWxy/v73v9vY2Gzfvt2E99Q0TUFsampavny5ra1teXm5dseEDblcnp6ezuVyd+zYwePxCAwknKOjY09PD7Pc3d1tZ2dnY2Nj2iaNZGmTYgh4Nz2pVHr79m1mOS4urrGxUSaT6Z12/vz5Bw8eBAcHb9iwgaKo4ODg169fs2zhVJmgIMpksrCwsKioqMzMTCxfZfb39//4448LFizYtGmT3rcfNGgg+fz8/FpbW5k70lVWVs6fP9/ULdJlgZOCHfZN79WrV1u2bGHeNhkZGQEBAczH0Pq5d++eRCKpqqoqKCjg8/lVVVWenp7sGzklJvgM8cyZMy0tLTk5OdeuXUMIcTic0tJSNuP48OHD7u7u2tra2tpa5pFt27bx+XxyAsknEAhEIlFWVtbQ0JCzs3NkZKSpW6TLAicFO+ybXmho6NGjR8PCwmxsbLy8vHJzc3E11WSf2NC4Yc8cK1DvFZWVlU3pceMHYkd+l8kPJJ/RNj3yA/Vekbl+T0eb7mNXAADJ2BQH0/xShSWlUhkTE+Pq6qrfFbNHvQizVCrt6urSrz1jBTInzRFLIpG8fv2a8DG0tEkBLDHFwcPDQ7+Xm19B1N518OXLl3p/MKxzEWaJROLi4sLmFhzYAw2NuSPdli1b9E4gfwzNblIAS9ri0NTUpF+CmR0yww2asSC/y+QHAtJgKQ7mVBChGmJBfpfJDwSkwVUczKYgQjXEgvwukx8ISIOxOJhHQYRqiAX5XSY/EJAGb3Ewj4II1ZA98rtMfiAgEN7iQHpBZG43jrcaSqVShHU7wR6IHfldJj8QkMYQxYH0gpidnY0QwthhiqKsrKwwbifYA7Ejv8vkBwICYS8OyBDnIfJ4PLy/Q7Sxsblz5w7GQKVSqd/ZyGPR+yxQ47C3t/fw8MDbZexjaGmTYgjYNz0Oh0N4II/Hw1gNEUIc+A0cAAAwSD9kBgAAo4GCCAAAGlAQAQBAAwoiAABoQEEEAAANKIgAAKABBREAADSgIAIAgAYURAAA0ICCCAAAGlAQAQBA4/8D2DpwhK+AOpMAAAAASUVORK5CYII=)"
      ],
      "metadata": {
        "id": "rcGSflRecP2z"
      }
    },
    {
      "cell_type": "code",
      "metadata": {
        "id": "IGU-HRgr20nj",
        "colab": {
          "base_uri": "https://localhost:8080/"
        },
        "outputId": "d470d02a-f56e-4b18-b8e6-6cb314d5f8f4"
      },
      "source": [
        "a1 = np.array([1,2,3])\n",
        "print(a1)\n",
        "print(a1+5)"
      ],
      "execution_count": 59,
      "outputs": [
        {
          "output_type": "stream",
          "name": "stdout",
          "text": [
            "[1 2 3]\n",
            "[6 7 8]\n"
          ]
        }
      ]
    },
    {
      "cell_type": "code",
      "metadata": {
        "id": "IAzsmIAn1HNt",
        "colab": {
          "base_uri": "https://localhost:8080/"
        },
        "outputId": "12b6e999-f273-4fea-9f59-c0855fd099d8"
      },
      "source": [
        "a2=np.arange(1,10).reshape(3,3)  \n",
        "print(a2)\n",
        "print(a1+a2)   # 서로 shpae이 다르지만 브로드캐스팅이 됌"
      ],
      "execution_count": 60,
      "outputs": [
        {
          "output_type": "stream",
          "name": "stdout",
          "text": [
            "[[1 2 3]\n",
            " [4 5 6]\n",
            " [7 8 9]]\n",
            "[[ 2  4  6]\n",
            " [ 5  7  9]\n",
            " [ 8 10 12]]\n"
          ]
        }
      ]
    },
    {
      "cell_type": "code",
      "source": [
        "b2=np.array([1,2,3]).reshape(3,1)  \n",
        "print(a1)\n",
        "print(b2)\n",
        "print(a1+b2)   # 서로 shpae이 다르지만 브로드캐스팅이 됌"
      ],
      "metadata": {
        "colab": {
          "base_uri": "https://localhost:8080/"
        },
        "id": "6FOTXqSAc58f",
        "outputId": "a42a937d-bca4-4160-c0e1-fa26736b4e38"
      },
      "execution_count": 62,
      "outputs": [
        {
          "output_type": "stream",
          "name": "stdout",
          "text": [
            "[1 2 3]\n",
            "[[1]\n",
            " [2]\n",
            " [3]]\n",
            "[[2 3 4]\n",
            " [3 4 5]\n",
            " [4 5 6]]\n"
          ]
        }
      ]
    },
    {
      "cell_type": "markdown",
      "metadata": {
        "id": "NZzLHHLmwl_b"
      },
      "source": [
        "### 산술 연산(Arithmetic Operators)"
      ]
    },
    {
      "cell_type": "markdown",
      "source": [
        "![image.png](data:image/png;base64,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)"
      ],
      "metadata": {
        "id": "J0FfZ05Cdagn"
      }
    },
    {
      "cell_type": "code",
      "metadata": {
        "id": "jHrIjHGEi05k",
        "colab": {
          "base_uri": "https://localhost:8080/"
        },
        "outputId": "eb608fd0-fa0a-4ca3-ef31-66f68651abec"
      },
      "source": [
        "a1 = np.arange(1,10)\n",
        "print(a1)\n",
        "print(a1+1)\n",
        "print(np.add(a1,10))\n"
      ],
      "execution_count": 65,
      "outputs": [
        {
          "output_type": "stream",
          "name": "stdout",
          "text": [
            "[1 2 3 4 5 6 7 8 9]\n",
            "[ 2  3  4  5  6  7  8  9 10]\n",
            "[11 12 13 14 15 16 17 18 19]\n"
          ]
        }
      ]
    },
    {
      "cell_type": "code",
      "metadata": {
        "id": "sMUYzXk3psgC",
        "colab": {
          "base_uri": "https://localhost:8080/"
        },
        "outputId": "9d06d4eb-8cfb-4f43-8b6c-1e9f935e2bc7"
      },
      "source": [
        "print(a1-2)\n",
        "print(np.subtract(a1,2))\n",
        "print(-a1)\n",
        "print(np.negative(a1))\n",
        "print(a1*2)\n",
        "print(np.multiply(a1,2))"
      ],
      "execution_count": 71,
      "outputs": [
        {
          "output_type": "stream",
          "name": "stdout",
          "text": [
            "[-1  0  1  2  3  4  5  6  7]\n",
            "[-1  0  1  2  3  4  5  6  7]\n",
            "[-1 -2 -3 -4 -5 -6 -7 -8 -9]\n",
            "[-1 -2 -3 -4 -5 -6 -7 -8 -9]\n",
            "[ 2  4  6  8 10 12 14 16 18]\n",
            "[ 2  4  6  8 10 12 14 16 18]\n"
          ]
        }
      ]
    },
    {
      "cell_type": "code",
      "source": [
        "print(a1/2)\n",
        "print(np.divide(a1, 2))\n",
        "\n",
        "print(a1//2)\n",
        "print(np.floor_divide(a1,2)) # 내림\n",
        "\n",
        "print(a1**2)\n",
        "print(np.power(a1,2))\n",
        "\n",
        "print(a1%2)\n",
        "print(np.mod(a1,2))"
      ],
      "metadata": {
        "colab": {
          "base_uri": "https://localhost:8080/"
        },
        "id": "fZB0eI8-d1DD",
        "outputId": "dee920f7-7e50-402d-c7ef-4cd27e2be1d4"
      },
      "execution_count": 73,
      "outputs": [
        {
          "output_type": "stream",
          "name": "stdout",
          "text": [
            "[0.5 1.  1.5 2.  2.5 3.  3.5 4.  4.5]\n",
            "[0.5 1.  1.5 2.  2.5 3.  3.5 4.  4.5]\n",
            "[0 1 1 2 2 3 3 4 4]\n",
            "[0 1 1 2 2 3 3 4 4]\n",
            "[ 1  4  9 16 25 36 49 64 81]\n",
            "[ 1  4  9 16 25 36 49 64 81]\n",
            "[1 0 1 0 1 0 1 0 1]\n",
            "[1 0 1 0 1 0 1 0 1]\n"
          ]
        }
      ]
    },
    {
      "cell_type": "code",
      "source": [
        "# 배열과 배열간의 계산도 모두 가능\n",
        "\n",
        "a1 = np.arange(1, 10)\n",
        "print(a1)\n",
        "b1 = np.random.randint(1, 10, size=9)\n",
        "print(b1)\n",
        "\n",
        "print(a1*b1)"
      ],
      "metadata": {
        "colab": {
          "base_uri": "https://localhost:8080/"
        },
        "id": "FoAlGg9sd1Fs",
        "outputId": "5fc20dae-664d-44eb-aebf-b207a485756b"
      },
      "execution_count": 74,
      "outputs": [
        {
          "output_type": "stream",
          "name": "stdout",
          "text": [
            "[1 2 3 4 5 6 7 8 9]\n",
            "[5 1 1 7 9 6 5 9 3]\n",
            "[ 5  2  3 28 45 36 35 72 27]\n"
          ]
        }
      ]
    },
    {
      "cell_type": "code",
      "source": [
        "# 2차원도 모두 가능\n",
        "a2 = np.arange(1,10).reshape(3,3)\n",
        "print(a2)\n",
        "b2 = np.random.randint(1,10,size=(3,3))\n",
        "print(b2)\n",
        "\n",
        "print(a2*b2)\n"
      ],
      "metadata": {
        "colab": {
          "base_uri": "https://localhost:8080/"
        },
        "id": "yxa66_UkenXo",
        "outputId": "2c94bb3a-b960-4c76-cb25-e875b3868433"
      },
      "execution_count": 76,
      "outputs": [
        {
          "output_type": "stream",
          "name": "stdout",
          "text": [
            "[[1 2 3]\n",
            " [4 5 6]\n",
            " [7 8 9]]\n",
            "[[3 6 8]\n",
            " [8 8 2]\n",
            " [4 1 5]]\n",
            "[[ 3 12 24]\n",
            " [32 40 12]\n",
            " [28  8 45]]\n"
          ]
        }
      ]
    },
    {
      "cell_type": "markdown",
      "metadata": {
        "id": "hxG_aECas3a9"
      },
      "source": [
        "#### 절대값 함수(Absolute Function)\n",
        "\n",
        "* `absolute()`, `abs()`: 내장된 절대값 함수"
      ]
    },
    {
      "cell_type": "code",
      "metadata": {
        "id": "YmX-0LvWs7qM",
        "colab": {
          "base_uri": "https://localhost:8080/"
        },
        "outputId": "7c8c8062-240e-4ab2-9f1a-343df5216e08"
      },
      "source": [
        "a1 = np.random.randint(-10, 20, size=5)\n",
        "print(a1)\n",
        "print(np.absolute(a1))\n",
        "print(np.abs(a1))"
      ],
      "execution_count": 77,
      "outputs": [
        {
          "output_type": "stream",
          "name": "stdout",
          "text": [
            "[-8 -3  0 -6 -1]\n",
            "[8 3 0 6 1]\n",
            "[8 3 0 6 1]\n"
          ]
        }
      ]
    },
    {
      "cell_type": "markdown",
      "metadata": {
        "id": "U5uE3sVtzRvA"
      },
      "source": [
        "#### 제곱/제곱근 함수\n",
        "\n",
        "* `square`, `sqrt`: 제곱, 제곱근 함수"
      ]
    },
    {
      "cell_type": "code",
      "metadata": {
        "id": "ggnIxDGzzTfX",
        "colab": {
          "base_uri": "https://localhost:8080/"
        },
        "outputId": "971a19a5-4a8a-4df5-b53b-5cc865075e25"
      },
      "source": [
        "print(a1)\n",
        "print(np.square(a1))\n",
        "print(np.sqrt(a1))"
      ],
      "execution_count": 78,
      "outputs": [
        {
          "output_type": "stream",
          "name": "stdout",
          "text": [
            "[-8 -3  0 -6 -1]\n",
            "[64  9  0 36  1]\n",
            "[nan nan  0. nan nan]\n"
          ]
        },
        {
          "output_type": "stream",
          "name": "stderr",
          "text": [
            "/usr/local/lib/python3.7/dist-packages/ipykernel_launcher.py:3: RuntimeWarning: invalid value encountered in sqrt\n",
            "  This is separate from the ipykernel package so we can avoid doing imports until\n"
          ]
        }
      ]
    },
    {
      "cell_type": "markdown",
      "metadata": {
        "id": "tWh1aQ50vRhB"
      },
      "source": [
        "#### 지수와 로그 함수 (Exponential and Log Function)"
      ]
    },
    {
      "cell_type": "code",
      "metadata": {
        "id": "Dygt3AyHvTZz",
        "colab": {
          "base_uri": "https://localhost:8080/"
        },
        "outputId": "3891d08f-4f37-4a4d-e883-6c53f138f297"
      },
      "source": [
        "a1 = np.random.randint(1,10,size=5)\n",
        "print(a1)\n",
        "print(np.exp(a1))\n",
        "print(np.exp2(a1))\n",
        "print(np.power(a1, 2)) # 지수 함수"
      ],
      "execution_count": 79,
      "outputs": [
        {
          "output_type": "stream",
          "name": "stdout",
          "text": [
            "[8 7 5 1 2]\n",
            "[2.98095799e+03 1.09663316e+03 1.48413159e+02 2.71828183e+00\n",
            " 7.38905610e+00]\n",
            "[256. 128.  32.   2.   4.]\n",
            "[64 49 25  1  4]\n"
          ]
        }
      ]
    },
    {
      "cell_type": "code",
      "metadata": {
        "id": "YB0BzwxDvnkT",
        "colab": {
          "base_uri": "https://localhost:8080/"
        },
        "outputId": "d8ad5ec5-22b8-42bc-a1b8-7ec959aa19db"
      },
      "source": [
        "# 로그 함수\n",
        "\n",
        "print(a1)\n",
        "print(np.log(a1))\n",
        "print(np.log2(a1))\n",
        "print(np.log10(a1))"
      ],
      "execution_count": 80,
      "outputs": [
        {
          "output_type": "stream",
          "name": "stdout",
          "text": [
            "[8 7 5 1 2]\n",
            "[2.07944154 1.94591015 1.60943791 0.         0.69314718]\n",
            "[3.         2.80735492 2.32192809 0.         1.        ]\n",
            "[0.90308999 0.84509804 0.69897    0.         0.30103   ]\n"
          ]
        }
      ]
    },
    {
      "cell_type": "markdown",
      "metadata": {
        "id": "wE_p9AxjtdJ9"
      },
      "source": [
        "#### 삼각 함수(Trigonometrical Function)\n"
      ]
    },
    {
      "cell_type": "markdown",
      "source": [
        "![KakaoTalk_20220326_192207661.jpg](data:image/jpeg;base64,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)"
      ],
      "metadata": {
        "id": "4oto0xtZwBNC"
      }
    },
    {
      "cell_type": "code",
      "metadata": {
        "id": "6bOSPS81tuo5",
        "colab": {
          "base_uri": "https://localhost:8080/"
        },
        "outputId": "9b083669-797c-4f22-e891-f87a104b1878"
      },
      "source": [
        "t = np.linspace(0, np.pi, 5)\n",
        "print(t)\n",
        "\n",
        "print(np.sin(t))\n",
        "print(np.cos(t))\n",
        "print(np.tan(t))"
      ],
      "execution_count": 81,
      "outputs": [
        {
          "output_type": "stream",
          "name": "stdout",
          "text": [
            "[0.         0.78539816 1.57079633 2.35619449 3.14159265]\n",
            "[0.00000000e+00 7.07106781e-01 1.00000000e+00 7.07106781e-01\n",
            " 1.22464680e-16]\n",
            "[ 1.00000000e+00  7.07106781e-01  6.12323400e-17 -7.07106781e-01\n",
            " -1.00000000e+00]\n",
            "[ 0.00000000e+00  1.00000000e+00  1.63312394e+16 -1.00000000e+00\n",
            " -1.22464680e-16]\n"
          ]
        }
      ]
    },
    {
      "cell_type": "code",
      "metadata": {
        "id": "v7m-AQW9uJ9u",
        "colab": {
          "base_uri": "https://localhost:8080/"
        },
        "outputId": "05ea392e-b9e9-417d-afc5-299673269760"
      },
      "source": [
        "x = [-1,0,1]\n",
        "print(x)\n",
        "print(np.arcsin(x))\n",
        "print(np.arccos(x))\n",
        "print(np.arctan(x))"
      ],
      "execution_count": 82,
      "outputs": [
        {
          "output_type": "stream",
          "name": "stdout",
          "text": [
            "[-1, 0, 1]\n",
            "[-1.57079633  0.          1.57079633]\n",
            "[3.14159265 1.57079633 0.        ]\n",
            "[-0.78539816  0.          0.78539816]\n"
          ]
        }
      ]
    },
    {
      "cell_type": "markdown",
      "metadata": {
        "id": "hKJtYUVWwxQy"
      },
      "source": [
        "### 집계 함수(Aggregate Functions)"
      ]
    },
    {
      "cell_type": "markdown",
      "source": [
        "- 집계함수는 숫자에 대해서만 할 수 있기 때문에 nan값이 있을 경우 에러를 return함\n",
        "- 집계함수 중 NaN안전모드를 사용하면 nan값이 있더라도 안전하게 수행됌"
      ],
      "metadata": {
        "id": "DQrzTs2SgB_C"
      }
    },
    {
      "cell_type": "markdown",
      "source": [
        "![KakaoTalk_20220326_192207661_01.jpg](data:image/jpeg;base64,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)"
      ],
      "metadata": {
        "id": "Ctj0-2CAwia_"
      }
    },
    {
      "cell_type": "markdown",
      "source": [
        "![KakaoTalk_20220326_192207661_02.jpg](data:image/jpeg;base64,/9j/4AAQSkZJRgABAQAASABIAAD/4QBMRXhpZgAATU0AKgAAAAgAAgESAAMAAAABAAEAAIdpAAQAAAABAAAAJgAAAAAAAqACAAQAAAABAAAC5qADAAQAAAABAAAAbgAAAAD/7QA4UGhvdG9zaG9wIDMuMAA4QklNBAQAAAAAAAA4QklNBCUAAAAAABDUHYzZjwCyBOmACZjs+EJ+/+ICNElDQ19QUk9GSUxFAAEBAAACJGFwcGwEAAAAbW50clJHQiBYWVogB+EABwAHAA0AFgAgYWNzcEFQUEwAAAAAQVBQTAAAAAAAAAAAAAAAAAAAAAAAAPbWAAEAAAAA0y1hcHBsyhqVgiV/EE04mRPV0eoVggAAAAAAAAAAAAAAAAAAAAAAAAAAAAAAAAAAAAAAAAAKZGVzYwAAAPwAAABlY3BydAAAAWQAAAAjd3RwdAAAAYgAAAAUclhZWgAAAZwAAAAUZ1hZWgAAAbAAAAAUYlhZWgAAAcQAAAAUclRSQwAAAdgAAAAgY2hhZAAAAfgAAAAsYlRSQwAAAdgAAAAgZ1RSQwAAAdgAAAAgZGVzYwAAAAAAAAALRGlzcGxheSBQMwAAAAAAAAAAAAAAAAAAAAAAAAAAAAAAAAAAAAAAAAAAAAAAAAAAAAAAAAAAAAAAAAAAAAAAAAAAAAAAAAAAAAAAAAAAAAAAAAAAAAAAAAAAAAB0ZXh0AAAAAENvcHlyaWdodCBBcHBsZSBJbmMuLCAyMDE3AABYWVogAAAAAAAA81EAAQAAAAEWzFhZWiAAAAAAAACD3wAAPb////+7WFlaIAAAAAAAAEq/AACxNwAACrlYWVogAAAAAAAAKDgAABELAADIuXBhcmEAAAAAAAMAAAACZmYAAPKnAAANWQAAE9AAAApbc2YzMgAAAAAAAQxCAAAF3v//8yYAAAeTAAD9kP//+6L///2jAAAD3AAAwG7/wAARCABuAuYDASIAAhEBAxEB/8QAHwAAAQUBAQEBAQEAAAAAAAAAAAECAwQFBgcICQoL/8QAtRAAAgEDAwIEAwUFBAQAAAF9AQIDAAQRBRIhMUEGE1FhByJxFDKBkaEII0KxwRVS0fAkM2JyggkKFhcYGRolJicoKSo0NTY3ODk6Q0RFRkdISUpTVFVWV1hZWmNkZWZnaGlqc3R1dnd4eXqDhIWGh4iJipKTlJWWl5iZmqKjpKWmp6ipqrKztLW2t7i5usLDxMXGx8jJytLT1NXW19jZ2uHi4+Tl5ufo6erx8vP09fb3+Pn6/8QAHwEAAwEBAQEBAQEBAQAAAAAAAAECAwQFBgcICQoL/8QAtREAAgECBAQDBAcFBAQAAQJ3AAECAxEEBSExBhJBUQdhcRMiMoEIFEKRobHBCSMzUvAVYnLRChYkNOEl8RcYGRomJygpKjU2Nzg5OkNERUZHSElKU1RVVldYWVpjZGVmZ2hpanN0dXZ3eHl6goOEhYaHiImKkpOUlZaXmJmaoqOkpaanqKmqsrO0tba3uLm6wsPExcbHyMnK0tPU1dbX2Nna4uPk5ebn6Onq8vP09fb3+Pn6/9sAQwABAQEBAQECAQECAwICAgMEAwMDAwQFBAQEBAQFBgUFBQUFBQYGBgYGBgYGBwcHBwcHCAgICAgJCQkJCQkJCQkJ/9sAQwEBAQECAgIEAgIECQYFBgkJCQkJCQkJCQkJCQkJCQkJCQkJCQkJCQkJCQkJCQkJCQkJCQkJCQkJCQkJCQkJCQkJ/90ABAAv/9oADAMBAAIRAxEAPwD+b+nIAzBfWm1Nb/65frQB3B0DTiqsUOcDo2P6Un/CPad/db/vv/61bhOTmub8ReMfDfhZFbWpTGX+6qjJP4UAWP8AhHtO/ut/33/9al/4R7TSMBG/77/+tXBf8Lk8Cf8APWT/AL9n/Gj/AIXJ4E/56yf9+z/jQB3v/CNaeT90/wDfX/1qf/wilh6H/vr/AOtXDj40eAx0mk/79mrA+NvgMDHmyf8AfpqAOu/4ROx9/wDvr/61H/CJ2Pv/AN9f/Wrkv+F3eA/+esn/AH6aj/hd3gP/AJ6yf9+moA63/hE7H3/76/8ArUo8JWR+Xn/vr/61cj/wu7wH/wA9ZP8Av01Ifjf4BHWWT/v01AHXnwlZD5ef++v/AK1KfCFmB3/76/8ArVh6F8UPBnijUBpmm3B849A67P516OyEptoA5L/hE7H3/wC+v/rUf8InY+//AH1/9aujZdpxTaAOe/4ROx9/++v/AK1H/CJWnof++v8A61dDRQBz3/CJWnof++v/AK1H/CJWnof++v8A61dDRQBz3/CJWnof++v/AK1H/CJWnof++v8A61dDRQBz3/CJWnof++v/AK1H/CJWnof++v8A61dDRQBz3/CJWnof++v/AK1H/CJWnof++v8A61dDShSfujOKAOe/4RK0HQH/AL6/+tSf8InY+/8A31/9aujCMegpCCOtAHO/8InY+/8A31/9aj/hE7H3/wC+v/rV0ZRl6jFBRhyRigDnP+ETsff/AL6/+tR/widj7/8AfX/1q6GigDnv+ETsff8A76/+tR/widj7/wDfX/1q6GigDnv+ETsff/vr/wCtR/widj7/APfX/wBauhooA58+E7P0P/fX/wBak/4RK09D/wB9f/WroaKAOe/4RK09D/31/wDWo/4RK09D/wB9f/WroaKAOe/4RK09D/31/wDWo/4RK09D/wB9f/WroaKAOe/4RK09D/31/wDWo/4RK09D/wB9f/WroaKAOe/4RK09D/31/wDWpf8AhErIDof++v8A61dBRQBzw8KWQ9f++v8A61N/4RSy9D/31/8AWro6KAOc/wCEUsvQ/wDfX/1qP+EUsvQ/99f/AFq6OigDnP8AhFLL0P8A31/9aj/hFLL0P/fX/wBaujpyKWYADPsKAOa/4RSy9D/31/8AWpw8J2fYH/vr/wCtX1N4e/ZI/ag8WaHF4l8M/D/XdR0+4AMU8FlK8bKehDBSDXkHizwd4p8Dau+geMtPuNMvouJLe5QxyKfdSAaAPOP+EStPQ/8AfX/1qX/hErP0P/fX/wBaugxniuvuvAXjbTvC8Pjm/wBKuho08xgS98phbmQdV8zG0t7UAeYf8IlZjnB/76/+tSHwnZgZwf8Avr/61dUUjb7taOnafJqV7DpkTxxmZwm+ZwiLnjLu3AA754FAHBf8IpZeh/76/wDrUf8ACKWXof8Avr/61fe/gn9hL4qfEvV4tA8B+IPCWq6hOu5LW312zklI/wB1XyMdxisHxx+x34y+HxvrbxR4p8Ix3mnbhNZpr1k9xvTqgiD7i3bHrQB8TDwpZHsf++v/AK1O/wCETsx2P/fX/wBaumPyydiRnpgqf6EV9c/An9if4/8A7QGpaU2g+H9RttG1Nyn9rNZyyW0agElmYADGRjr3oA+If+ETs8dD/wB9f/WpP+EStPQ/99f/AFq+1/iJ+xt8f/hV4lbTPGfhzUbPSvtos01ea0ljtZCzbVYMQBgnnrXC/tG/BDU/2c/iZdfDPWNQi1Ka2RHM8SbF+cZxgk9PWgD5iHhSzPGD/wB9f/Wo/wCETsff/vr/AOtX2r4A/Yt+OvjzwfZ+OreLTtM03U3KWcmqXsVmbpvSBZT+8P0ritM/Z18ez/HSz+Ani2E6Lqt1dLbM06FwjHjOB94ehHBFAHzCPCunryQf++v/AK1J/wAI1pf91v8Avr/61e0fFn4d3Xwp+IWr/D+8uVu5NLmMJmClVfHOQp5xzWr8Ifgb8R/jjrcvh/4fWP2uaGMzTO7hIoYl6ySu3CKO7Hj1oA8C/wCEa0v+63/fX/1qP+Ea0v8Aut/31/8AWr7F8e/sg/FnwN4Ll+IQOna1otu/lXN1pF7FfpbyDqJWhJ2de9Zvjf8AZ01PwV8EfDXxuutQjuLbxLLLHHarGQ8fl7skk8HpQB8mf8I1pf8Adb/vr/61H/CNaX/db/vr/wCtXvvhP4H/ABC8beBdf+I/h+3jfSvDoRrt2kVWXzM4wh5bp2ryPqM4zjrnn9KAOe/4RrS/7rf99f8A1qP+Ea0v+63/AH1/9aut0+y/tHUItPEiR+c4XfMwRFzxlieAB6ngV9o+Hf2DPip4z0m91/wr4i8I39lp8ay3UsWvWTCBG7y/N8gycc96APgH/hGtL/ut/wB9f/WoXwvppPy7h/wL/wCtX2v4B/ZI17xv8Xrb4RR+JdEnnu7aS5+06bdx6jCoj6ozQsQG49fwr5q13RG0DXLzRZyJGtZXjLAZBKsQePT0FAHAf8Ivp3qf++v/AK1SJ4X03H8X/fVfQXw8+CeofEnT5tRs/EGgaSkLbSur6pb2Ln/dWYgsPeu6vf2Wta06xm1L/hMvBlysCMzRwa/ZSStgZ2oivliegAGSeKAPkb/hFdL9/wDvqg+F9MHTd/31X1Z8Rv2cdW+G/wAGvCnxk1HUobmDxaZ/KtkUq0XkFQcuSQ2d3GBiqfhf9kn9pvx1oEHivwb4C1zVdNul3RT2tlLKjjvhlUg0AfMD+FNNKZBOf97/AOtVf/hFNP8A9r/vr/69fXOnfslfGez+KXh34WfEvQ77wld+JJ/Jt5NUtZYlOMEkK+C23vjua8o+LHw+uPhZ8Rtb+Hd7Ot1Not3LaNMoIVzE20sByRnGfxoA8d/4RTT/APa/76/+vR/wimn/AO1/31/9et2igDC/4RTT/wDa/wC+v/r0f8Ipp/8Atf8AfX/163aKAML/AIRTT/8Aa/76/wDr0f8ACKaf/tf99f8A163aKAML/hFNP/2v++v/AK9H/CKaf/tf99f/AF63aKAML/hFNP8A9r/vr/69H/CK6d6n/vr/AOvW7T4xubFAHk+oQpa3skEPAQ7fWqm9vX9K0dXGNVuB/tms6gD/0P5v6mt/9cv1qGprf/XL9aAPVox84YjIHavkH47iU+NI0lPKwKQo6dTX2CybYwvQ9a+M/j9uTxpDk8/ZU/maAKOk/Bb4wa7FFPo3hXV7tJohNG0NjcSBoz0YFIyNp7HpXNad4G8d6xd3Gn6PoWo3c9ngTxwWssjRE8ASKqkofQHFf0l/HT40fEbwFon7H/hXwLrtzpWn31nokl9FZSeT5/71E2zMmGZNowUJ2+1e8/DNPHtp8f8A9r4fA6wM2vmysG06Cxt1lcysX5jiCkFuuOKAP5OvFPgXxz4Ikji8aaHqGjmYZj+220tvu/3fMVc/hXIV+5f7Y134w8Kf8E+/CHw3/avlu/8AhakusT3lna6ozPqVtYySMzGcP+8RGydgbjoF4wK/On4p/sS/Hn4MfA7w3+0V43tbNfDHitglhJFcxvMdylhuiX5l4HegD5+8LfDb4ieOIZJ/BOgajrEcJxI1jay3AQ+jeUrYqDT/AAF451bWLrw7p2i30+oWR/f2qW0rTRYwPmjC7l7dRX78/sZfs5fEGH9mXwB8R/Bep+O/EEOqa1OZLTwNcWmn2+m+W5XzNUla1lkdDjP7x9oXGAMV9x2l7F4J/wCClXxa1zw2kNtND8PWvEfELEzgj9421QjPkDJ28kUAfyc638Jfij4Za0TxL4b1TTzfSCKD7TZzxeY56Km5BuJ7Bc1jz+BvGlv4jXwhNpF6NVc4FkbeQXBOMgCLbv6D0r9nbn42/Ebx5/wSt1v4k+MtcudX8QaZ40t57S9upfMngYvGx8ktny1z/CmFA4AA4r7Hk134d6x4N07/AIK5aldwG+tvDr6TLbh1Dr4gULHHtXru8tpGP+7QB/NP4Rsb/SfiBZadqUMltcQ3SRyRSqUdGDgFWVgCCPQivvgPngV8M6X4j1bxR8U08Xa9O11e6pqIuJ5X6tJLJljz7mvuVV20AOooooAKKKKACiiigAooooAKKKKACv3f/wCCTsHw7/4UT8UP+FnWyTaTdPaWszsATGs25N3PQAsDX4QV+tv7GKsn7D3xsZThiliVwcdJB0oA9b/Zk/Zw1T9nz/godF4R1GFbvR7qzubnSrgANFNbOm5CO3H3fwr4v+D/AMIZPi9+23No00YGmWOpXF/eHGEjityZDn0HygV+sX/BMj46+D/j1o1j4O+JUobxd4Eim/s25fh5rN1GYuMbtuDgdhXx7puf2f8A4KfFX453gWPVvGGoz6JpOeCImctMyevyrj8aAPmLxi13+1z+22NH0GMCyvtRSziCABYra3xFkY/h+XP4196f8FCdB8BfG34KP4w+E9vGJfhxe/2VdrEBlrcZQNx1G4Cvn/8A4Jy2fh/4Q+FvGf7WvjG2W+tvDlm1vawlsGS5kB3KO4OCMV9C/s0ftQ/s3/GDWde/Z98N/D6Lwg3ji3mV7v7Zc3HmTqpdSRPK4ByOMAUAfgY3BxjHtSV2/wASfCd94E8e6v4P1AYl0+5khP0U8H8sGuIoAKKKKACiiigAooooAKKKKACiiigAooooAKKKKACiiigAooooAK+gv2V7rwZZ/H7wxcePdi6at7H5hk/1YP8ADv8A9nOM18+16/8ACv4TXPxJuHlh13Q9IW2ZSw1nUYLAkZz8nmkbvwoA+y/2r/A/7Ymr/G6+u9QtdYv7OW4Z9HlsVeS3FsWPkGJo8qF2464rs/2yD4j0f9mTwL4d+PuT8QYpGIExV7pLIr8omIJ5PGM165+0neeLfGF/4Ws/hD8YfD1hY6XpFpZ3KQ+KYbdBLEoD4RZQGHHpXmH7e3gnSPjN8RYPiF4O8feEdTtrTSbeKUnXbVp3lhjw6qpfc5J6ccmgD4F+EH7PnxJ+NuqfZvC9kYbFGH2jULkrFawr3Z3Y44HYZPtX6da/4t/Za8a/CqH9hyw1byZdKCzafr0gxaT6iow6sfveW2SAxXr1r8/vBvwm+IniDwckOl/ELQNN024yXsL3xDDa5PT54HkBz9R0r698WfBL4f6h+ydpHw40zxp4EXxbbam1xLMNasQ32chsKZ8gt1+7nigD8+Pij8DPiN8HdWOl+ObFoFkJEE6kSQzL/ejkTKsD1xnNR/CLwZrXjPxnbabpejrrYhbzJbN7yKyEqDqvnzMqrk/U+1d98S/hr8RPC/hCCXxF470HXrO0bbFZ2OvQ6g6bu6QJIxA/3RXznbwNd3cUF1KIkdgpckYAJwSfYdaAP2Kh0v8Aa++yf8Id+zX8OdL8GfalAlbTNV02e/m2j+Kfz1dh+FZmv6D+0P8AEHSZtN+PXww0bxNqyRmFdSbWdMsr9CBgF5BO5kI9Dir+tS+Cf2DNL8K+NPh34Ai8V6pe2aXg8Q6lNdG2LS/ejiW2liQbenINcZ8Rvh78Nvjr+zd4g/aKfwU/gDV7C4RwYpLg2V+0rfMI/tLyMCM5wrAe1AH5i+LfD1/4W8R3Wh6tALaaB8NF5scwX0HmRlkbHqCc1+kf7Jmi/Dn9n7TrH9qH4x+Jop1t1MmkeH7KYyXFxKwIzKv3EUAnOT+Ffl/5IPLkHPGPav0P/Yg+Gfwl8WeHfHni74k+HLbxFL4f043dpb3MlxGm8EDn7NJE56+tAHo3xo8FeC/if4x0v9pL4N+JYrnRtR1GF73R7ibbd2lwzAsvlH5WT0ZSfpSf8FL9T+HeqftFP4fTw/Lbav8A6ILjUnvGdHQgZX7MYwF47hzx2rx/wX8cfhDrHjbT9Ff4J+GoEnuUi8yG51tZFG7GQf7QIB/Cov8Agop4U0DwV+0xq+jeGopLe3jjjZEe4muSpZQeJLiSRyBnjLdKAO7/AOCj2r3mk/Erwj4e0aVk0zTNAszaRpkKGYFiwA6knvX0v4pF3rXx5/Z48Ya4oGrajptm94f4mZVVVZvcivjv/hqv4M/EPwV4d0r9ojwle63q/hlFit7/AE+4S2NxAhysVysivuAP9zacHrXR+AP2htZ/aI/bf8E+Jrm1j06wtb2C3sbGL7ltbRjCR+5AxknPPpQB8+ftlYb9pXxj3zfvx+Ar6G/Yh8ReF9d+EPxC+A0+sxaDrvieCI6fd3LCONzCys0Jk/h34I5AHrxXzz+2O239pbxeT0+3v/KvK/g98KvGXxg8dWPgbwRZSX95fTKCiKXCpn5nbb0VRyc9hQB+jXwq8HT/ALK/wT+It58a9WsWfxRZCw0/SobuO6eaRSx80iFpFUDdwWIPsK80+NviXStU/YS+GWk2VzFJe2t3cmSFJFaRQ28DKgkjr3Fev/HP9gK38SeMvDlx+zNbQatpUKx6drotZWm8i9jO6d58szIu04zlQOwzXlv7d/7NfhD4ffYviH+zzbRz+EQi2t1NaO88cN7DhJA7s7bcuOAT0oAt/swatD4X+C/jP4U/FTwx4tSDxcsBhu9I0n7WEVA38MskIIOexrlP+GafgMgMhHxLwvPHhWD8v+P2rHwgsviX4y/Zg8W/GKXx74ltb/w3LDDa2tvqMwt2V1bAK5JAGOApFfKM3x7/AGjJAIW8ZeIVxyQdRu+c+v7ygDI+Jvw71DwTq0rWun6tbaU7lbabWLM2c8oUDJZNzqDzyFZh+dfr3/wTv+BN1rf7LPxCl1qSO0uvGVrLaaLHKdrXMlvGZSFGMnPlnFfkQ3xJ8UeI9b07/hauq6p4jsbSUSvb3d3LMSmfnVTKXClhxnHavoz4yftneLvF3jXw/qXw0tT4Y0Pwf5f9j2EDcRmPHzSE53s3IckkHnjmgDtv+Ce+h3/h/wDa+TSNUjaK5trW9jkRuqsox/8Aqr4q+IeW8d6yD/z9y/8AoRr9Wf2bfjn4L+Pn7Yeh+ONH8PLoOtSaXcpqrxH9zdTquDKqn7pIxkA/hX5SfEMf8V3rOe95L/6E1AH6Df8ABMrwPq0nxT1DxjqsdmmgzaZeWMk1zd2kWJmC7FCTSq/P97bivrf4c/Czxb8Pv2Wm8KjVE0XVxr8l076VfaZPfw2ysSJIxJdxIcjgjzM449q/H/8AZv8AhxoPxf8AjVoXw58R3RsbPVboRSyKVD7eu1Sc4J6dK+vPi7r3wb+DvxIn+GNr8CLGUWkzWwm1afVPtV0oO3zV8m7ij/eDnhMc0Aexf8FBfEMHiz9lf4Ua7HrGoeIBvv4/turRxx3TlTECGWGSVOvcOQa/Lj4V+CviR8WvGOn+A/AzXU1zdyrCoR2CxruG52PQIoOT7Cvtz9tf4T+G/CPwr8D+ONDj1Lw1DrUcxHha+neVbPbt/eQLKWdUfd3J6V5dof7V2ifDD4Rr8PvgXoS+H9Y1CExarrsrCa7n3D51iLZWJGHynCg+hoA+wPFvj3Q9Q/bS+FHwd8L3n9o2HghorJrgHcJLplPn4z1HA5r5L/bu+HOh+Gvjb4p8UWXi3SNWuNQ1e5L6daG5N1b5kYkSiWBI+Dwdsjc+vWvO/wBjq5e8/ar8FXErGR21NSzMeWJDEkn3NZP7Yalf2ovG5/6i95/6OegD5uooooAKKKKACiiigAooooAKlh+/UVSw/foA8s1n/kLXH++aza0tZ/5C1x/vms2gD//R/m/qeH/Wr9RUFPjwsisegIoA9iQeYxJrwz4ofCm/8YawmtafOqOkYi2OMLgd8jP8q9mt9T04RB/NXn3qB9Wsd+UmXH1oA+YH+Bvj+WJBJewOIwBHl5PkA6bfl4/CvsX9nb4mfFP9nz4c/EPwBZadZam3j+xhs5Lt7qWKS18okh0AibeTnoSK5x9bs2TAlX86g/te2/56L+dAHy9ffAz4h6lKLjUr6CdwMbnkkJ/Vakf4G/EG5hjtbu/glhj+7G0km1foNuBX09/atof+WqfnUq6jY5+aVPzoA+Z7T4NfErTYhbWeqRxxZJ2LNKF568Baqt8EPiDLcvc/2jCHddpPnSZ2+mdvT2r6ha+sT0lT8xUf9pafG2DMn50AfPPhv4K+IdL1W0fX/s+o6XHMkl1ZLcSQfaEUjKeYI22EgY3BTj0r6i+PXjvxn8TfhRonwC+Guh6f4L8D6JKbpNLivJbt57sjabieZoYy77cgfLwCaw/7V07GPOX8xTRqumoeZUP40AeCeC/glrel61DrOtTxNHaOJFCE8lDkDkCvo+qP9r2bHLTLj60v9o6d/wA90/OgC7RVL+0dO/57p+dH9o6d/wA90/OgC7RVL+0dO/57p+dH9o6d/wA90/OgC7RVL+0dO/57p+dH9o6d/wA90/OgC7RVL+0dO/57p+dH9o6d/wA90/OgC7RVL+0dO/57p+dH9o6d/wA90/OgC7VqC+vIImghlZEf7yg4B+orI/tHTv8Anun50f2jp3/PdPzoA0re5uLRmktXaNmGCVOP5V2ms/Evx74i8L2PgnXtWubvSNMJe0s5HJjhZhglF7HHFec/2jp3/PdPzo/tHTv+e6fnQBsRahfRWz2ayt5T4JXPHHTiq8U00UgmjdlZehU4xWf/AGjp3/PdPzo/tHTv+e6fnQBoyO8rmSQlieSScmo6pf2jp3/PdPzo/tHTv+e6fnQBdoql/aOnf890/Oj+0dO/57p+dAF2iqX9o6d/z3T86P7R07/nun50AXaKpf2jp3/PdPzo/tHTv+e6fnQBdoql/aOnf890/Oj+0dO/57p+dAF2iqX9o6d/z3T86P7R07/nun50AXaKpf2jp3/PdPzo/tHTv+e6fnQBdoql/aOnf890/Oj+0dO/57p+dAF2iqX9o6d/z3T86P7R07/nun50AXaKpf2jp3/PdPzo/tHTv+e6fnQBdoql/aOnf890/Oj+0dO/57p+dAF2iqX9o6d/z3T86P7R07/nun50AXaKpf2jp3/PdPzo/tHTv+e6fnQBdoPI2npVL+0dO/57p+dH9oaX/wA/CUAfRHgn9qH4/wDw10ddA8A+LNS0mxTkQQTlUH0XpWD8Rvj38Y/i7BFB8SvEd9rMUX3EuZS4HvivFf7Q0v8A5+Eo/tDS/wDn4SgDVjMYPyjk16t8N/jT8V/g7dz33wu8QXuhTXSbJWtJDGWX0OK8WTU9MRv9elWP7Z0z/nsv50AfWS/tyftdo+U+IWtZHQi4Oc/lXgXjn4heN/id4jl8W/ELVLjWNTuMeZc3Tl5G+pNcT/bGnf8APRP8/jSf2xpn/PZP8/8AAqANGRA4wen51reHdd1zwlrtt4g8NXctlfWzh4pojtdGA6qe1c1/bOmf89l/OkOsaXuH75evrQB1HiXxBrnivVLnX/Ed1Je3tyxeSaU7mdvUk9+1bfgz4heNfh4l3d+C9TuNMe8ha2na3fY0kT8sjY7HvXnR1fTSjATLz70v9raZ9nMRmXJ96APTvD/xV+IHhC2vrHwZrN1py6qmy8EEpUTL3DjvnvVLTfiZ450Hw5qHhHR9WuYNL1Ngbq2Vz5cxB6uvfBrzaLU9OS4WUzLjGOtNk1PTirIJlyTn8KAPefhx+0F8aPg9aXFl8KfEt/ocV62Z1tZSgcjuwFeif8Nyftfj5T8QtYP/AG3P+FfJUWracigecv501dW03zC5mXn3oA7bxR4o8Q+NtfuPFvi27kv9SuzumuJTl3PqTXKzFs47e9Q/2zpn/PZfzqu2paaTkTp+dAHbeC/HXiz4d64viXwXfy6ZfoGRZoW2uAwwRkdsVhz3d3qF093du00spZ5Gc5JZjk5Puaw/7Q0v/n4Spo9U04HHnLQBpwy3drMt5ayGOVCHVl4KkdMe4r6Z039s79qvTtPi0/TfHusQxW6hIwk5wFHQAegr5WbWtLB2mZPzpP7a0odJk/MUAeg+N/HnjP4ka1J4m8ealPq+ouMNcXLF3x6ZrhykjHJFQf21pX/PdPzo/trSv+e6fnQB03hfxF4h8F61b+J/DF3JY31m++KeI7XRgOo9/Sq+veIPEPjDWLrxV4puXvNQvZHluJ5OWkdyWLE+55/Gucl1jTnjISdPzqFNVs44QjSigC9RWf8A2rp//PQfn/8AWpf7Tsf+egoAv0VQ/tOx/wCego/tOx/56CgC/RVD+07H/noKP7Tsf+egoAv0VQ/tOx/56Cj+07H/AJ6CgC/UsP36y/7Tsf8AnoKcmr6ep3GQUAefaz/yFrj/AHzWbWhqbrNfSzxEYds1Qw3qKAP/0v5v6KKKAIfs8W7djmpwg7IPypK8c8feMtU0e/XT9LbySACWHf8AA0AezeWf7g/L/wCtTdi/3B+VfL7ePPFxTi8P/fK/4VEPHfi8H/j8P/fK/wCFAH1KQAPugfhUYJHQfpXzEPHfi4/8vjf98r/hUi+OfFva8b/vhP8A4mgD6b3t6/p/9ao2Vm6ivmr/AITnxd/z+N/3wn/xNdz8OdK+OXxf8Tr4L+FWn32v6syF1tbG3EspUY6Kq5oA9Y8selHlj0rzj4reFv2gfgX4lHgz4w6XqHhrVmjEq2l/bCCUo3KttZRwe1d541+Af7ZXw48CJ8UfHPhLW9H8NyhCNTurEx22JBlP3hQL82OKANQRKAM03YteE+HfGWtz6zFZ6rP58UhVRwByeP4QK94oAbsWjYtOooAbsWn+Wn+f/wBdJRQAvlp/n/8AXTNi06igBuxaNi06igBfLT/P/wCujy0/z/8ArpKKAF8tP8//AK6PLT/P/wCukr71/ZO/YH8d/tc/D3xb418D6pDbTeFlVvsckLO1yWVmwjBgFPy45BoA+C/LT/P/AOujy0/z/wDrr6h/Zm/Ze1/9oz45D4E/2jHoGoAT+ZLcxlwjQfeGwFT14rzOP4Taxe/GD/hTukzLdXx1D+z0dFOC2/buC9cd8elAHlXlp/n/APXR5af5/wD11718c/gbN8GfjFP8GbbVI9dv7V4oZJLeIxqJpFVvLAJbJXcAa94/a+/YG+IP7IPh/wAPeIvFWpQ6pFr0Yz5ETJ9nl27vKcknJx9KAPg3y0/z/wDrppRc0mSTwM4oy3pQAbFo2LRlvSjLelAD/LT/AD/+ujy0/wA//rpmW9KMt6UAGxaNi0Zb0oy3pQAbFp/lp/n/APXTMt6UZb0oAf5af5//AF0zYtGW9KMt6UAGxaNi0Zb0oy3pQA/y0/z/APro8tP8/wD66ZlvSjLelABsWjYtGW9KMt6UAGxaf5af5/8A10zLelGW9KAH+Wn+f/101Y1/z/8ArpMt6V658BvAem/FH4y+G/h7rkk1tZ6vfR200kO3zFR85271YZ/CgDyXy0DYNO8uL/P/AOuvvr4w+Ev2FvhR8RtZ+Hl7pXjm9m0e4kt3mi1LTY1kMZ2khWsGwD25qp+0N+z18EfC/wCzn4U+PPwfk12FfEk7wyWmsT20/lhB/C1vbxdfpQB8GqqN93mniJT0r7y/YA+H/wAOvG+t+LtT+Jnh628TQaHo019b2lzJcRxmWPcRn7PLE5Bxz81ZbftHfCW3uXSD9n7wgy56tNr4B5PpqefyIoA+IfJWk8onoK9F+JXi7RfGfiRtZ0HwrY+EYGXAstPN00IIzz/pc08n5vXHafp9xqt/FpdmN01w6xxjplnOB+poAyhGpOBQIxnbX6M+Pv2af2X/ANnPRbDS/j1rGvax4svIIrqbT9FktraKCKUZVWkngmBfv1HFZusfsvfBb4m/BPWPjT+y/q+qTt4cCPqulayYpLiONzjzElhiiVgCRn5aAPz48v2pTEoGaml/dglxyO386/Qv9lL9iKX9or4NeNPije/boZNAtzJpqwbFS5lUZdDuQltqhvukdKAPzr2LShIwOeKt6hYXdnfTWk6tFJExVlYAEEHGDx7V7R8OLj9mey0hh8YtP8S3molzhtKvbK3h2dhtuLWY5/GgDw4RKR8vNJ5IHBGK/Sn4o/s9/s76L+zv4U+P3w7Ov2F3r2rG1hsNZntJ1eGJk3OPItoTjLEenFUf+CoHhvw94b/aem0vw1Y29pbDS7BvKgRYk3NApLbUAXJPU0AfnKIc9qTy/auv8HP4Di8Qwt8Sbe9n0jnzU0yaOKc+m15klQfihr9ytR+DH7NY/wCCden/ABEm8D+Kxo51VpxOJ7D+0/KYsFd7g2W0wkkY+XuKAPwGEYxlenc+lJ5YPH+f51+wn7Lvwo8L/Fv9nL4y6f8AB7w1eatcYtDpUV3HFd6ggIk3APFEgLepVV/Gvmv9kj9mLT/Hfxe17QfjhbXen2Pg/TrjVNSsceXcSC2BzAcjKktwcDI5oA+ERCBwRil8la/Wr4OS/sn/ALV/jy8+A+nfDO08HTXkUp0rV9PuryS5R4xx9oW5nmiIbqdsa4rP1H4c6R4Q/wCCd3il9XsLd9X0zxQbQXhiTzSqyFcCTbnBHYGgD8pfKUcmm7EP3eRivu/9kbxf8Kdf8deH/hF42+FugeKBq16lvLf3k2ppdbHP8ItryKLI9467X9t3X/g98Mvip4n+A/gz4T6Boa6ZcmC31SGbVGu1jVhgkTXjwHcByDFjHagD83TAQu4jilSIFwCOtfpT/wAFG/DmgeHdW8AvodjDYi58L2jyCGJIw8haTLMFAyx9TXxL8INX0bSviJpf9vaFYeIba6nS2a11I3CwZmYIHY2ssMuEznAce9AHj4t4Sx+UdamjsY3+8mK/fSP4KfDc/tJXP7Ocvws8BrLa6K2tf2jjXzG8aqDsMf8Aa3B5+9nFYXwa8Hfs9eIPg38Y/GXgkaa9wdCL/wBl2+l3UcGnuCAWgub+a4kbnuH5oA/C3+zrf2/z+FH9nW/t/n8K9e+G8vwKguLg/Gm1127Ax5H9jXVrbkYznzPPt5w3twO9fYD/AAK/ZW8X/sw+Lvj54G/4SrQ5tAuIbS2Gq3djcQ3M07KCMR2kR43GgD84jp8MQ34FITsXCIDX6gft2+HNA0T4MfBm50ixt7Wa70KSSZ4YkjaRt/WQqoLN9fwr8wqAI/Ml/wCea/5/GjzJf+ea/wCfxqSigCPzJf8Anmv+fxo8yX/nmv8An8akooAj8yX/AJ5r/n8aPMl/55r/AJ/GpKKAI/Ml/wCea/5/GjzJf+ea/wCfxqSigCPzJf8Anmv+fxoEkjcFVGfapKKAGYb2ow3tT6KAP//T/m/ooooAK+bfij8viP8A4Ap/nX0lXz18UbZn8Qi4j6LCvb35oA/WG4/4Ju/s1eBfCfwm1f4qfEXWYtQ+LNvZNZ2em6ZBM1rLeMqbpWluIl8lCeqkvx9ysj4af8EtvBusfEj4weD/AIn+Pv7D034UpDM1/DamZbiGTd1TIKtwAAARnuBXi/xT/b60T4h/8KNe28Oz2x+E8FlBNumR1vfskgf5MIPL3YxznFfpJ+yv+0D8N/2h7b9qj4x+M9NvrDQtb0yxkmsbW4hS72b3G2OWSN493HeM8dqAPzD+Pv7H3wy8N/s4aP8AtUfs++JdQ1/wxeX82m3cerWcVndQTRMUVtsMsyFJMArh84IyAeK/OlCGXcOgr76+P37W3gjxN8DNE/Za+Aug3Xh3wVpNy19O2p3KXd/fXLndmV4kiiCrwFCRL0rj/ix8WP2U/E/wA8NeCPhb8N28P+N9OZf7V183sky3gAIIEDHYmTg8DtQB2f7NX7LXwk+K/g208RePdS8Vy3GpX32RIPCuhNqYs1XH7y8kleCNVPXEbOdvUDpXI/tTfs0ar+xl+1BL8If7U/tFIHtp7a6VGhka3lbKeYhA2uNp3KMgetfVPwe/4KF/C3wt8BvB/wAJfGnh/wAR203g2+kvfP8ADGqppUWoeY5by75RE7yLg4+VlOOhFeTftGftbfA/9qr9rCf49fE/w7rdroRs4IUsdMv4FuvMtz8pM1xBMpTBOQUz70Ae1f8ABZSQ3Hxo8EPJyW8GaMxJ/wCvaM11/wAKb2e9/wCCNvxDurqRnY+JbEDcc4Ajn6V4F+3P+1t+zR+1lcaN4m8I+FPE+i65pOn2ekRtdahZz2jWtoix7mRLRJPNZF6hwuf4ccV23hb9s39jPwj+ydq37KEfgvxrNpuuXsWoXF5/auniZJoVdVCf6BtCEucgqT05oA/KvQAH1uziXtMg/UV9ZrwoFfLuipaSeNYpdJjljtXuv3KTENKsW75N5UKpbbjJAA9AK+o6ACiiigAooooAKKKKACiiigAooooAK/db/gmN8Rdc+E37JPxf+Ivht9l3pE+nTAZwCFfJX6EcH2r8Ka+2PgL+1fpvwd/Z68f/AAOvtIe9fxsIBHdJKI1tzCejKQdwPTjGKAP3b+A/wl8G/EX9pzwj+3F8GfL/ALK8T2E6a5axDi0vwmGyO2/jFfmx+yn4G0/S/wBo74l/tJeJEH9meADfXcZb7r3UjGKFOeOrZH0rx7/gn/8A8FE9V/YtvtV0rWNKk13w9qcZDWaTBPLmxgSoWDAcYB47cVB8Tf2qPh3dfswXnww+GXnQa14s1t9S1zzEIVYfmaKFZRgPgkflQB0n/BPb4c6t+1F+2u3jnxHB9strC6l1m73YI4beiMTgYONvJxxX6Y/Ff4RftDftAfs8/FKw+OGjfYruxvpNY0Am6tbhvKUndGogmkZfkJ7V+MvwF/a2sv2f/gH43+HvhbSZV8TeLlFuurxzBBDBt2lQmN2QcnII61jfsuftfeOvgT8Vbbxx4lur3XdLEUsN3YPctieOVCuPn3AYyD0oA+Ovs8lnK1vICHVirA8YI4Ipd7V1/wARNd0XxR451XxF4ds30+yvrmWeG2kYO0au27aWAAPPt04rjqAHb2o3tTaKAHb2o3tTaKAHb2o3tTaKAHb2o3tTaKAHb2o3tTaKAHb2o3tTaKAHb2o3tTaKAHb2o3tTaKAHb2o3tTaKAHb2r1b4F+PtL+GXxi8OfEDXY5ZrPSL2O5mjhCmQqnULuYDNeT17N8Jfih4N+G73D+J/AWi+MzPjb/az3y+Xj+79jubf9c0Afo5H8H/2RP2vdY+IHxy0jxP4s0pdLWTVb22l0qwYFJGYlYit8dxHQFsfUV4B+0L+0H8C/Fn7O3hL4A/B3+2rhfD1xJJJdavb28BcODgBIJ58fia1vBH/AAUB0T4c6PrHhzwV8G/BtjZa9B9mvoVfWWEsXPykvqJIzk/dNeR65+0r8J9X0q4sLP4JeDrGaZGVbiCXWfMQtwGXzNSdcjtlCPUGgDu/2a/EHw1+HNu3ifwh4u+IGi+IFgP9oP4a021kijTJz+8a9iYrj+8or36T9tnweWZYvjl8W1JPzA2NgCT3/wCYjXgH7D3xu+FXws1DxpYfFTUZtHs/EulPYQTwWr3flSSbuTGpDFVz3Oa4+X4Ufsl3UjNH8X5/mY8nw1dH/wBrUAUf2hPHHwa+JUUninTPGnjHxN4lbCh/EFjZxxlO+ZIryZ//AByvlPT9QuNJu4dStWHm27rIh9GQ5H6iu7+Jfh34feGdYWw+HfiT/hJrQplrlrF7LDf3fLkZzVf4aeMdA8CeIv7Y8S+GtO8WWwQr9h1RrlYCSfvZtZoJMj/exQB+vnxnj/Zx+N/7MHg79pz4/wAWsaPr2pbtLkn0KOC5Ev2X5Q7xTzW6gkYHBNc98Sr34S/s7fsJ2uqfs4QahcL8SpPsl/e6sEjuFjiO7aI45JUUEqOj14Fq/wDwUH0jXPhvp/wk1L4N+DJPD2lTPPa2ZfWAsckn3juGohjn/aY0a9/wUH0nxJ8PdO+FmtfBzwZPoOjsWs7Qtq4WJm6ncNRDHPuTQB8dfBy8+ClnrT3/AMcIdUmsEG6O201Y8ysOcO7yKVBPdQ3sK/Qfwf8AFj46/GfQb/xl+z5JY+BfC3wvhF7DpYkk/eBiFy5SPErsGw27HBIr4v8ACfxv+HPh7VdS1DWPhZ4a1uK+k3xwXkmqrHbDgbIjDfRNt/3ix5619IeCf+ChOjfDrw9rHhfwZ8GvBljYa/EIb+JX1hhNGCCBl9SYjoOhFAHknxh+K37PPxm8PTeKNa8O3nhrxxIc3Dad5cunXTfxOys6NGzdTtVqZ+zT+ybqXxjY+PvHt1H4b8A6azPfavdOFDLHy0UKgl3kfG0fLgZ61Hrn7S3wp1fTrixtfgp4PsZZ1KrcQy6yXjJ7qJNSdcjqNyke1fL9x4p8Sz6WfD41C5XTA7SCzErGAE9whYj9PxoA+wf2lf2jNJ+NPxC0HwN4Bgax8G+FTFYaVbt1dA/zTMOm6Q8n6V9Pf8FX/inNH8bb34cN4f0UrJp2nkaibGM6jxEpx9q++B2+nFfkhpF5Bp+s2t7dHEcc0btxnhWBPHevr/8Abx+Pfw//AGg/jxP8Qfh+8suntZ2tuDNGY2LxRBXyp56jg+lAHg3wa8Y+HPh347s/FvijQLfxLb25yLC6YpFK56bjhgcHtiv1un8cf8FIn8cwfEnVNB0+HQtZslij8P3up6ZbWUmnuo2xLBNcqQpXHzFB9K/EKxk/4mEE1wD5KOrEewOTiv1X/ab8d/sn/tN/8IvrE3xBufD9xoukW1hNDJolxcnfFGqttdJVBGRnpQB6tPp3xK+HH7Pvxd1C6+Hp0PTvEq2xA0bU9Nv7Ow278+YYboyKrE5wsZr82P2afjF8Sfg38UbPXfhqiX99qZGnyWc+DHdpdMIzC+7jD7sZPAJ5r6y8MfEf9l/4Jfsy+Pvhd4X8a3PijV/FyQi2U6RPZIjRBs7neRh0Ydq/Pr4X+ILTwp8SfD3iXVSVtNN1Ozupyq7mEUMyO5CjqdoOB3oA+/fFf7T9l+zl4x17S/CfwltPBXjmdGt7q9k1A3jWvmrl/IjEYRNwIPDcV0um3V3q3/BLXXtQ1Gczyy+I0d3PGW35JrmP2j1/ZA+Pnxn134t23xSudNXWHR1tH0C5lMRVFUguswBzj0r5o8e+HvhN4e8B3Ok/D/4p32vlpFk/so6Vc2VuxzguTJM0ZI7ZWgD64/YS+HulfBfTLr9tn4tGK30fREK6LbSMDJf3uP8AlmOThMDJx3rf/bS0LRv2svh9bftsfDIRteskVv4psFZUktrlQEMu3gsjN3HqDX5STeIPEFzp0GiXd9cTWVtnyreSRjEm7rtQkqv5VJa+JNd03TrjTdOvriC3uxiaKORgkgHTcuRn8aAP0s/4KbjN38NzjGfC1of1avgD4XeKPBPgzxha+IvHnh9vEVpanzEtlvHs8SDlW8xEc8Efdxg19Kfto/HrwB8cpfBr+BZZZV0TQrewuTLGUKzRliwG7qORyK+Jz0Gfu9z17ccUAf0FeC/2gfid468VTftKeF/gQiz3+m/2O17e+JEsoDaAYARbtYsn/aFct4w+NXxu+G/wS8beGfiZ4V1618Ja7pCabpUUOrwa/ZWcvygF545DsXAI+7wOxr5j+J/x0/Z1/ag+GnhvR/iF4p1TwLq3h+yj09reK0e+06YLyJBFGUKsec5Jz7Vn6D8fP2f/ANnL4H+Kfhv8N/EGp+O7/wAV2n2FxdW72lhaq3WRIX3EyA9CG4oA+WP2fv2YviB+0Nrc1t4fMWn6RYkPqWq3jrHbWsfdnYnkkDgAMc17h+1h8Zvh5pvg3S/2UvgFKbrwnoDmS7v2yp1G92/vJyMfdDk7QfbpXw3b+KfEllp82j2OoXMFlc4863jldI5QOm+MHa2O2axcFgDH1AOAfegD9nf2zfixJ4O/Zu+EPhuDQNF1Iaj4dcG51GxjuriL5sZikb5o/YjvX4uAk8sMHPr6/wCcfpX3P+1h8ePh/wDFz4Z/DLwx4Okme68MaS9pfCWMoBIXB+UngivhmgAooooAKKKKACiiigAooooAKKKKACiiigD/1P5v6KKKACql9ptjqKBbuJXx7VbooAwE8K+F0Of7Oh/75FSp4b8PR7hFZRqG6gDGa2qKAMH/AIRTw2eljCP+Aimf8Ir4dxt+xRf98iuhooAwB4T8OA/8ecX/AHyKd/wjHhr/AJ84v++RW7RQBhf8Ix4a/wCfOL/vkU2Twn4bdMfY4v8AvkVv0UAY9loWk6aQ+n26Qkd1GK2KKKACiiigAooooAKKKKACiiigAooooAKKKKACiiigAooooAKKKKACiiigAooooAKKKKACiiigAooooAKKKKACiiigAooooAKKKKACiiigAooooAKUHBzSUUANH3jTqKKACiiigAooooAKKKKAEIB60hRSMGnUUAAAxs6CmFT0HSn0UARrHg7jUlFFABRRRQAUUUUAMEagYHFSlyRim0UAFFFFABRRRQAUUUUAFFFFABRRRQAUUUUAFFFFABRRRQAUUUUAf//V/m/ooooAKKKKACiiigAooooAKKKKACiiigAooooAKKKKACiiigAooooAKKKKACiiigAooooAKKKKACiiigAooooAKKKKACiiigAooooAKKKKACiiigAooooAKKKKACiiigAooooAKKKKACiiigAooooAKKKKACiiigAooooAKKKKACiiigAooooAKKKKACiiigAooooAKKKKACiiigAooooAKKKKACiiigAooooAKKKKACiiigAooooAKKKKAP/Z)"
      ],
      "metadata": {
        "id": "1O5mwYg3wlkC"
      }
    },
    {
      "cell_type": "markdown",
      "metadata": {
        "id": "GdxMrX5l9m6W"
      },
      "source": [
        "#### sum(): 합 계산"
      ]
    },
    {
      "cell_type": "code",
      "metadata": {
        "id": "AJQ3GjLI0cZU",
        "colab": {
          "base_uri": "https://localhost:8080/"
        },
        "outputId": "8909796d-12bd-4289-ef00-7ad370ec5e67"
      },
      "source": [
        "a2 = np.random.randint(1, 10, size=(3,3))\n",
        "print(a2)\n",
        "print(a2.sum(), np.sum(a2))\n",
        "\n",
        "# 축 지정 가능\n",
        "print(a2.sum(axis=0), np.sum(a2, axis=0)) # 행 방향으로 sum\n",
        "print(a2.sum(axis=1), np.sum(a2, axis=1)) # 열 방향"
      ],
      "execution_count": 83,
      "outputs": [
        {
          "output_type": "stream",
          "name": "stdout",
          "text": [
            "[[2 4 5]\n",
            " [3 7 6]\n",
            " [5 1 1]]\n",
            "34 34\n",
            "[10 12 12] [10 12 12]\n",
            "[11 16  7] [11 16  7]\n"
          ]
        }
      ]
    },
    {
      "cell_type": "markdown",
      "metadata": {
        "id": "U4W4iIb9J4Zd"
      },
      "source": [
        "#### cumsum(): 누적합 계산"
      ]
    },
    {
      "cell_type": "code",
      "metadata": {
        "id": "SRZWZD3UJ4wo",
        "colab": {
          "base_uri": "https://localhost:8080/"
        },
        "outputId": "33f4c381-0a68-48d2-8b41-b33cf4d7ab92"
      },
      "source": [
        "print(a2)\n",
        "print(np.cumsum(a2))\n",
        "\n",
        "# 축 지정 가능\n",
        "print(np.cumsum(a2, axis=0)) # 행 방향으로 sum\n",
        "print(np.cumsum(a2, axis=1)) # 열 방향"
      ],
      "execution_count": 84,
      "outputs": [
        {
          "output_type": "stream",
          "name": "stdout",
          "text": [
            "[[2 4 5]\n",
            " [3 7 6]\n",
            " [5 1 1]]\n",
            "[ 2  6 11 14 21 27 32 33 34]\n",
            "[[ 2  4  5]\n",
            " [ 5 11 11]\n",
            " [10 12 12]]\n",
            "[[ 2  6 11]\n",
            " [ 3 10 16]\n",
            " [ 5  6  7]]\n"
          ]
        }
      ]
    },
    {
      "cell_type": "markdown",
      "metadata": {
        "id": "pVaJRWQ-LV0f"
      },
      "source": [
        "#### diff(): 차분 계산"
      ]
    },
    {
      "cell_type": "code",
      "metadata": {
        "id": "yKjnWtGVLWJj",
        "colab": {
          "base_uri": "https://localhost:8080/"
        },
        "outputId": "dc3e4233-7bfd-4776-9a47-3ab3c6725936"
      },
      "source": [
        "print(a2)\n",
        "print(np.diff(a2)) # 2에서 4가 되려면 2, 4에서 5가되려면 1... \n",
        "\n",
        "print(np.diff(a2, axis=0)) \n",
        "print(np.diff(a2, axis=1)) "
      ],
      "execution_count": 85,
      "outputs": [
        {
          "output_type": "stream",
          "name": "stdout",
          "text": [
            "[[2 4 5]\n",
            " [3 7 6]\n",
            " [5 1 1]]\n",
            "[[ 2  1]\n",
            " [ 4 -1]\n",
            " [-4  0]]\n",
            "[[ 1  3  1]\n",
            " [ 2 -6 -5]]\n",
            "[[ 2  1]\n",
            " [ 4 -1]\n",
            " [-4  0]]\n"
          ]
        }
      ]
    },
    {
      "cell_type": "markdown",
      "metadata": {
        "id": "b6I38HfA9vGL"
      },
      "source": [
        "#### prod(): 곱 계산"
      ]
    },
    {
      "cell_type": "code",
      "metadata": {
        "id": "rGPMXGe89y0O",
        "colab": {
          "base_uri": "https://localhost:8080/"
        },
        "outputId": "bbb98c5b-894f-4802-fa3d-af683ed72a45"
      },
      "source": [
        "print(a2)\n",
        "print(np.prod(a2)) \n",
        "\n",
        "print(np.prod(a2, axis=0))  # 행 방향 2*3*5  4*7*1 .. \n",
        "print(np.prod(a2, axis=1))  # 열 방향 2*4*5  3*7*6"
      ],
      "execution_count": 87,
      "outputs": [
        {
          "output_type": "stream",
          "name": "stdout",
          "text": [
            "[[2 4 5]\n",
            " [3 7 6]\n",
            " [5 1 1]]\n",
            "25200\n",
            "[30 28 30]\n",
            "[ 40 126   5]\n"
          ]
        }
      ]
    },
    {
      "cell_type": "markdown",
      "metadata": {
        "id": "RwaoVUGcKkkE"
      },
      "source": [
        "#### cumprod(): 누적곱 계산"
      ]
    },
    {
      "cell_type": "code",
      "metadata": {
        "id": "jwYoX9inKk4D",
        "colab": {
          "base_uri": "https://localhost:8080/"
        },
        "outputId": "3ca99c10-c7dc-40e4-f1a6-c6e13383c0cc"
      },
      "source": [
        "print(a2)\n",
        "print(np.cumprod(a2)) \n",
        "\n",
        "print(np.cumprod(a2, axis=0))  # 행 방향 2*3*5  4*7*1 .. \n",
        "print(np.cumprod(a2, axis=1))  # 열 방향 2*4*5  3*7*6"
      ],
      "execution_count": 88,
      "outputs": [
        {
          "output_type": "stream",
          "name": "stdout",
          "text": [
            "[[2 4 5]\n",
            " [3 7 6]\n",
            " [5 1 1]]\n",
            "[    2     8    40   120   840  5040 25200 25200 25200]\n",
            "[[ 2  4  5]\n",
            " [ 6 28 30]\n",
            " [30 28 30]]\n",
            "[[  2   8  40]\n",
            " [  3  21 126]\n",
            " [  5   5   5]]\n"
          ]
        }
      ]
    },
    {
      "cell_type": "markdown",
      "metadata": {
        "id": "_LMAbL9hMV7T"
      },
      "source": [
        "#### dot()/matmul(): 점곱/행렬곱 계산"
      ]
    },
    {
      "cell_type": "code",
      "metadata": {
        "id": "xC6FBzF0MWW1",
        "colab": {
          "base_uri": "https://localhost:8080/"
        },
        "outputId": "67e1ad46-64e9-46b8-b1a3-18fa27acb622"
      },
      "source": [
        "print(a2)\n",
        "b2 = np.ones_like(a2)\n",
        "print(b2)\n",
        "\n",
        "print(np.dot(a2, b2))   # 점곱 : 2*1+4*1+5*1 = 11 \n",
        "print(np.matmul(a2, b2)) "
      ],
      "execution_count": 89,
      "outputs": [
        {
          "output_type": "stream",
          "name": "stdout",
          "text": [
            "[[2 4 5]\n",
            " [3 7 6]\n",
            " [5 1 1]]\n",
            "[[1 1 1]\n",
            " [1 1 1]\n",
            " [1 1 1]]\n",
            "[[11 11 11]\n",
            " [16 16 16]\n",
            " [ 7  7  7]]\n",
            "[[11 11 11]\n",
            " [16 16 16]\n",
            " [ 7  7  7]]\n"
          ]
        }
      ]
    },
    {
      "cell_type": "markdown",
      "metadata": {
        "id": "juVk3vnjPu31"
      },
      "source": [
        "#### tensordot(): 텐서곱 계산"
      ]
    },
    {
      "cell_type": "code",
      "metadata": {
        "id": "3LrcLOcjPvNI",
        "colab": {
          "base_uri": "https://localhost:8080/"
        },
        "outputId": "6d08ffda-73fa-42d4-82c8-a4ef6a165409"
      },
      "source": [
        "print(a2)\n",
        "print(b2)\n",
        "\n",
        "print(np.tensordot(a2,b2)) # 그냥 곱에 대한 결과와 같음\n",
        "print(np.tensordot(a2,b2, axes=0))  # 축에 따라서 다 곱한 결과\n",
        "print(np.tensordot(a2,b2, axes=1))  # dot product 결과와 같음"
      ],
      "execution_count": 91,
      "outputs": [
        {
          "output_type": "stream",
          "name": "stdout",
          "text": [
            "[[2 4 5]\n",
            " [3 7 6]\n",
            " [5 1 1]]\n",
            "[[1 1 1]\n",
            " [1 1 1]\n",
            " [1 1 1]]\n",
            "34\n",
            "[[[[2 2 2]\n",
            "   [2 2 2]\n",
            "   [2 2 2]]\n",
            "\n",
            "  [[4 4 4]\n",
            "   [4 4 4]\n",
            "   [4 4 4]]\n",
            "\n",
            "  [[5 5 5]\n",
            "   [5 5 5]\n",
            "   [5 5 5]]]\n",
            "\n",
            "\n",
            " [[[3 3 3]\n",
            "   [3 3 3]\n",
            "   [3 3 3]]\n",
            "\n",
            "  [[7 7 7]\n",
            "   [7 7 7]\n",
            "   [7 7 7]]\n",
            "\n",
            "  [[6 6 6]\n",
            "   [6 6 6]\n",
            "   [6 6 6]]]\n",
            "\n",
            "\n",
            " [[[5 5 5]\n",
            "   [5 5 5]\n",
            "   [5 5 5]]\n",
            "\n",
            "  [[1 1 1]\n",
            "   [1 1 1]\n",
            "   [1 1 1]]\n",
            "\n",
            "  [[1 1 1]\n",
            "   [1 1 1]\n",
            "   [1 1 1]]]]\n",
            "[[11 11 11]\n",
            " [16 16 16]\n",
            " [ 7  7  7]]\n"
          ]
        }
      ]
    },
    {
      "cell_type": "markdown",
      "metadata": {
        "id": "UzmZhB5TNRMX"
      },
      "source": [
        "#### cross(): 벡터곱"
      ]
    },
    {
      "cell_type": "code",
      "metadata": {
        "id": "xvT2hy1FNRkU",
        "colab": {
          "base_uri": "https://localhost:8080/"
        },
        "outputId": "d4f0b518-e3b1-4697-9276-f84d99263eb2"
      },
      "source": [
        "x = [1,2,3]\n",
        "y = [4,5,6]\n",
        "\n",
        "print(np.cross(x,y)) # 6*2-5*3  , 3*4-6*1   , 5*1-4*2"
      ],
      "execution_count": 92,
      "outputs": [
        {
          "output_type": "stream",
          "name": "stdout",
          "text": [
            "[-3  6 -3]\n"
          ]
        }
      ]
    },
    {
      "cell_type": "markdown",
      "metadata": {
        "id": "SJVYmtrSO5YL"
      },
      "source": [
        "#### inner()/outer(): 내적/외적"
      ]
    },
    {
      "cell_type": "code",
      "metadata": {
        "id": "HJpomax7O5s6",
        "colab": {
          "base_uri": "https://localhost:8080/"
        },
        "outputId": "571462e9-0d9c-4077-b884-ad5b55811a77"
      },
      "source": [
        "print(a2)\n",
        "print(b2)\n",
        "\n",
        "print(np.inner(a2,b2)) # dot product 결과와 같음\n",
        "print(np.outer(a2,b2)) # outer product 결과"
      ],
      "execution_count": 93,
      "outputs": [
        {
          "output_type": "stream",
          "name": "stdout",
          "text": [
            "[[2 4 5]\n",
            " [3 7 6]\n",
            " [5 1 1]]\n",
            "[[1 1 1]\n",
            " [1 1 1]\n",
            " [1 1 1]]\n",
            "[[11 11 11]\n",
            " [16 16 16]\n",
            " [ 7  7  7]]\n",
            "[[2 2 2 2 2 2 2 2 2]\n",
            " [4 4 4 4 4 4 4 4 4]\n",
            " [5 5 5 5 5 5 5 5 5]\n",
            " [3 3 3 3 3 3 3 3 3]\n",
            " [7 7 7 7 7 7 7 7 7]\n",
            " [6 6 6 6 6 6 6 6 6]\n",
            " [5 5 5 5 5 5 5 5 5]\n",
            " [1 1 1 1 1 1 1 1 1]\n",
            " [1 1 1 1 1 1 1 1 1]]\n"
          ]
        }
      ]
    },
    {
      "cell_type": "markdown",
      "metadata": {
        "id": "9CIotQgI_RQ-"
      },
      "source": [
        "#### mean(): 평균 계산"
      ]
    },
    {
      "cell_type": "code",
      "metadata": {
        "id": "g96wAEOT_bUk",
        "colab": {
          "base_uri": "https://localhost:8080/"
        },
        "outputId": "10a77f34-91e1-46a4-c608-ab662321bd85"
      },
      "source": [
        "print(a2)\n",
        "print(np.mean(a2))\n",
        "print(np.mean(a2, axis=0))\n",
        "print(np.mean(a2, axis=1))"
      ],
      "execution_count": 95,
      "outputs": [
        {
          "output_type": "stream",
          "name": "stdout",
          "text": [
            "[[2 4 5]\n",
            " [3 7 6]\n",
            " [5 1 1]]\n",
            "3.7777777777777777\n",
            "[3.33333333 4.         4.        ]\n",
            "[3.66666667 5.33333333 2.33333333]\n"
          ]
        }
      ]
    },
    {
      "cell_type": "markdown",
      "metadata": {
        "id": "wAG_zijP_Z5o"
      },
      "source": [
        "#### std(): 표준 편차 계산"
      ]
    },
    {
      "cell_type": "code",
      "metadata": {
        "id": "hlpnuyug_TXA"
      },
      "source": [
        "print(a2)\n",
        "print(np.mean(a2))\n",
        "print(np.mean(a2, axis=0))\n",
        "print(np.mean(a2, axis=1))"
      ],
      "execution_count": null,
      "outputs": []
    },
    {
      "cell_type": "markdown",
      "metadata": {
        "id": "5FFTCCDaAEhx"
      },
      "source": [
        "#### var(): 분산 계산"
      ]
    },
    {
      "cell_type": "code",
      "metadata": {
        "id": "CRMNkSdzAGZG",
        "colab": {
          "base_uri": "https://localhost:8080/"
        },
        "outputId": "9af87606-ac13-4d92-9809-2a0c8f0a4c24"
      },
      "source": [
        "print(a2)\n",
        "print(np.var(a2))\n",
        "print(np.var(a2, axis=0))\n",
        "print(np.var(a2, axis=1))"
      ],
      "execution_count": 96,
      "outputs": [
        {
          "output_type": "stream",
          "name": "stdout",
          "text": [
            "[[2 4 5]\n",
            " [3 7 6]\n",
            " [5 1 1]]\n",
            "4.172839506172839\n",
            "[1.55555556 6.         4.66666667]\n",
            "[1.55555556 2.88888889 3.55555556]\n"
          ]
        }
      ]
    },
    {
      "cell_type": "markdown",
      "metadata": {
        "id": "QFeh-4tmCCrU"
      },
      "source": [
        "#### min(): 최소값"
      ]
    },
    {
      "cell_type": "code",
      "metadata": {
        "id": "SMNCfYBQCEtf",
        "colab": {
          "base_uri": "https://localhost:8080/"
        },
        "outputId": "3917d109-a584-4141-968b-863639cb1bd0"
      },
      "source": [
        "print(a2)\n",
        "print(np.min(a2))\n",
        "print(np.min(a2, axis=0))\n",
        "print(np.min(a2, axis=1))"
      ],
      "execution_count": 97,
      "outputs": [
        {
          "output_type": "stream",
          "name": "stdout",
          "text": [
            "[[2 4 5]\n",
            " [3 7 6]\n",
            " [5 1 1]]\n",
            "1\n",
            "[2 1 1]\n",
            "[2 3 1]\n"
          ]
        }
      ]
    },
    {
      "cell_type": "markdown",
      "metadata": {
        "id": "A3n_JBnBJ2bo"
      },
      "source": [
        "#### max(): 최대값"
      ]
    },
    {
      "cell_type": "code",
      "metadata": {
        "id": "FmuOFKGAJ6Pf",
        "colab": {
          "base_uri": "https://localhost:8080/"
        },
        "outputId": "c3eec55a-a0c8-4adb-e237-3812972c1843"
      },
      "source": [
        "print(a2)\n",
        "print(np.max(a2))\n",
        "print(np.max(a2, axis=0))\n",
        "print(np.max(a2, axis=1))"
      ],
      "execution_count": 98,
      "outputs": [
        {
          "output_type": "stream",
          "name": "stdout",
          "text": [
            "[[2 4 5]\n",
            " [3 7 6]\n",
            " [5 1 1]]\n",
            "7\n",
            "[5 7 6]\n",
            "[5 7 5]\n"
          ]
        }
      ]
    },
    {
      "cell_type": "markdown",
      "metadata": {
        "id": "PvGOKDP0J_5b"
      },
      "source": [
        "#### argmin(): 최소값 인덱스"
      ]
    },
    {
      "cell_type": "code",
      "metadata": {
        "id": "1ILP7L3yKCqA",
        "colab": {
          "base_uri": "https://localhost:8080/"
        },
        "outputId": "5c1c28e3-d325-40a5-ad16-a4d8e1232ea8"
      },
      "source": [
        "print(a2)\n",
        "print(np.argmin(a2))\n",
        "print(np.argmin(a2, axis=0))\n",
        "print(np.argmin(a2, axis=1))"
      ],
      "execution_count": 99,
      "outputs": [
        {
          "output_type": "stream",
          "name": "stdout",
          "text": [
            "[[2 4 5]\n",
            " [3 7 6]\n",
            " [5 1 1]]\n",
            "7\n",
            "[0 2 2]\n",
            "[0 0 1]\n"
          ]
        }
      ]
    },
    {
      "cell_type": "markdown",
      "metadata": {
        "id": "23IcSctIKbUa"
      },
      "source": [
        "#### argmax(): 최대값 인덱스"
      ]
    },
    {
      "cell_type": "code",
      "metadata": {
        "id": "2m21cfCFKd-Q",
        "colab": {
          "base_uri": "https://localhost:8080/"
        },
        "outputId": "b693c88c-c6dc-4bbd-9751-f867c1809392"
      },
      "source": [
        "print(a2)\n",
        "print(np.argmax(a2))\n",
        "print(np.argmax(a2, axis=0))\n",
        "print(np.argmax(a2, axis=1))"
      ],
      "execution_count": 100,
      "outputs": [
        {
          "output_type": "stream",
          "name": "stdout",
          "text": [
            "[[2 4 5]\n",
            " [3 7 6]\n",
            " [5 1 1]]\n",
            "4\n",
            "[2 1 1]\n",
            "[2 1 0]\n"
          ]
        }
      ]
    },
    {
      "cell_type": "markdown",
      "metadata": {
        "id": "3TjeNFQLKuZb"
      },
      "source": [
        "#### median(): 중앙값"
      ]
    },
    {
      "cell_type": "code",
      "metadata": {
        "id": "kSLN17bpKwv6",
        "colab": {
          "base_uri": "https://localhost:8080/"
        },
        "outputId": "e6a747d8-c12c-4b8e-cc19-66635e65c35e"
      },
      "source": [
        "print(a2)\n",
        "print(np.median(a2))\n",
        "print(np.median(a2, axis=0))\n",
        "print(np.median(a2, axis=1))"
      ],
      "execution_count": 101,
      "outputs": [
        {
          "output_type": "stream",
          "name": "stdout",
          "text": [
            "[[2 4 5]\n",
            " [3 7 6]\n",
            " [5 1 1]]\n",
            "4.0\n",
            "[3. 4. 5.]\n",
            "[4. 6. 1.]\n"
          ]
        }
      ]
    },
    {
      "cell_type": "markdown",
      "metadata": {
        "id": "df-Id-nhLs3L"
      },
      "source": [
        "#### percentile(): 백분위 수\n",
        "\n",
        "- 아래 그림은 20으로 나눠서 100까지로 표현했음. 리스트는 0,1,2,3\n",
        "\n"
      ]
    },
    {
      "cell_type": "markdown",
      "source": [
        "![image.png](data:image/png;base64,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)"
      ],
      "metadata": {
        "id": "M3M5zKdwkNTF"
      }
    },
    {
      "cell_type": "code",
      "metadata": {
        "id": "N-TCx9hnLvhK",
        "colab": {
          "base_uri": "https://localhost:8080/"
        },
        "outputId": "0d1f7488-ee7f-4253-ba53-193eab77c40b"
      },
      "source": [
        "a1 = np.array([0,1,2,3])\n",
        "print(a1)\n",
        "print(np.percentile(a1, [0, 20, 40, 60, 80, 100],interpolation = 'linear')) # \n",
        "print(np.percentile(a1, [0, 20, 40, 60, 80, 100],interpolation = 'higher'))\n",
        "print(np.percentile(a1, [0, 20, 40, 60, 80, 100],interpolation = 'lower'))\n",
        "print(np.percentile(a1, [0, 20, 40, 60, 80, 100],interpolation = 'nearest'))\n",
        "print(np.percentile(a1, [0, 20, 40, 60, 80, 100],interpolation = 'midpoint'))"
      ],
      "execution_count": 103,
      "outputs": [
        {
          "output_type": "stream",
          "name": "stdout",
          "text": [
            "[0 1 2 3]\n",
            "[0.  0.6 1.2 1.8 2.4 3. ]\n",
            "[0 1 2 2 3 3]\n",
            "[0 0 1 1 2 3]\n",
            "[0 1 1 2 2 3]\n",
            "[0.  0.5 1.5 1.5 2.5 3. ]\n"
          ]
        }
      ]
    },
    {
      "cell_type": "markdown",
      "metadata": {
        "id": "x0NnNsvvNDIs"
      },
      "source": [
        "#### any()\n",
        ": 하나라도 ture이면 true"
      ]
    },
    {
      "cell_type": "code",
      "metadata": {
        "id": "I1XDqsFxOMvA",
        "colab": {
          "base_uri": "https://localhost:8080/"
        },
        "outputId": "b99ea26f-36f4-46a7-8b2d-68b426627837"
      },
      "source": [
        "a2 = np.array([[False, False, False],\n",
        "              [False, True, True],\n",
        "              [False, True, True]])\n",
        "\n",
        "print(a2)\n",
        "print(np.any(a2))\n",
        "print(np.any(a2, axis=0))\n",
        "print(np.any(a2, axis=1))"
      ],
      "execution_count": 104,
      "outputs": [
        {
          "output_type": "stream",
          "name": "stdout",
          "text": [
            "[[False False False]\n",
            " [False  True  True]\n",
            " [False  True  True]]\n",
            "True\n",
            "[False  True  True]\n",
            "[False  True  True]\n"
          ]
        }
      ]
    },
    {
      "cell_type": "markdown",
      "metadata": {
        "id": "Uw-wjYgyONBZ"
      },
      "source": [
        "\n",
        "#### all()"
      ]
    },
    {
      "cell_type": "code",
      "metadata": {
        "id": "sXi2AHOHONYq",
        "colab": {
          "base_uri": "https://localhost:8080/"
        },
        "outputId": "aeedf86a-e133-4cda-ec96-fb285dc014d0"
      },
      "source": [
        "a2 = np.array([[False, False, True],\n",
        "              [True, True, True],\n",
        "              [False, True, True]])\n",
        "\n",
        "print(a2)\n",
        "print(np.all(a2))\n",
        "print(np.all(a2, axis=0))\n",
        "print(np.all(a2, axis=1))"
      ],
      "execution_count": 107,
      "outputs": [
        {
          "output_type": "stream",
          "name": "stdout",
          "text": [
            "[[False False  True]\n",
            " [ True  True  True]\n",
            " [False  True  True]]\n",
            "False\n",
            "[False False  True]\n",
            "[False  True False]\n"
          ]
        }
      ]
    },
    {
      "cell_type": "markdown",
      "metadata": {
        "id": "0n7lgzmUwqr1"
      },
      "source": [
        "### 비교 연산(Comparison Operators)\n"
      ]
    },
    {
      "cell_type": "markdown",
      "source": [
        "![KakaoTalk_20220326_192207661_03.jpg](data:image/jpeg;base64,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)"
      ],
      "metadata": {
        "id": "eMcjH7fCwqgm"
      }
    },
    {
      "cell_type": "code",
      "metadata": {
        "id": "E00V-nBTVnCu",
        "colab": {
          "base_uri": "https://localhost:8080/"
        },
        "outputId": "4981135e-224c-4dd9-e481-df5e78d8e2ff"
      },
      "source": [
        "a1 = np.arange(1,10)\n",
        "print(a1)\n",
        "\n",
        "print(a1 == 5)\n",
        "print(a1 < 5)"
      ],
      "execution_count": 108,
      "outputs": [
        {
          "output_type": "stream",
          "name": "stdout",
          "text": [
            "[1 2 3 4 5 6 7 8 9]\n",
            "[False False False False  True False False False False]\n",
            "[ True  True  True  True False False False False False]\n"
          ]
        }
      ]
    },
    {
      "cell_type": "code",
      "metadata": {
        "id": "3MwV1CU1WsWS",
        "colab": {
          "base_uri": "https://localhost:8080/"
        },
        "outputId": "e551ae06-31f5-403d-e947-f8c2da82c391"
      },
      "source": [
        "a2 = np.arange(1,10).reshape(3,3)\n",
        "print(a2)\n",
        "\n",
        "print(np.sum(a2))\n",
        "print(np.count_nonzero(a2>5))  # a2가 5이상인 것만 개수를 세기  \n",
        "print(np.sum(a2>5)) # 조건을 부여 a2가 5이상인 것만 개수를 세기\n",
        "print(np.sum(a2>5, axis=0))\n",
        "print(np.sum(a2>5, axis=1))"
      ],
      "execution_count": 112,
      "outputs": [
        {
          "output_type": "stream",
          "name": "stdout",
          "text": [
            "[[1 2 3]\n",
            " [4 5 6]\n",
            " [7 8 9]]\n",
            "45\n",
            "4\n",
            "4\n",
            "[1 1 2]\n",
            "[0 1 3]\n"
          ]
        }
      ]
    },
    {
      "cell_type": "code",
      "metadata": {
        "id": "D4cuMoyEPn8R",
        "colab": {
          "base_uri": "https://localhost:8080/"
        },
        "outputId": "799f57b1-1102-4a0b-b65b-e60e3c106dbc"
      },
      "source": [
        "print(np.any(a2))\n",
        "print(np.any(a2>5, axis=0))\n",
        "print(np.any(a2>5, axis=1))"
      ],
      "execution_count": 113,
      "outputs": [
        {
          "output_type": "stream",
          "name": "stdout",
          "text": [
            "True\n",
            "[ True  True  True]\n",
            "[False  True  True]\n"
          ]
        }
      ]
    },
    {
      "cell_type": "markdown",
      "source": [
        "- 비교 범용 함수"
      ],
      "metadata": {
        "id": "BahwsjgKneoo"
      }
    },
    {
      "cell_type": "markdown",
      "source": [
        "![KakaoTalk_20220326_192207661_04.jpg](data:image/jpeg;base64,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)"
      ],
      "metadata": {
        "id": "a_gYVu-gwt8v"
      }
    },
    {
      "cell_type": "code",
      "metadata": {
        "id": "af9VSc6FyMBh",
        "colab": {
          "base_uri": "https://localhost:8080/"
        },
        "outputId": "31afe6de-58dc-4b79-8c9d-e141c1b790de"
      },
      "source": [
        "a1 = np.array([1,2,3,4,5])\n",
        "print(a1)\n",
        "b1 = np.array([1,2,3,3,4])\n",
        "print(b1)\n",
        "print(np.isclose(a1, b1))  # 값이 얼마나 가깝냐. 가까우면 true   # 범위 지정 가능"
      ],
      "execution_count": 114,
      "outputs": [
        {
          "output_type": "stream",
          "name": "stdout",
          "text": [
            "[1 2 3 4 5]\n",
            "[1 2 3 3 4]\n",
            "[ True  True  True False False]\n"
          ]
        }
      ]
    },
    {
      "cell_type": "code",
      "metadata": {
        "id": "ZV1-8DkUHOZq",
        "colab": {
          "base_uri": "https://localhost:8080/"
        },
        "outputId": "ce4325ba-6d60-4da1-c552-e1929a2eb7a6"
      },
      "source": [
        "a1 = np.array([np.nan, 2, np.inf, 4, np.NINF])\n",
        "print(a1)\n",
        "print(np.isnan(a1))\n",
        "print(np.isinf(a1))\n",
        "print(np.isfinite(a1))  # 나노 넘버가 아닌 것"
      ],
      "execution_count": 116,
      "outputs": [
        {
          "output_type": "stream",
          "name": "stdout",
          "text": [
            "[ nan   2.  inf   4. -inf]\n",
            "[ True False False False False]\n",
            "[False False  True False  True]\n",
            "[False  True False  True False]\n"
          ]
        }
      ]
    },
    {
      "cell_type": "markdown",
      "metadata": {
        "id": "4BHMetMlYmt-"
      },
      "source": [
        "#### 불리언 연산자(Boolean Operators)\n"
      ]
    },
    {
      "cell_type": "code",
      "source": [
        "a2 = np.arange(1,10).reshape(3,3)\n",
        "print(a2)\n",
        "\n",
        "print((a2>5) & (a2<8))\n",
        "\n",
        "print(a2[(a2>5) & (a2<8)])  # a2 인덱싱 값에 대한 불리언 조건으로도 사용 가능"
      ],
      "metadata": {
        "colab": {
          "base_uri": "https://localhost:8080/"
        },
        "id": "oF1RbCbBoFVA",
        "outputId": "20269ad1-47b3-42e2-fb03-4b14df96bbd2"
      },
      "execution_count": 118,
      "outputs": [
        {
          "output_type": "stream",
          "name": "stdout",
          "text": [
            "[[1 2 3]\n",
            " [4 5 6]\n",
            " [7 8 9]]\n",
            "[[False False False]\n",
            " [False False  True]\n",
            " [ True False False]]\n",
            "[6 7]\n"
          ]
        }
      ]
    },
    {
      "cell_type": "code",
      "source": [
        "print((a2>5) | (a2<8))\n",
        "print(a2[(a2>5) | (a2<8)]) \n",
        "\n",
        "print((a2>5) ^ (a2<8))     # XOR\n",
        "print(a2[(a2>5) ^ (a2<8)]) \n",
        "\n",
        "print(~(a2>5))     # NOT\n",
        "print(a2[~(a2>5)]) "
      ],
      "metadata": {
        "colab": {
          "base_uri": "https://localhost:8080/"
        },
        "id": "rzoCupAioih6",
        "outputId": "9f16b8b5-1540-443d-ece1-b02f6cfe9454"
      },
      "execution_count": 119,
      "outputs": [
        {
          "output_type": "stream",
          "name": "stdout",
          "text": [
            "[[ True  True  True]\n",
            " [ True  True  True]\n",
            " [ True  True  True]]\n",
            "[1 2 3 4 5 6 7 8 9]\n",
            "[[ True  True  True]\n",
            " [ True  True False]\n",
            " [False  True  True]]\n",
            "[1 2 3 4 5 8 9]\n",
            "[[ True  True  True]\n",
            " [ True  True False]\n",
            " [False False False]]\n",
            "[1 2 3 4 5]\n"
          ]
        }
      ]
    },
    {
      "cell_type": "markdown",
      "metadata": {
        "id": "FlQJVeGBxIFw"
      },
      "source": [
        "### 배열 정렬"
      ]
    },
    {
      "cell_type": "markdown",
      "source": [
        "np.sort(a1) 을 사용할 경우 원본 데이터가 바뀌지 않음"
      ],
      "metadata": {
        "id": "XGBgsaPkpRXv"
      }
    },
    {
      "cell_type": "code",
      "metadata": {
        "id": "x0sodUMqLU37",
        "colab": {
          "base_uri": "https://localhost:8080/"
        },
        "outputId": "73e7abfa-d7be-49f0-ed9c-193e32f3472a"
      },
      "source": [
        "a1 = np.random.randint(1,10,size=10)\n",
        "print(a1)\n",
        "print(np.sort(a1))\n",
        "print(np.argsort(a1))  # 정렬 인덱스 위치값 출력"
      ],
      "execution_count": 123,
      "outputs": [
        {
          "output_type": "stream",
          "name": "stdout",
          "text": [
            "[9 4 8 2 4 2 2 7 1 9]\n",
            "[1 2 2 2 4 4 7 8 9 9]\n",
            "[8 3 5 6 1 4 7 2 0 9]\n"
          ]
        }
      ]
    },
    {
      "cell_type": "markdown",
      "source": [
        "a1.sort() 를 해야 원본 데이터가 변경됌"
      ],
      "metadata": {
        "id": "ViDVrrOrpaHX"
      }
    },
    {
      "cell_type": "code",
      "metadata": {
        "id": "FO_sO5POzeMp",
        "colab": {
          "base_uri": "https://localhost:8080/"
        },
        "outputId": "c8029c73-aad8-4d85-baee-03d55d7342cb"
      },
      "source": [
        "print(a1)\n",
        "print(a1.sort())\n",
        "print(a1)"
      ],
      "execution_count": 124,
      "outputs": [
        {
          "output_type": "stream",
          "name": "stdout",
          "text": [
            "[9 4 8 2 4 2 2 7 1 9]\n",
            "None\n",
            "[1 2 2 2 4 4 7 8 9 9]\n"
          ]
        }
      ]
    },
    {
      "cell_type": "code",
      "source": [
        "# 2차원에 대해서도 가능\n",
        "a2 = np.random.randint(1,10, size = (3,3))\n",
        "print(a2)\n",
        "print(np.sort(a2))\n",
        "\n",
        "# 축을 기준으로 정렬 가능\n",
        "print(np.sort(a2, axis=0))\n",
        "print(np.sort(a2, axis=1))"
      ],
      "metadata": {
        "colab": {
          "base_uri": "https://localhost:8080/"
        },
        "id": "6PyHp6miprUw",
        "outputId": "58a511a5-d97d-4fe1-d56f-f0c95e41d9f1"
      },
      "execution_count": 126,
      "outputs": [
        {
          "output_type": "stream",
          "name": "stdout",
          "text": [
            "[[7 9 1]\n",
            " [5 4 3]\n",
            " [3 7 6]]\n",
            "[[1 7 9]\n",
            " [3 4 5]\n",
            " [3 6 7]]\n",
            "[[3 4 1]\n",
            " [5 7 3]\n",
            " [7 9 6]]\n",
            "[[1 7 9]\n",
            " [3 4 5]\n",
            " [3 6 7]]\n"
          ]
        }
      ]
    },
    {
      "cell_type": "markdown",
      "metadata": {
        "id": "yYSItPz_00sZ"
      },
      "source": [
        "#### 부분 정렬\n",
        "\n",
        "* `partition()`: 배열에서 k개의 작은 값을 반환"
      ]
    },
    {
      "cell_type": "code",
      "metadata": {
        "id": "QQwov4N00YFP",
        "colab": {
          "base_uri": "https://localhost:8080/"
        },
        "outputId": "0aa33453-40b5-43af-8717-64531bb9662b"
      },
      "source": [
        "a1 = np.random.randint(1, 10, size=10)\n",
        "print(a1)\n",
        "print(np.partition(a1, 3))"
      ],
      "execution_count": 127,
      "outputs": [
        {
          "output_type": "stream",
          "name": "stdout",
          "text": [
            "[1 9 3 1 4 6 2 8 5 6]\n",
            "[1 1 2 3 4 6 9 8 5 6]\n"
          ]
        }
      ]
    },
    {
      "cell_type": "code",
      "source": [
        "a2 = np.random.randint(1, 10, size=(5,5))\n",
        "print(a2)\n",
        "print(np.partition(a2, 3))\n",
        "print(np.partition(a2, 3, axis=0))\n",
        "print(np.partition(a2, 3, axis=1))"
      ],
      "metadata": {
        "colab": {
          "base_uri": "https://localhost:8080/"
        },
        "id": "FQ3-jJrQqVEZ",
        "outputId": "d3fe2a2f-3932-4f19-8a3c-267369660020"
      },
      "execution_count": 135,
      "outputs": [
        {
          "output_type": "stream",
          "name": "stdout",
          "text": [
            "[[9 4 7 3 8]\n",
            " [1 9 3 4 1]\n",
            " [7 5 4 1 3]\n",
            " [4 1 3 4 4]\n",
            " [6 1 6 3 8]]\n",
            "[[3 7 4 8 9]\n",
            " [1 1 3 4 9]\n",
            " [1 3 4 5 7]\n",
            " [1 3 4 4 4]\n",
            " [3 6 1 6 8]]\n",
            "[[4 1 3 1 4]\n",
            " [6 1 4 3 3]\n",
            " [1 4 3 3 1]\n",
            " [7 5 6 4 8]\n",
            " [9 9 7 4 8]]\n",
            "[[3 7 4 8 9]\n",
            " [1 1 3 4 9]\n",
            " [1 3 4 5 7]\n",
            " [1 3 4 4 4]\n",
            " [3 6 1 6 8]]\n"
          ]
        }
      ]
    },
    {
      "cell_type": "markdown",
      "metadata": {
        "id": "77DSA72ML5cI"
      },
      "source": [
        "## 배열 입출력\n",
        "\n",
        "파일에 저장, 로드 등..\n"
      ]
    },
    {
      "cell_type": "markdown",
      "source": [
        "![KakaoTalk_20220326_192207661_05.jpg](data:image/jpeg;base64,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)"
      ],
      "metadata": {
        "id": "AGbq5AZmrOhP"
      }
    },
    {
      "cell_type": "code",
      "metadata": {
        "id": "da-Mm_gzIs7U",
        "colab": {
          "base_uri": "https://localhost:8080/"
        },
        "outputId": "4e190f25-b6cd-4aec-bb88-57c3bbc49a5b"
      },
      "source": [
        "a2 = np.random.randint(1,10,size=(5,5))\n",
        "print(a2)\n",
        "np.save(\"a\", a2)  # 파일명과 저장할 값"
      ],
      "execution_count": 137,
      "outputs": [
        {
          "output_type": "stream",
          "name": "stdout",
          "text": [
            "[[5 8 7 3 5]\n",
            " [9 6 3 9 9]\n",
            " [6 4 3 5 9]\n",
            " [2 3 1 4 7]\n",
            " [5 3 2 5 2]]\n"
          ]
        }
      ]
    },
    {
      "cell_type": "code",
      "metadata": {
        "id": "pFOWyDvAsf11",
        "colab": {
          "base_uri": "https://localhost:8080/"
        },
        "outputId": "ddd0c4ef-1f17-4254-f15f-a0b79a4149a9"
      },
      "source": [
        "!ls  # 파일 확인"
      ],
      "execution_count": 138,
      "outputs": [
        {
          "output_type": "stream",
          "name": "stdout",
          "text": [
            "a.npy  sample_data\n"
          ]
        }
      ]
    },
    {
      "cell_type": "code",
      "metadata": {
        "id": "Hvb_ilyisoIV",
        "colab": {
          "base_uri": "https://localhost:8080/"
        },
        "outputId": "d6d6e7fc-c340-43b4-a08b-6ca744a3af74"
      },
      "source": [
        "# savez : 여러개의 파일을 저장\n",
        "\n",
        "b2 = np.random.randint(1,10, size=(5,5))\n",
        "print(b2)\n",
        "np.savez(\"ab\", a2, b2)"
      ],
      "execution_count": 139,
      "outputs": [
        {
          "output_type": "stream",
          "name": "stdout",
          "text": [
            "[[6 1 8 9 9]\n",
            " [8 2 9 9 2]\n",
            " [5 6 6 8 6]\n",
            " [2 6 4 2 8]\n",
            " [4 2 9 8 3]]\n"
          ]
        }
      ]
    },
    {
      "cell_type": "code",
      "metadata": {
        "id": "ArWZfL31s1wU",
        "colab": {
          "base_uri": "https://localhost:8080/"
        },
        "outputId": "a3c57696-68e6-4eaf-c9d0-f6760a506243"
      },
      "source": [
        "!ls  # 확장자 npz"
      ],
      "execution_count": 140,
      "outputs": [
        {
          "output_type": "stream",
          "name": "stdout",
          "text": [
            "ab.npz\ta.npy  sample_data\n"
          ]
        }
      ]
    },
    {
      "cell_type": "code",
      "metadata": {
        "id": "che4cEJEs2Tr",
        "colab": {
          "base_uri": "https://localhost:8080/"
        },
        "outputId": "2fd0eb91-ca77-41a8-8c7a-dcb3ea18aeda"
      },
      "source": [
        "# 파일을 불러오기\n",
        "\n",
        "npy = np.load(\"a.npy\")\n",
        "print(npy)"
      ],
      "execution_count": 142,
      "outputs": [
        {
          "output_type": "stream",
          "name": "stdout",
          "text": [
            "[[5 8 7 3 5]\n",
            " [9 6 3 9 9]\n",
            " [6 4 3 5 9]\n",
            " [2 3 1 4 7]\n",
            " [5 3 2 5 2]]\n"
          ]
        }
      ]
    },
    {
      "cell_type": "code",
      "metadata": {
        "id": "X2yIUsYvtMj6",
        "colab": {
          "base_uri": "https://localhost:8080/"
        },
        "outputId": "472d6420-bd4b-4c5f-979e-a0ca75b10aa9"
      },
      "source": [
        "# 여러개의 파일을 불러오기\n",
        "npz = np.load(\"ab.npz\")\n",
        "print(npz.files)\n",
        "print(npz['arr_0'])  # 따로 접근 가능\n",
        "print(npz['arr_1'])"
      ],
      "execution_count": 143,
      "outputs": [
        {
          "output_type": "stream",
          "name": "stdout",
          "text": [
            "['arr_0', 'arr_1']\n",
            "[[5 8 7 3 5]\n",
            " [9 6 3 9 9]\n",
            " [6 4 3 5 9]\n",
            " [2 3 1 4 7]\n",
            " [5 3 2 5 2]]\n",
            "[[6 1 8 9 9]\n",
            " [8 2 9 9 2]\n",
            " [5 6 6 8 6]\n",
            " [2 6 4 2 8]\n",
            " [4 2 9 8 3]]\n"
          ]
        }
      ]
    },
    {
      "cell_type": "code",
      "metadata": {
        "id": "Yj5ec-CYtaH1",
        "colab": {
          "base_uri": "https://localhost:8080/"
        },
        "outputId": "27f96a2d-480e-4410-9a29-c1149fbd5f22"
      },
      "source": [
        "# list가 아니라 텍스트로 저장\n",
        "print(a2)  \n",
        "np.savetxt(\"a.csv\", a2, delimiter=\",\")  # ,를 구분자자로 사용"
      ],
      "execution_count": 144,
      "outputs": [
        {
          "output_type": "stream",
          "name": "stdout",
          "text": [
            "[[5 8 7 3 5]\n",
            " [9 6 3 9 9]\n",
            " [6 4 3 5 9]\n",
            " [2 3 1 4 7]\n",
            " [5 3 2 5 2]]\n"
          ]
        }
      ]
    },
    {
      "cell_type": "code",
      "metadata": {
        "id": "_NIDrc-VuPmv",
        "colab": {
          "base_uri": "https://localhost:8080/"
        },
        "outputId": "bd1fcb90-ce53-4ce9-8921-e3f021287c64"
      },
      "source": [
        "!ls"
      ],
      "execution_count": 145,
      "outputs": [
        {
          "output_type": "stream",
          "name": "stdout",
          "text": [
            "ab.npz\ta.csv  a.npy  sample_data\n"
          ]
        }
      ]
    },
    {
      "cell_type": "code",
      "metadata": {
        "id": "bPhmIoVBuQMf",
        "colab": {
          "base_uri": "https://localhost:8080/"
        },
        "outputId": "e0e09ab6-a807-483e-9798-d064f35231f2"
      },
      "source": [
        "# 터미널 명령어\n",
        "!cat a.csv"
      ],
      "execution_count": 146,
      "outputs": [
        {
          "output_type": "stream",
          "name": "stdout",
          "text": [
            "5.000000000000000000e+00,8.000000000000000000e+00,7.000000000000000000e+00,3.000000000000000000e+00,5.000000000000000000e+00\n",
            "9.000000000000000000e+00,6.000000000000000000e+00,3.000000000000000000e+00,9.000000000000000000e+00,9.000000000000000000e+00\n",
            "6.000000000000000000e+00,4.000000000000000000e+00,3.000000000000000000e+00,5.000000000000000000e+00,9.000000000000000000e+00\n",
            "2.000000000000000000e+00,3.000000000000000000e+00,1.000000000000000000e+00,4.000000000000000000e+00,7.000000000000000000e+00\n",
            "5.000000000000000000e+00,3.000000000000000000e+00,2.000000000000000000e+00,5.000000000000000000e+00,2.000000000000000000e+00\n"
          ]
        }
      ]
    },
    {
      "cell_type": "code",
      "metadata": {
        "id": "FeB2p4azuTDv",
        "colab": {
          "base_uri": "https://localhost:8080/"
        },
        "outputId": "286db3ed-b0f3-4a92-f9fa-f7abc87e4c67"
      },
      "source": [
        "# 불러오기\n",
        "csv = np.loadtxt(\"a.csv\", delimiter=\",\")\n",
        "csv"
      ],
      "execution_count": 148,
      "outputs": [
        {
          "output_type": "execute_result",
          "data": {
            "text/plain": [
              "array([[5., 8., 7., 3., 5.],\n",
              "       [9., 6., 3., 9., 9.],\n",
              "       [6., 4., 3., 5., 9.],\n",
              "       [2., 3., 1., 4., 7.],\n",
              "       [5., 3., 2., 5., 2.]])"
            ]
          },
          "metadata": {},
          "execution_count": 148
        }
      ]
    },
    {
      "cell_type": "code",
      "metadata": {
        "id": "IUg8Vg4fuxR5",
        "colab": {
          "base_uri": "https://localhost:8080/"
        },
        "outputId": "cc37d63c-70e6-4a66-8a42-7a6fa292a56e"
      },
      "source": [
        "# 포맷 지정\n",
        "\n",
        "print(b2)\n",
        "np.savetxt(\"b.csv\", b2, delimiter=\",\", fmt = '%.2e', header = 'c1,c2,c3,c4,c5')  \n",
        "# format을 소수점 2번째까지. header: 컬럼명"
      ],
      "execution_count": 149,
      "outputs": [
        {
          "output_type": "stream",
          "name": "stdout",
          "text": [
            "[[6 1 8 9 9]\n",
            " [8 2 9 9 2]\n",
            " [5 6 6 8 6]\n",
            " [2 6 4 2 8]\n",
            " [4 2 9 8 3]]\n"
          ]
        }
      ]
    },
    {
      "cell_type": "code",
      "metadata": {
        "id": "lIK5dSv6vtm2",
        "colab": {
          "base_uri": "https://localhost:8080/"
        },
        "outputId": "defa8dcb-0431-49cf-fc1f-c041f8683c02"
      },
      "source": [
        "!cat b.csv"
      ],
      "execution_count": 150,
      "outputs": [
        {
          "output_type": "stream",
          "name": "stdout",
          "text": [
            "# c1,c2,c3,c4,c5\n",
            "6.00e+00,1.00e+00,8.00e+00,9.00e+00,9.00e+00\n",
            "8.00e+00,2.00e+00,9.00e+00,9.00e+00,2.00e+00\n",
            "5.00e+00,6.00e+00,6.00e+00,8.00e+00,6.00e+00\n",
            "2.00e+00,6.00e+00,4.00e+00,2.00e+00,8.00e+00\n",
            "4.00e+00,2.00e+00,9.00e+00,8.00e+00,3.00e+00\n"
          ]
        }
      ]
    },
    {
      "cell_type": "code",
      "metadata": {
        "id": "l4O-gVxdv8-d",
        "colab": {
          "base_uri": "https://localhost:8080/"
        },
        "outputId": "ab7e2a92-c4cd-443e-be50-80182c45b5a2"
      },
      "source": [
        "csv = np.loadtxt('b.csv', delimiter=\",\")\n",
        "csv"
      ],
      "execution_count": 152,
      "outputs": [
        {
          "output_type": "execute_result",
          "data": {
            "text/plain": [
              "array([[6., 1., 8., 9., 9.],\n",
              "       [8., 2., 9., 9., 2.],\n",
              "       [5., 6., 6., 8., 6.],\n",
              "       [2., 6., 4., 2., 8.],\n",
              "       [4., 2., 9., 8., 3.]])"
            ]
          },
          "metadata": {},
          "execution_count": 152
        }
      ]
    },
    {
      "cell_type": "markdown",
      "metadata": {
        "id": "JM2Ghx2NGloN"
      },
      "source": [
        "\n",
        "\n",
        "---\n",
        "\n"
      ]
    }
  ]
}